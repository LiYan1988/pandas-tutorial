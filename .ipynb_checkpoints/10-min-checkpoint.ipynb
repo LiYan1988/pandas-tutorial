{
 "cells": [
  {
   "cell_type": "code",
   "execution_count": 1,
   "metadata": {},
   "outputs": [],
   "source": [
    "import pandas as pd\n",
    "import numpy as np"
   ]
  },
  {
   "cell_type": "code",
   "execution_count": 2,
   "metadata": {},
   "outputs": [],
   "source": [
    "dates = pd.date_range('20180401', periods=6)"
   ]
  },
  {
   "cell_type": "code",
   "execution_count": 3,
   "metadata": {},
   "outputs": [
    {
     "data": {
      "text/plain": [
       "DatetimeIndex(['2018-04-01', '2018-04-02', '2018-04-03', '2018-04-04',\n",
       "               '2018-04-05', '2018-04-06'],\n",
       "              dtype='datetime64[ns]', freq='D')"
      ]
     },
     "execution_count": 3,
     "metadata": {},
     "output_type": "execute_result"
    }
   ],
   "source": [
    "dates"
   ]
  },
  {
   "cell_type": "code",
   "execution_count": 4,
   "metadata": {},
   "outputs": [],
   "source": [
    "df = pd.DataFrame(np.random.randn(6, 4), index=dates, columns=list('ABCD'))"
   ]
  },
  {
   "cell_type": "code",
   "execution_count": 5,
   "metadata": {},
   "outputs": [
    {
     "data": {
      "text/html": [
       "<div>\n",
       "<style scoped>\n",
       "    .dataframe tbody tr th:only-of-type {\n",
       "        vertical-align: middle;\n",
       "    }\n",
       "\n",
       "    .dataframe tbody tr th {\n",
       "        vertical-align: top;\n",
       "    }\n",
       "\n",
       "    .dataframe thead th {\n",
       "        text-align: right;\n",
       "    }\n",
       "</style>\n",
       "<table border=\"1\" class=\"dataframe\">\n",
       "  <thead>\n",
       "    <tr style=\"text-align: right;\">\n",
       "      <th></th>\n",
       "      <th>A</th>\n",
       "      <th>B</th>\n",
       "      <th>C</th>\n",
       "      <th>D</th>\n",
       "    </tr>\n",
       "  </thead>\n",
       "  <tbody>\n",
       "    <tr>\n",
       "      <th>2018-04-01</th>\n",
       "      <td>-0.715575</td>\n",
       "      <td>0.272446</td>\n",
       "      <td>0.070799</td>\n",
       "      <td>2.208649</td>\n",
       "    </tr>\n",
       "    <tr>\n",
       "      <th>2018-04-02</th>\n",
       "      <td>-0.870368</td>\n",
       "      <td>-0.047439</td>\n",
       "      <td>-0.320237</td>\n",
       "      <td>-0.999550</td>\n",
       "    </tr>\n",
       "    <tr>\n",
       "      <th>2018-04-03</th>\n",
       "      <td>0.061956</td>\n",
       "      <td>-0.536326</td>\n",
       "      <td>1.355201</td>\n",
       "      <td>0.232113</td>\n",
       "    </tr>\n",
       "    <tr>\n",
       "      <th>2018-04-04</th>\n",
       "      <td>0.417430</td>\n",
       "      <td>-0.065861</td>\n",
       "      <td>-0.144255</td>\n",
       "      <td>1.695813</td>\n",
       "    </tr>\n",
       "    <tr>\n",
       "      <th>2018-04-05</th>\n",
       "      <td>2.058015</td>\n",
       "      <td>0.420014</td>\n",
       "      <td>0.650237</td>\n",
       "      <td>0.835169</td>\n",
       "    </tr>\n",
       "    <tr>\n",
       "      <th>2018-04-06</th>\n",
       "      <td>-0.180614</td>\n",
       "      <td>-0.976017</td>\n",
       "      <td>0.369353</td>\n",
       "      <td>-0.578492</td>\n",
       "    </tr>\n",
       "  </tbody>\n",
       "</table>\n",
       "</div>"
      ],
      "text/plain": [
       "                   A         B         C         D\n",
       "2018-04-01 -0.715575  0.272446  0.070799  2.208649\n",
       "2018-04-02 -0.870368 -0.047439 -0.320237 -0.999550\n",
       "2018-04-03  0.061956 -0.536326  1.355201  0.232113\n",
       "2018-04-04  0.417430 -0.065861 -0.144255  1.695813\n",
       "2018-04-05  2.058015  0.420014  0.650237  0.835169\n",
       "2018-04-06 -0.180614 -0.976017  0.369353 -0.578492"
      ]
     },
     "execution_count": 5,
     "metadata": {},
     "output_type": "execute_result"
    }
   ],
   "source": [
    "df"
   ]
  },
  {
   "cell_type": "code",
   "execution_count": 6,
   "metadata": {},
   "outputs": [
    {
     "data": {
      "text/plain": [
       "A    float64\n",
       "B    float64\n",
       "C    float64\n",
       "D    float64\n",
       "dtype: object"
      ]
     },
     "execution_count": 6,
     "metadata": {},
     "output_type": "execute_result"
    }
   ],
   "source": [
    "df.dtypes"
   ]
  },
  {
   "cell_type": "code",
   "execution_count": 7,
   "metadata": {},
   "outputs": [
    {
     "data": {
      "text/html": [
       "<div>\n",
       "<style scoped>\n",
       "    .dataframe tbody tr th:only-of-type {\n",
       "        vertical-align: middle;\n",
       "    }\n",
       "\n",
       "    .dataframe tbody tr th {\n",
       "        vertical-align: top;\n",
       "    }\n",
       "\n",
       "    .dataframe thead th {\n",
       "        text-align: right;\n",
       "    }\n",
       "</style>\n",
       "<table border=\"1\" class=\"dataframe\">\n",
       "  <thead>\n",
       "    <tr style=\"text-align: right;\">\n",
       "      <th></th>\n",
       "      <th>A</th>\n",
       "      <th>B</th>\n",
       "      <th>C</th>\n",
       "      <th>D</th>\n",
       "    </tr>\n",
       "  </thead>\n",
       "  <tbody>\n",
       "    <tr>\n",
       "      <th>2018-04-01</th>\n",
       "      <td>-0.715575</td>\n",
       "      <td>0.272446</td>\n",
       "      <td>0.070799</td>\n",
       "      <td>2.208649</td>\n",
       "    </tr>\n",
       "    <tr>\n",
       "      <th>2018-04-02</th>\n",
       "      <td>-0.870368</td>\n",
       "      <td>-0.047439</td>\n",
       "      <td>-0.320237</td>\n",
       "      <td>-0.999550</td>\n",
       "    </tr>\n",
       "    <tr>\n",
       "      <th>2018-04-03</th>\n",
       "      <td>0.061956</td>\n",
       "      <td>-0.536326</td>\n",
       "      <td>1.355201</td>\n",
       "      <td>0.232113</td>\n",
       "    </tr>\n",
       "    <tr>\n",
       "      <th>2018-04-04</th>\n",
       "      <td>0.417430</td>\n",
       "      <td>-0.065861</td>\n",
       "      <td>-0.144255</td>\n",
       "      <td>1.695813</td>\n",
       "    </tr>\n",
       "    <tr>\n",
       "      <th>2018-04-05</th>\n",
       "      <td>2.058015</td>\n",
       "      <td>0.420014</td>\n",
       "      <td>0.650237</td>\n",
       "      <td>0.835169</td>\n",
       "    </tr>\n",
       "  </tbody>\n",
       "</table>\n",
       "</div>"
      ],
      "text/plain": [
       "                   A         B         C         D\n",
       "2018-04-01 -0.715575  0.272446  0.070799  2.208649\n",
       "2018-04-02 -0.870368 -0.047439 -0.320237 -0.999550\n",
       "2018-04-03  0.061956 -0.536326  1.355201  0.232113\n",
       "2018-04-04  0.417430 -0.065861 -0.144255  1.695813\n",
       "2018-04-05  2.058015  0.420014  0.650237  0.835169"
      ]
     },
     "execution_count": 7,
     "metadata": {},
     "output_type": "execute_result"
    }
   ],
   "source": [
    "df.head()"
   ]
  },
  {
   "cell_type": "code",
   "execution_count": 8,
   "metadata": {},
   "outputs": [
    {
     "data": {
      "text/html": [
       "<div>\n",
       "<style scoped>\n",
       "    .dataframe tbody tr th:only-of-type {\n",
       "        vertical-align: middle;\n",
       "    }\n",
       "\n",
       "    .dataframe tbody tr th {\n",
       "        vertical-align: top;\n",
       "    }\n",
       "\n",
       "    .dataframe thead th {\n",
       "        text-align: right;\n",
       "    }\n",
       "</style>\n",
       "<table border=\"1\" class=\"dataframe\">\n",
       "  <thead>\n",
       "    <tr style=\"text-align: right;\">\n",
       "      <th></th>\n",
       "      <th>A</th>\n",
       "      <th>B</th>\n",
       "      <th>C</th>\n",
       "      <th>D</th>\n",
       "    </tr>\n",
       "  </thead>\n",
       "  <tbody>\n",
       "    <tr>\n",
       "      <th>2018-04-02</th>\n",
       "      <td>-0.870368</td>\n",
       "      <td>-0.047439</td>\n",
       "      <td>-0.320237</td>\n",
       "      <td>-0.999550</td>\n",
       "    </tr>\n",
       "    <tr>\n",
       "      <th>2018-04-03</th>\n",
       "      <td>0.061956</td>\n",
       "      <td>-0.536326</td>\n",
       "      <td>1.355201</td>\n",
       "      <td>0.232113</td>\n",
       "    </tr>\n",
       "    <tr>\n",
       "      <th>2018-04-04</th>\n",
       "      <td>0.417430</td>\n",
       "      <td>-0.065861</td>\n",
       "      <td>-0.144255</td>\n",
       "      <td>1.695813</td>\n",
       "    </tr>\n",
       "    <tr>\n",
       "      <th>2018-04-05</th>\n",
       "      <td>2.058015</td>\n",
       "      <td>0.420014</td>\n",
       "      <td>0.650237</td>\n",
       "      <td>0.835169</td>\n",
       "    </tr>\n",
       "    <tr>\n",
       "      <th>2018-04-06</th>\n",
       "      <td>-0.180614</td>\n",
       "      <td>-0.976017</td>\n",
       "      <td>0.369353</td>\n",
       "      <td>-0.578492</td>\n",
       "    </tr>\n",
       "  </tbody>\n",
       "</table>\n",
       "</div>"
      ],
      "text/plain": [
       "                   A         B         C         D\n",
       "2018-04-02 -0.870368 -0.047439 -0.320237 -0.999550\n",
       "2018-04-03  0.061956 -0.536326  1.355201  0.232113\n",
       "2018-04-04  0.417430 -0.065861 -0.144255  1.695813\n",
       "2018-04-05  2.058015  0.420014  0.650237  0.835169\n",
       "2018-04-06 -0.180614 -0.976017  0.369353 -0.578492"
      ]
     },
     "execution_count": 8,
     "metadata": {},
     "output_type": "execute_result"
    }
   ],
   "source": [
    "df.tail()"
   ]
  },
  {
   "cell_type": "code",
   "execution_count": 9,
   "metadata": {},
   "outputs": [
    {
     "data": {
      "text/plain": [
       "DatetimeIndex(['2018-04-01', '2018-04-02', '2018-04-03', '2018-04-04',\n",
       "               '2018-04-05', '2018-04-06'],\n",
       "              dtype='datetime64[ns]', freq='D')"
      ]
     },
     "execution_count": 9,
     "metadata": {},
     "output_type": "execute_result"
    }
   ],
   "source": [
    "df.index"
   ]
  },
  {
   "cell_type": "code",
   "execution_count": 10,
   "metadata": {},
   "outputs": [
    {
     "data": {
      "text/plain": [
       "array([[-0.71557529,  0.2724461 ,  0.07079879,  2.20864944],\n",
       "       [-0.87036759, -0.04743935, -0.32023683, -0.99954957],\n",
       "       [ 0.06195604, -0.53632614,  1.35520127,  0.23211284],\n",
       "       [ 0.41743029, -0.06586116, -0.14425497,  1.695813  ],\n",
       "       [ 2.05801544,  0.4200144 ,  0.65023677,  0.83516865],\n",
       "       [-0.1806143 , -0.97601747,  0.36935273, -0.57849157]])"
      ]
     },
     "execution_count": 10,
     "metadata": {},
     "output_type": "execute_result"
    }
   ],
   "source": [
    "df.values"
   ]
  },
  {
   "cell_type": "code",
   "execution_count": 11,
   "metadata": {},
   "outputs": [
    {
     "data": {
      "text/plain": [
       "Index(['A', 'B', 'C', 'D'], dtype='object')"
      ]
     },
     "execution_count": 11,
     "metadata": {},
     "output_type": "execute_result"
    }
   ],
   "source": [
    "df.columns"
   ]
  },
  {
   "cell_type": "code",
   "execution_count": 12,
   "metadata": {},
   "outputs": [
    {
     "data": {
      "text/html": [
       "<div>\n",
       "<style scoped>\n",
       "    .dataframe tbody tr th:only-of-type {\n",
       "        vertical-align: middle;\n",
       "    }\n",
       "\n",
       "    .dataframe tbody tr th {\n",
       "        vertical-align: top;\n",
       "    }\n",
       "\n",
       "    .dataframe thead th {\n",
       "        text-align: right;\n",
       "    }\n",
       "</style>\n",
       "<table border=\"1\" class=\"dataframe\">\n",
       "  <thead>\n",
       "    <tr style=\"text-align: right;\">\n",
       "      <th></th>\n",
       "      <th>A</th>\n",
       "      <th>B</th>\n",
       "      <th>C</th>\n",
       "      <th>D</th>\n",
       "    </tr>\n",
       "  </thead>\n",
       "  <tbody>\n",
       "    <tr>\n",
       "      <th>count</th>\n",
       "      <td>6.000000</td>\n",
       "      <td>6.000000</td>\n",
       "      <td>6.000000</td>\n",
       "      <td>6.000000</td>\n",
       "    </tr>\n",
       "    <tr>\n",
       "      <th>mean</th>\n",
       "      <td>0.128474</td>\n",
       "      <td>-0.155531</td>\n",
       "      <td>0.330183</td>\n",
       "      <td>0.565617</td>\n",
       "    </tr>\n",
       "    <tr>\n",
       "      <th>std</th>\n",
       "      <td>1.059876</td>\n",
       "      <td>0.520066</td>\n",
       "      <td>0.611563</td>\n",
       "      <td>1.258532</td>\n",
       "    </tr>\n",
       "    <tr>\n",
       "      <th>min</th>\n",
       "      <td>-0.870368</td>\n",
       "      <td>-0.976017</td>\n",
       "      <td>-0.320237</td>\n",
       "      <td>-0.999550</td>\n",
       "    </tr>\n",
       "    <tr>\n",
       "      <th>25%</th>\n",
       "      <td>-0.581835</td>\n",
       "      <td>-0.418710</td>\n",
       "      <td>-0.090492</td>\n",
       "      <td>-0.375840</td>\n",
       "    </tr>\n",
       "    <tr>\n",
       "      <th>50%</th>\n",
       "      <td>-0.059329</td>\n",
       "      <td>-0.056650</td>\n",
       "      <td>0.220076</td>\n",
       "      <td>0.533641</td>\n",
       "    </tr>\n",
       "    <tr>\n",
       "      <th>75%</th>\n",
       "      <td>0.328562</td>\n",
       "      <td>0.192475</td>\n",
       "      <td>0.580016</td>\n",
       "      <td>1.480652</td>\n",
       "    </tr>\n",
       "    <tr>\n",
       "      <th>max</th>\n",
       "      <td>2.058015</td>\n",
       "      <td>0.420014</td>\n",
       "      <td>1.355201</td>\n",
       "      <td>2.208649</td>\n",
       "    </tr>\n",
       "  </tbody>\n",
       "</table>\n",
       "</div>"
      ],
      "text/plain": [
       "              A         B         C         D\n",
       "count  6.000000  6.000000  6.000000  6.000000\n",
       "mean   0.128474 -0.155531  0.330183  0.565617\n",
       "std    1.059876  0.520066  0.611563  1.258532\n",
       "min   -0.870368 -0.976017 -0.320237 -0.999550\n",
       "25%   -0.581835 -0.418710 -0.090492 -0.375840\n",
       "50%   -0.059329 -0.056650  0.220076  0.533641\n",
       "75%    0.328562  0.192475  0.580016  1.480652\n",
       "max    2.058015  0.420014  1.355201  2.208649"
      ]
     },
     "execution_count": 12,
     "metadata": {},
     "output_type": "execute_result"
    }
   ],
   "source": [
    "df.describe()"
   ]
  },
  {
   "cell_type": "code",
   "execution_count": 13,
   "metadata": {},
   "outputs": [
    {
     "data": {
      "text/plain": [
       "A    6\n",
       "B    6\n",
       "C    6\n",
       "D    6\n",
       "dtype: int64"
      ]
     },
     "execution_count": 13,
     "metadata": {},
     "output_type": "execute_result"
    }
   ],
   "source": [
    "df.count()"
   ]
  },
  {
   "cell_type": "code",
   "execution_count": 14,
   "metadata": {},
   "outputs": [
    {
     "data": {
      "text/html": [
       "<div>\n",
       "<style scoped>\n",
       "    .dataframe tbody tr th:only-of-type {\n",
       "        vertical-align: middle;\n",
       "    }\n",
       "\n",
       "    .dataframe tbody tr th {\n",
       "        vertical-align: top;\n",
       "    }\n",
       "\n",
       "    .dataframe thead th {\n",
       "        text-align: right;\n",
       "    }\n",
       "</style>\n",
       "<table border=\"1\" class=\"dataframe\">\n",
       "  <thead>\n",
       "    <tr style=\"text-align: right;\">\n",
       "      <th></th>\n",
       "      <th>2018-04-01 00:00:00</th>\n",
       "      <th>2018-04-02 00:00:00</th>\n",
       "      <th>2018-04-03 00:00:00</th>\n",
       "      <th>2018-04-04 00:00:00</th>\n",
       "      <th>2018-04-05 00:00:00</th>\n",
       "      <th>2018-04-06 00:00:00</th>\n",
       "    </tr>\n",
       "  </thead>\n",
       "  <tbody>\n",
       "    <tr>\n",
       "      <th>A</th>\n",
       "      <td>-0.715575</td>\n",
       "      <td>-0.870368</td>\n",
       "      <td>0.061956</td>\n",
       "      <td>0.417430</td>\n",
       "      <td>2.058015</td>\n",
       "      <td>-0.180614</td>\n",
       "    </tr>\n",
       "    <tr>\n",
       "      <th>B</th>\n",
       "      <td>0.272446</td>\n",
       "      <td>-0.047439</td>\n",
       "      <td>-0.536326</td>\n",
       "      <td>-0.065861</td>\n",
       "      <td>0.420014</td>\n",
       "      <td>-0.976017</td>\n",
       "    </tr>\n",
       "    <tr>\n",
       "      <th>C</th>\n",
       "      <td>0.070799</td>\n",
       "      <td>-0.320237</td>\n",
       "      <td>1.355201</td>\n",
       "      <td>-0.144255</td>\n",
       "      <td>0.650237</td>\n",
       "      <td>0.369353</td>\n",
       "    </tr>\n",
       "    <tr>\n",
       "      <th>D</th>\n",
       "      <td>2.208649</td>\n",
       "      <td>-0.999550</td>\n",
       "      <td>0.232113</td>\n",
       "      <td>1.695813</td>\n",
       "      <td>0.835169</td>\n",
       "      <td>-0.578492</td>\n",
       "    </tr>\n",
       "  </tbody>\n",
       "</table>\n",
       "</div>"
      ],
      "text/plain": [
       "   2018-04-01  2018-04-02  2018-04-03  2018-04-04  2018-04-05  2018-04-06\n",
       "A   -0.715575   -0.870368    0.061956    0.417430    2.058015   -0.180614\n",
       "B    0.272446   -0.047439   -0.536326   -0.065861    0.420014   -0.976017\n",
       "C    0.070799   -0.320237    1.355201   -0.144255    0.650237    0.369353\n",
       "D    2.208649   -0.999550    0.232113    1.695813    0.835169   -0.578492"
      ]
     },
     "execution_count": 14,
     "metadata": {},
     "output_type": "execute_result"
    }
   ],
   "source": [
    "df.T"
   ]
  },
  {
   "cell_type": "code",
   "execution_count": 15,
   "metadata": {},
   "outputs": [
    {
     "data": {
      "text/html": [
       "<div>\n",
       "<style scoped>\n",
       "    .dataframe tbody tr th:only-of-type {\n",
       "        vertical-align: middle;\n",
       "    }\n",
       "\n",
       "    .dataframe tbody tr th {\n",
       "        vertical-align: top;\n",
       "    }\n",
       "\n",
       "    .dataframe thead th {\n",
       "        text-align: right;\n",
       "    }\n",
       "</style>\n",
       "<table border=\"1\" class=\"dataframe\">\n",
       "  <thead>\n",
       "    <tr style=\"text-align: right;\">\n",
       "      <th></th>\n",
       "      <th>A</th>\n",
       "      <th>B</th>\n",
       "      <th>C</th>\n",
       "      <th>D</th>\n",
       "    </tr>\n",
       "  </thead>\n",
       "  <tbody>\n",
       "    <tr>\n",
       "      <th>2018-04-01</th>\n",
       "      <td>-0.715575</td>\n",
       "      <td>0.272446</td>\n",
       "      <td>0.070799</td>\n",
       "      <td>2.208649</td>\n",
       "    </tr>\n",
       "    <tr>\n",
       "      <th>2018-04-02</th>\n",
       "      <td>-0.870368</td>\n",
       "      <td>-0.047439</td>\n",
       "      <td>-0.320237</td>\n",
       "      <td>-0.999550</td>\n",
       "    </tr>\n",
       "    <tr>\n",
       "      <th>2018-04-03</th>\n",
       "      <td>0.061956</td>\n",
       "      <td>-0.536326</td>\n",
       "      <td>1.355201</td>\n",
       "      <td>0.232113</td>\n",
       "    </tr>\n",
       "    <tr>\n",
       "      <th>2018-04-04</th>\n",
       "      <td>0.417430</td>\n",
       "      <td>-0.065861</td>\n",
       "      <td>-0.144255</td>\n",
       "      <td>1.695813</td>\n",
       "    </tr>\n",
       "    <tr>\n",
       "      <th>2018-04-05</th>\n",
       "      <td>2.058015</td>\n",
       "      <td>0.420014</td>\n",
       "      <td>0.650237</td>\n",
       "      <td>0.835169</td>\n",
       "    </tr>\n",
       "    <tr>\n",
       "      <th>2018-04-06</th>\n",
       "      <td>-0.180614</td>\n",
       "      <td>-0.976017</td>\n",
       "      <td>0.369353</td>\n",
       "      <td>-0.578492</td>\n",
       "    </tr>\n",
       "  </tbody>\n",
       "</table>\n",
       "</div>"
      ],
      "text/plain": [
       "                   A         B         C         D\n",
       "2018-04-01 -0.715575  0.272446  0.070799  2.208649\n",
       "2018-04-02 -0.870368 -0.047439 -0.320237 -0.999550\n",
       "2018-04-03  0.061956 -0.536326  1.355201  0.232113\n",
       "2018-04-04  0.417430 -0.065861 -0.144255  1.695813\n",
       "2018-04-05  2.058015  0.420014  0.650237  0.835169\n",
       "2018-04-06 -0.180614 -0.976017  0.369353 -0.578492"
      ]
     },
     "execution_count": 15,
     "metadata": {},
     "output_type": "execute_result"
    }
   ],
   "source": [
    "df"
   ]
  },
  {
   "cell_type": "code",
   "execution_count": 16,
   "metadata": {},
   "outputs": [
    {
     "data": {
      "text/html": [
       "<div>\n",
       "<style scoped>\n",
       "    .dataframe tbody tr th:only-of-type {\n",
       "        vertical-align: middle;\n",
       "    }\n",
       "\n",
       "    .dataframe tbody tr th {\n",
       "        vertical-align: top;\n",
       "    }\n",
       "\n",
       "    .dataframe thead th {\n",
       "        text-align: right;\n",
       "    }\n",
       "</style>\n",
       "<table border=\"1\" class=\"dataframe\">\n",
       "  <thead>\n",
       "    <tr style=\"text-align: right;\">\n",
       "      <th></th>\n",
       "      <th>D</th>\n",
       "      <th>C</th>\n",
       "      <th>B</th>\n",
       "      <th>A</th>\n",
       "    </tr>\n",
       "  </thead>\n",
       "  <tbody>\n",
       "    <tr>\n",
       "      <th>2018-04-01</th>\n",
       "      <td>2.208649</td>\n",
       "      <td>0.070799</td>\n",
       "      <td>0.272446</td>\n",
       "      <td>-0.715575</td>\n",
       "    </tr>\n",
       "    <tr>\n",
       "      <th>2018-04-02</th>\n",
       "      <td>-0.999550</td>\n",
       "      <td>-0.320237</td>\n",
       "      <td>-0.047439</td>\n",
       "      <td>-0.870368</td>\n",
       "    </tr>\n",
       "    <tr>\n",
       "      <th>2018-04-03</th>\n",
       "      <td>0.232113</td>\n",
       "      <td>1.355201</td>\n",
       "      <td>-0.536326</td>\n",
       "      <td>0.061956</td>\n",
       "    </tr>\n",
       "    <tr>\n",
       "      <th>2018-04-04</th>\n",
       "      <td>1.695813</td>\n",
       "      <td>-0.144255</td>\n",
       "      <td>-0.065861</td>\n",
       "      <td>0.417430</td>\n",
       "    </tr>\n",
       "    <tr>\n",
       "      <th>2018-04-05</th>\n",
       "      <td>0.835169</td>\n",
       "      <td>0.650237</td>\n",
       "      <td>0.420014</td>\n",
       "      <td>2.058015</td>\n",
       "    </tr>\n",
       "    <tr>\n",
       "      <th>2018-04-06</th>\n",
       "      <td>-0.578492</td>\n",
       "      <td>0.369353</td>\n",
       "      <td>-0.976017</td>\n",
       "      <td>-0.180614</td>\n",
       "    </tr>\n",
       "  </tbody>\n",
       "</table>\n",
       "</div>"
      ],
      "text/plain": [
       "                   D         C         B         A\n",
       "2018-04-01  2.208649  0.070799  0.272446 -0.715575\n",
       "2018-04-02 -0.999550 -0.320237 -0.047439 -0.870368\n",
       "2018-04-03  0.232113  1.355201 -0.536326  0.061956\n",
       "2018-04-04  1.695813 -0.144255 -0.065861  0.417430\n",
       "2018-04-05  0.835169  0.650237  0.420014  2.058015\n",
       "2018-04-06 -0.578492  0.369353 -0.976017 -0.180614"
      ]
     },
     "execution_count": 16,
     "metadata": {},
     "output_type": "execute_result"
    }
   ],
   "source": [
    "df.sort_index(axis=1, ascending=False)"
   ]
  },
  {
   "cell_type": "code",
   "execution_count": 17,
   "metadata": {},
   "outputs": [
    {
     "data": {
      "text/html": [
       "<div>\n",
       "<style scoped>\n",
       "    .dataframe tbody tr th:only-of-type {\n",
       "        vertical-align: middle;\n",
       "    }\n",
       "\n",
       "    .dataframe tbody tr th {\n",
       "        vertical-align: top;\n",
       "    }\n",
       "\n",
       "    .dataframe thead th {\n",
       "        text-align: right;\n",
       "    }\n",
       "</style>\n",
       "<table border=\"1\" class=\"dataframe\">\n",
       "  <thead>\n",
       "    <tr style=\"text-align: right;\">\n",
       "      <th></th>\n",
       "      <th>A</th>\n",
       "      <th>B</th>\n",
       "      <th>C</th>\n",
       "      <th>D</th>\n",
       "    </tr>\n",
       "  </thead>\n",
       "  <tbody>\n",
       "    <tr>\n",
       "      <th>2018-04-06</th>\n",
       "      <td>-0.180614</td>\n",
       "      <td>-0.976017</td>\n",
       "      <td>0.369353</td>\n",
       "      <td>-0.578492</td>\n",
       "    </tr>\n",
       "    <tr>\n",
       "      <th>2018-04-05</th>\n",
       "      <td>2.058015</td>\n",
       "      <td>0.420014</td>\n",
       "      <td>0.650237</td>\n",
       "      <td>0.835169</td>\n",
       "    </tr>\n",
       "    <tr>\n",
       "      <th>2018-04-04</th>\n",
       "      <td>0.417430</td>\n",
       "      <td>-0.065861</td>\n",
       "      <td>-0.144255</td>\n",
       "      <td>1.695813</td>\n",
       "    </tr>\n",
       "    <tr>\n",
       "      <th>2018-04-03</th>\n",
       "      <td>0.061956</td>\n",
       "      <td>-0.536326</td>\n",
       "      <td>1.355201</td>\n",
       "      <td>0.232113</td>\n",
       "    </tr>\n",
       "    <tr>\n",
       "      <th>2018-04-02</th>\n",
       "      <td>-0.870368</td>\n",
       "      <td>-0.047439</td>\n",
       "      <td>-0.320237</td>\n",
       "      <td>-0.999550</td>\n",
       "    </tr>\n",
       "    <tr>\n",
       "      <th>2018-04-01</th>\n",
       "      <td>-0.715575</td>\n",
       "      <td>0.272446</td>\n",
       "      <td>0.070799</td>\n",
       "      <td>2.208649</td>\n",
       "    </tr>\n",
       "  </tbody>\n",
       "</table>\n",
       "</div>"
      ],
      "text/plain": [
       "                   A         B         C         D\n",
       "2018-04-06 -0.180614 -0.976017  0.369353 -0.578492\n",
       "2018-04-05  2.058015  0.420014  0.650237  0.835169\n",
       "2018-04-04  0.417430 -0.065861 -0.144255  1.695813\n",
       "2018-04-03  0.061956 -0.536326  1.355201  0.232113\n",
       "2018-04-02 -0.870368 -0.047439 -0.320237 -0.999550\n",
       "2018-04-01 -0.715575  0.272446  0.070799  2.208649"
      ]
     },
     "execution_count": 17,
     "metadata": {},
     "output_type": "execute_result"
    }
   ],
   "source": [
    "df.sort_index(axis=0, ascending=False)"
   ]
  },
  {
   "cell_type": "code",
   "execution_count": 18,
   "metadata": {},
   "outputs": [
    {
     "data": {
      "text/html": [
       "<div>\n",
       "<style scoped>\n",
       "    .dataframe tbody tr th:only-of-type {\n",
       "        vertical-align: middle;\n",
       "    }\n",
       "\n",
       "    .dataframe tbody tr th {\n",
       "        vertical-align: top;\n",
       "    }\n",
       "\n",
       "    .dataframe thead th {\n",
       "        text-align: right;\n",
       "    }\n",
       "</style>\n",
       "<table border=\"1\" class=\"dataframe\">\n",
       "  <thead>\n",
       "    <tr style=\"text-align: right;\">\n",
       "      <th></th>\n",
       "      <th>A</th>\n",
       "      <th>B</th>\n",
       "      <th>C</th>\n",
       "      <th>D</th>\n",
       "    </tr>\n",
       "  </thead>\n",
       "  <tbody>\n",
       "    <tr>\n",
       "      <th>2018-04-02</th>\n",
       "      <td>-0.870368</td>\n",
       "      <td>-0.047439</td>\n",
       "      <td>-0.320237</td>\n",
       "      <td>-0.999550</td>\n",
       "    </tr>\n",
       "    <tr>\n",
       "      <th>2018-04-01</th>\n",
       "      <td>-0.715575</td>\n",
       "      <td>0.272446</td>\n",
       "      <td>0.070799</td>\n",
       "      <td>2.208649</td>\n",
       "    </tr>\n",
       "    <tr>\n",
       "      <th>2018-04-06</th>\n",
       "      <td>-0.180614</td>\n",
       "      <td>-0.976017</td>\n",
       "      <td>0.369353</td>\n",
       "      <td>-0.578492</td>\n",
       "    </tr>\n",
       "    <tr>\n",
       "      <th>2018-04-03</th>\n",
       "      <td>0.061956</td>\n",
       "      <td>-0.536326</td>\n",
       "      <td>1.355201</td>\n",
       "      <td>0.232113</td>\n",
       "    </tr>\n",
       "    <tr>\n",
       "      <th>2018-04-04</th>\n",
       "      <td>0.417430</td>\n",
       "      <td>-0.065861</td>\n",
       "      <td>-0.144255</td>\n",
       "      <td>1.695813</td>\n",
       "    </tr>\n",
       "    <tr>\n",
       "      <th>2018-04-05</th>\n",
       "      <td>2.058015</td>\n",
       "      <td>0.420014</td>\n",
       "      <td>0.650237</td>\n",
       "      <td>0.835169</td>\n",
       "    </tr>\n",
       "  </tbody>\n",
       "</table>\n",
       "</div>"
      ],
      "text/plain": [
       "                   A         B         C         D\n",
       "2018-04-02 -0.870368 -0.047439 -0.320237 -0.999550\n",
       "2018-04-01 -0.715575  0.272446  0.070799  2.208649\n",
       "2018-04-06 -0.180614 -0.976017  0.369353 -0.578492\n",
       "2018-04-03  0.061956 -0.536326  1.355201  0.232113\n",
       "2018-04-04  0.417430 -0.065861 -0.144255  1.695813\n",
       "2018-04-05  2.058015  0.420014  0.650237  0.835169"
      ]
     },
     "execution_count": 18,
     "metadata": {},
     "output_type": "execute_result"
    }
   ],
   "source": [
    "df.sort_values(by='A')"
   ]
  },
  {
   "cell_type": "code",
   "execution_count": 19,
   "metadata": {},
   "outputs": [
    {
     "data": {
      "text/html": [
       "<div>\n",
       "<style scoped>\n",
       "    .dataframe tbody tr th:only-of-type {\n",
       "        vertical-align: middle;\n",
       "    }\n",
       "\n",
       "    .dataframe tbody tr th {\n",
       "        vertical-align: top;\n",
       "    }\n",
       "\n",
       "    .dataframe thead th {\n",
       "        text-align: right;\n",
       "    }\n",
       "</style>\n",
       "<table border=\"1\" class=\"dataframe\">\n",
       "  <thead>\n",
       "    <tr style=\"text-align: right;\">\n",
       "      <th></th>\n",
       "      <th>A</th>\n",
       "      <th>B</th>\n",
       "      <th>C</th>\n",
       "      <th>D</th>\n",
       "    </tr>\n",
       "  </thead>\n",
       "  <tbody>\n",
       "    <tr>\n",
       "      <th>2018-04-02</th>\n",
       "      <td>-0.870368</td>\n",
       "      <td>-0.047439</td>\n",
       "      <td>-0.320237</td>\n",
       "      <td>-0.999550</td>\n",
       "    </tr>\n",
       "    <tr>\n",
       "      <th>2018-04-06</th>\n",
       "      <td>-0.180614</td>\n",
       "      <td>-0.976017</td>\n",
       "      <td>0.369353</td>\n",
       "      <td>-0.578492</td>\n",
       "    </tr>\n",
       "    <tr>\n",
       "      <th>2018-04-03</th>\n",
       "      <td>0.061956</td>\n",
       "      <td>-0.536326</td>\n",
       "      <td>1.355201</td>\n",
       "      <td>0.232113</td>\n",
       "    </tr>\n",
       "    <tr>\n",
       "      <th>2018-04-05</th>\n",
       "      <td>2.058015</td>\n",
       "      <td>0.420014</td>\n",
       "      <td>0.650237</td>\n",
       "      <td>0.835169</td>\n",
       "    </tr>\n",
       "    <tr>\n",
       "      <th>2018-04-04</th>\n",
       "      <td>0.417430</td>\n",
       "      <td>-0.065861</td>\n",
       "      <td>-0.144255</td>\n",
       "      <td>1.695813</td>\n",
       "    </tr>\n",
       "    <tr>\n",
       "      <th>2018-04-01</th>\n",
       "      <td>-0.715575</td>\n",
       "      <td>0.272446</td>\n",
       "      <td>0.070799</td>\n",
       "      <td>2.208649</td>\n",
       "    </tr>\n",
       "  </tbody>\n",
       "</table>\n",
       "</div>"
      ],
      "text/plain": [
       "                   A         B         C         D\n",
       "2018-04-02 -0.870368 -0.047439 -0.320237 -0.999550\n",
       "2018-04-06 -0.180614 -0.976017  0.369353 -0.578492\n",
       "2018-04-03  0.061956 -0.536326  1.355201  0.232113\n",
       "2018-04-05  2.058015  0.420014  0.650237  0.835169\n",
       "2018-04-04  0.417430 -0.065861 -0.144255  1.695813\n",
       "2018-04-01 -0.715575  0.272446  0.070799  2.208649"
      ]
     },
     "execution_count": 19,
     "metadata": {},
     "output_type": "execute_result"
    }
   ],
   "source": [
    "df.sort_values(by='D')"
   ]
  },
  {
   "cell_type": "code",
   "execution_count": 20,
   "metadata": {},
   "outputs": [
    {
     "data": {
      "text/html": [
       "<div>\n",
       "<style scoped>\n",
       "    .dataframe tbody tr th:only-of-type {\n",
       "        vertical-align: middle;\n",
       "    }\n",
       "\n",
       "    .dataframe tbody tr th {\n",
       "        vertical-align: top;\n",
       "    }\n",
       "\n",
       "    .dataframe thead th {\n",
       "        text-align: right;\n",
       "    }\n",
       "</style>\n",
       "<table border=\"1\" class=\"dataframe\">\n",
       "  <thead>\n",
       "    <tr style=\"text-align: right;\">\n",
       "      <th></th>\n",
       "      <th>A</th>\n",
       "      <th>B</th>\n",
       "      <th>C</th>\n",
       "      <th>D</th>\n",
       "    </tr>\n",
       "  </thead>\n",
       "  <tbody>\n",
       "    <tr>\n",
       "      <th>2018-04-01</th>\n",
       "      <td>-0.715575</td>\n",
       "      <td>0.272446</td>\n",
       "      <td>0.070799</td>\n",
       "      <td>2.208649</td>\n",
       "    </tr>\n",
       "    <tr>\n",
       "      <th>2018-04-04</th>\n",
       "      <td>0.417430</td>\n",
       "      <td>-0.065861</td>\n",
       "      <td>-0.144255</td>\n",
       "      <td>1.695813</td>\n",
       "    </tr>\n",
       "    <tr>\n",
       "      <th>2018-04-05</th>\n",
       "      <td>2.058015</td>\n",
       "      <td>0.420014</td>\n",
       "      <td>0.650237</td>\n",
       "      <td>0.835169</td>\n",
       "    </tr>\n",
       "    <tr>\n",
       "      <th>2018-04-03</th>\n",
       "      <td>0.061956</td>\n",
       "      <td>-0.536326</td>\n",
       "      <td>1.355201</td>\n",
       "      <td>0.232113</td>\n",
       "    </tr>\n",
       "    <tr>\n",
       "      <th>2018-04-06</th>\n",
       "      <td>-0.180614</td>\n",
       "      <td>-0.976017</td>\n",
       "      <td>0.369353</td>\n",
       "      <td>-0.578492</td>\n",
       "    </tr>\n",
       "    <tr>\n",
       "      <th>2018-04-02</th>\n",
       "      <td>-0.870368</td>\n",
       "      <td>-0.047439</td>\n",
       "      <td>-0.320237</td>\n",
       "      <td>-0.999550</td>\n",
       "    </tr>\n",
       "  </tbody>\n",
       "</table>\n",
       "</div>"
      ],
      "text/plain": [
       "                   A         B         C         D\n",
       "2018-04-01 -0.715575  0.272446  0.070799  2.208649\n",
       "2018-04-04  0.417430 -0.065861 -0.144255  1.695813\n",
       "2018-04-05  2.058015  0.420014  0.650237  0.835169\n",
       "2018-04-03  0.061956 -0.536326  1.355201  0.232113\n",
       "2018-04-06 -0.180614 -0.976017  0.369353 -0.578492\n",
       "2018-04-02 -0.870368 -0.047439 -0.320237 -0.999550"
      ]
     },
     "execution_count": 20,
     "metadata": {},
     "output_type": "execute_result"
    }
   ],
   "source": [
    "df.sort_values(by='D', ascending=False)"
   ]
  },
  {
   "cell_type": "code",
   "execution_count": 21,
   "metadata": {},
   "outputs": [
    {
     "data": {
      "text/plain": [
       "2018-04-01   -0.715575\n",
       "2018-04-02   -0.870368\n",
       "2018-04-03    0.061956\n",
       "2018-04-04    0.417430\n",
       "2018-04-05    2.058015\n",
       "2018-04-06   -0.180614\n",
       "Freq: D, Name: A, dtype: float64"
      ]
     },
     "execution_count": 21,
     "metadata": {},
     "output_type": "execute_result"
    }
   ],
   "source": [
    "df.A"
   ]
  },
  {
   "cell_type": "code",
   "execution_count": 22,
   "metadata": {},
   "outputs": [
    {
     "data": {
      "text/plain": [
       "2018-04-01    2.208649\n",
       "2018-04-02   -0.999550\n",
       "2018-04-03    0.232113\n",
       "2018-04-04    1.695813\n",
       "2018-04-05    0.835169\n",
       "2018-04-06   -0.578492\n",
       "Freq: D, Name: D, dtype: float64"
      ]
     },
     "execution_count": 22,
     "metadata": {},
     "output_type": "execute_result"
    }
   ],
   "source": [
    "df.D"
   ]
  },
  {
   "cell_type": "code",
   "execution_count": 23,
   "metadata": {},
   "outputs": [
    {
     "data": {
      "text/plain": [
       "2018-04-01    2.208649\n",
       "2018-04-02   -0.999550\n",
       "2018-04-03    0.232113\n",
       "2018-04-04    1.695813\n",
       "2018-04-05    0.835169\n",
       "2018-04-06   -0.578492\n",
       "Freq: D, Name: D, dtype: float64"
      ]
     },
     "execution_count": 23,
     "metadata": {},
     "output_type": "execute_result"
    }
   ],
   "source": [
    "df['D']"
   ]
  },
  {
   "cell_type": "code",
   "execution_count": 24,
   "metadata": {},
   "outputs": [
    {
     "data": {
      "text/html": [
       "<div>\n",
       "<style scoped>\n",
       "    .dataframe tbody tr th:only-of-type {\n",
       "        vertical-align: middle;\n",
       "    }\n",
       "\n",
       "    .dataframe tbody tr th {\n",
       "        vertical-align: top;\n",
       "    }\n",
       "\n",
       "    .dataframe thead th {\n",
       "        text-align: right;\n",
       "    }\n",
       "</style>\n",
       "<table border=\"1\" class=\"dataframe\">\n",
       "  <thead>\n",
       "    <tr style=\"text-align: right;\">\n",
       "      <th></th>\n",
       "      <th>A</th>\n",
       "      <th>B</th>\n",
       "      <th>C</th>\n",
       "      <th>D</th>\n",
       "    </tr>\n",
       "  </thead>\n",
       "  <tbody>\n",
       "    <tr>\n",
       "      <th>2018-04-01</th>\n",
       "      <td>-0.715575</td>\n",
       "      <td>0.272446</td>\n",
       "      <td>0.070799</td>\n",
       "      <td>2.208649</td>\n",
       "    </tr>\n",
       "    <tr>\n",
       "      <th>2018-04-02</th>\n",
       "      <td>-0.870368</td>\n",
       "      <td>-0.047439</td>\n",
       "      <td>-0.320237</td>\n",
       "      <td>-0.999550</td>\n",
       "    </tr>\n",
       "    <tr>\n",
       "      <th>2018-04-03</th>\n",
       "      <td>0.061956</td>\n",
       "      <td>-0.536326</td>\n",
       "      <td>1.355201</td>\n",
       "      <td>0.232113</td>\n",
       "    </tr>\n",
       "  </tbody>\n",
       "</table>\n",
       "</div>"
      ],
      "text/plain": [
       "                   A         B         C         D\n",
       "2018-04-01 -0.715575  0.272446  0.070799  2.208649\n",
       "2018-04-02 -0.870368 -0.047439 -0.320237 -0.999550\n",
       "2018-04-03  0.061956 -0.536326  1.355201  0.232113"
      ]
     },
     "execution_count": 24,
     "metadata": {},
     "output_type": "execute_result"
    }
   ],
   "source": [
    "df[0:3]"
   ]
  },
  {
   "cell_type": "code",
   "execution_count": 25,
   "metadata": {},
   "outputs": [
    {
     "data": {
      "text/html": [
       "<div>\n",
       "<style scoped>\n",
       "    .dataframe tbody tr th:only-of-type {\n",
       "        vertical-align: middle;\n",
       "    }\n",
       "\n",
       "    .dataframe tbody tr th {\n",
       "        vertical-align: top;\n",
       "    }\n",
       "\n",
       "    .dataframe thead th {\n",
       "        text-align: right;\n",
       "    }\n",
       "</style>\n",
       "<table border=\"1\" class=\"dataframe\">\n",
       "  <thead>\n",
       "    <tr style=\"text-align: right;\">\n",
       "      <th></th>\n",
       "      <th>A</th>\n",
       "      <th>B</th>\n",
       "      <th>C</th>\n",
       "      <th>D</th>\n",
       "    </tr>\n",
       "  </thead>\n",
       "  <tbody>\n",
       "    <tr>\n",
       "      <th>2018-04-01</th>\n",
       "      <td>-0.715575</td>\n",
       "      <td>0.272446</td>\n",
       "      <td>0.070799</td>\n",
       "      <td>2.208649</td>\n",
       "    </tr>\n",
       "    <tr>\n",
       "      <th>2018-04-02</th>\n",
       "      <td>-0.870368</td>\n",
       "      <td>-0.047439</td>\n",
       "      <td>-0.320237</td>\n",
       "      <td>-0.999550</td>\n",
       "    </tr>\n",
       "    <tr>\n",
       "      <th>2018-04-03</th>\n",
       "      <td>0.061956</td>\n",
       "      <td>-0.536326</td>\n",
       "      <td>1.355201</td>\n",
       "      <td>0.232113</td>\n",
       "    </tr>\n",
       "  </tbody>\n",
       "</table>\n",
       "</div>"
      ],
      "text/plain": [
       "                   A         B         C         D\n",
       "2018-04-01 -0.715575  0.272446  0.070799  2.208649\n",
       "2018-04-02 -0.870368 -0.047439 -0.320237 -0.999550\n",
       "2018-04-03  0.061956 -0.536326  1.355201  0.232113"
      ]
     },
     "execution_count": 25,
     "metadata": {},
     "output_type": "execute_result"
    }
   ],
   "source": [
    "df['20180401':'20180403']"
   ]
  },
  {
   "cell_type": "code",
   "execution_count": 26,
   "metadata": {},
   "outputs": [
    {
     "data": {
      "text/plain": [
       "A   -0.870368\n",
       "B   -0.047439\n",
       "C   -0.320237\n",
       "D   -0.999550\n",
       "Name: 2018-04-02 00:00:00, dtype: float64"
      ]
     },
     "execution_count": 26,
     "metadata": {},
     "output_type": "execute_result"
    }
   ],
   "source": [
    "df.loc[dates[1]]"
   ]
  },
  {
   "cell_type": "code",
   "execution_count": 27,
   "metadata": {},
   "outputs": [
    {
     "data": {
      "text/html": [
       "<div>\n",
       "<style scoped>\n",
       "    .dataframe tbody tr th:only-of-type {\n",
       "        vertical-align: middle;\n",
       "    }\n",
       "\n",
       "    .dataframe tbody tr th {\n",
       "        vertical-align: top;\n",
       "    }\n",
       "\n",
       "    .dataframe thead th {\n",
       "        text-align: right;\n",
       "    }\n",
       "</style>\n",
       "<table border=\"1\" class=\"dataframe\">\n",
       "  <thead>\n",
       "    <tr style=\"text-align: right;\">\n",
       "      <th></th>\n",
       "      <th>A</th>\n",
       "      <th>B</th>\n",
       "      <th>C</th>\n",
       "      <th>D</th>\n",
       "    </tr>\n",
       "  </thead>\n",
       "  <tbody>\n",
       "    <tr>\n",
       "      <th>2018-04-01</th>\n",
       "      <td>-0.715575</td>\n",
       "      <td>0.272446</td>\n",
       "      <td>0.070799</td>\n",
       "      <td>2.208649</td>\n",
       "    </tr>\n",
       "    <tr>\n",
       "      <th>2018-04-02</th>\n",
       "      <td>-0.870368</td>\n",
       "      <td>-0.047439</td>\n",
       "      <td>-0.320237</td>\n",
       "      <td>-0.999550</td>\n",
       "    </tr>\n",
       "    <tr>\n",
       "      <th>2018-04-03</th>\n",
       "      <td>0.061956</td>\n",
       "      <td>-0.536326</td>\n",
       "      <td>1.355201</td>\n",
       "      <td>0.232113</td>\n",
       "    </tr>\n",
       "  </tbody>\n",
       "</table>\n",
       "</div>"
      ],
      "text/plain": [
       "                   A         B         C         D\n",
       "2018-04-01 -0.715575  0.272446  0.070799  2.208649\n",
       "2018-04-02 -0.870368 -0.047439 -0.320237 -0.999550\n",
       "2018-04-03  0.061956 -0.536326  1.355201  0.232113"
      ]
     },
     "execution_count": 27,
     "metadata": {},
     "output_type": "execute_result"
    }
   ],
   "source": [
    "df.iloc[0:3]"
   ]
  },
  {
   "cell_type": "code",
   "execution_count": 28,
   "metadata": {},
   "outputs": [
    {
     "data": {
      "text/html": [
       "<div>\n",
       "<style scoped>\n",
       "    .dataframe tbody tr th:only-of-type {\n",
       "        vertical-align: middle;\n",
       "    }\n",
       "\n",
       "    .dataframe tbody tr th {\n",
       "        vertical-align: top;\n",
       "    }\n",
       "\n",
       "    .dataframe thead th {\n",
       "        text-align: right;\n",
       "    }\n",
       "</style>\n",
       "<table border=\"1\" class=\"dataframe\">\n",
       "  <thead>\n",
       "    <tr style=\"text-align: right;\">\n",
       "      <th></th>\n",
       "      <th>A</th>\n",
       "      <th>B</th>\n",
       "    </tr>\n",
       "  </thead>\n",
       "  <tbody>\n",
       "    <tr>\n",
       "      <th>2018-04-01</th>\n",
       "      <td>-0.715575</td>\n",
       "      <td>0.272446</td>\n",
       "    </tr>\n",
       "    <tr>\n",
       "      <th>2018-04-02</th>\n",
       "      <td>-0.870368</td>\n",
       "      <td>-0.047439</td>\n",
       "    </tr>\n",
       "    <tr>\n",
       "      <th>2018-04-03</th>\n",
       "      <td>0.061956</td>\n",
       "      <td>-0.536326</td>\n",
       "    </tr>\n",
       "    <tr>\n",
       "      <th>2018-04-04</th>\n",
       "      <td>0.417430</td>\n",
       "      <td>-0.065861</td>\n",
       "    </tr>\n",
       "    <tr>\n",
       "      <th>2018-04-05</th>\n",
       "      <td>2.058015</td>\n",
       "      <td>0.420014</td>\n",
       "    </tr>\n",
       "    <tr>\n",
       "      <th>2018-04-06</th>\n",
       "      <td>-0.180614</td>\n",
       "      <td>-0.976017</td>\n",
       "    </tr>\n",
       "  </tbody>\n",
       "</table>\n",
       "</div>"
      ],
      "text/plain": [
       "                   A         B\n",
       "2018-04-01 -0.715575  0.272446\n",
       "2018-04-02 -0.870368 -0.047439\n",
       "2018-04-03  0.061956 -0.536326\n",
       "2018-04-04  0.417430 -0.065861\n",
       "2018-04-05  2.058015  0.420014\n",
       "2018-04-06 -0.180614 -0.976017"
      ]
     },
     "execution_count": 28,
     "metadata": {},
     "output_type": "execute_result"
    }
   ],
   "source": [
    "df[['A', 'B']]"
   ]
  },
  {
   "cell_type": "code",
   "execution_count": 29,
   "metadata": {},
   "outputs": [
    {
     "data": {
      "text/html": [
       "<div>\n",
       "<style scoped>\n",
       "    .dataframe tbody tr th:only-of-type {\n",
       "        vertical-align: middle;\n",
       "    }\n",
       "\n",
       "    .dataframe tbody tr th {\n",
       "        vertical-align: top;\n",
       "    }\n",
       "\n",
       "    .dataframe thead th {\n",
       "        text-align: right;\n",
       "    }\n",
       "</style>\n",
       "<table border=\"1\" class=\"dataframe\">\n",
       "  <thead>\n",
       "    <tr style=\"text-align: right;\">\n",
       "      <th></th>\n",
       "      <th>A</th>\n",
       "      <th>B</th>\n",
       "      <th>C</th>\n",
       "      <th>D</th>\n",
       "    </tr>\n",
       "  </thead>\n",
       "  <tbody>\n",
       "    <tr>\n",
       "      <th>2018-04-01</th>\n",
       "      <td>-0.715575</td>\n",
       "      <td>0.272446</td>\n",
       "      <td>0.070799</td>\n",
       "      <td>2.208649</td>\n",
       "    </tr>\n",
       "    <tr>\n",
       "      <th>2018-04-02</th>\n",
       "      <td>-0.870368</td>\n",
       "      <td>-0.047439</td>\n",
       "      <td>-0.320237</td>\n",
       "      <td>-0.999550</td>\n",
       "    </tr>\n",
       "    <tr>\n",
       "      <th>2018-04-03</th>\n",
       "      <td>0.061956</td>\n",
       "      <td>-0.536326</td>\n",
       "      <td>1.355201</td>\n",
       "      <td>0.232113</td>\n",
       "    </tr>\n",
       "  </tbody>\n",
       "</table>\n",
       "</div>"
      ],
      "text/plain": [
       "                   A         B         C         D\n",
       "2018-04-01 -0.715575  0.272446  0.070799  2.208649\n",
       "2018-04-02 -0.870368 -0.047439 -0.320237 -0.999550\n",
       "2018-04-03  0.061956 -0.536326  1.355201  0.232113"
      ]
     },
     "execution_count": 29,
     "metadata": {},
     "output_type": "execute_result"
    }
   ],
   "source": [
    "df.iloc[0:3]"
   ]
  },
  {
   "cell_type": "code",
   "execution_count": 30,
   "metadata": {},
   "outputs": [
    {
     "data": {
      "text/plain": [
       "2018-04-01   -0.715575\n",
       "2018-04-02   -0.870368\n",
       "2018-04-03    0.061956\n",
       "2018-04-04    0.417430\n",
       "2018-04-05    2.058015\n",
       "2018-04-06   -0.180614\n",
       "Freq: D, Name: A, dtype: float64"
      ]
     },
     "execution_count": 30,
     "metadata": {},
     "output_type": "execute_result"
    }
   ],
   "source": [
    "df.A"
   ]
  },
  {
   "cell_type": "code",
   "execution_count": 31,
   "metadata": {},
   "outputs": [
    {
     "data": {
      "text/html": [
       "<div>\n",
       "<style scoped>\n",
       "    .dataframe tbody tr th:only-of-type {\n",
       "        vertical-align: middle;\n",
       "    }\n",
       "\n",
       "    .dataframe tbody tr th {\n",
       "        vertical-align: top;\n",
       "    }\n",
       "\n",
       "    .dataframe thead th {\n",
       "        text-align: right;\n",
       "    }\n",
       "</style>\n",
       "<table border=\"1\" class=\"dataframe\">\n",
       "  <thead>\n",
       "    <tr style=\"text-align: right;\">\n",
       "      <th></th>\n",
       "      <th>A</th>\n",
       "      <th>B</th>\n",
       "      <th>C</th>\n",
       "      <th>D</th>\n",
       "    </tr>\n",
       "  </thead>\n",
       "  <tbody>\n",
       "    <tr>\n",
       "      <th>2018-04-03</th>\n",
       "      <td>0.061956</td>\n",
       "      <td>-0.536326</td>\n",
       "      <td>1.355201</td>\n",
       "      <td>0.232113</td>\n",
       "    </tr>\n",
       "    <tr>\n",
       "      <th>2018-04-04</th>\n",
       "      <td>0.417430</td>\n",
       "      <td>-0.065861</td>\n",
       "      <td>-0.144255</td>\n",
       "      <td>1.695813</td>\n",
       "    </tr>\n",
       "    <tr>\n",
       "      <th>2018-04-05</th>\n",
       "      <td>2.058015</td>\n",
       "      <td>0.420014</td>\n",
       "      <td>0.650237</td>\n",
       "      <td>0.835169</td>\n",
       "    </tr>\n",
       "  </tbody>\n",
       "</table>\n",
       "</div>"
      ],
      "text/plain": [
       "                   A         B         C         D\n",
       "2018-04-03  0.061956 -0.536326  1.355201  0.232113\n",
       "2018-04-04  0.417430 -0.065861 -0.144255  1.695813\n",
       "2018-04-05  2.058015  0.420014  0.650237  0.835169"
      ]
     },
     "execution_count": 31,
     "metadata": {},
     "output_type": "execute_result"
    }
   ],
   "source": [
    "df[df.A>0]"
   ]
  },
  {
   "cell_type": "code",
   "execution_count": 32,
   "metadata": {},
   "outputs": [
    {
     "data": {
      "text/plain": [
       "2018-04-03    0.061956\n",
       "2018-04-04    0.417430\n",
       "2018-04-05    2.058015\n",
       "Freq: D, Name: A, dtype: float64"
      ]
     },
     "execution_count": 32,
     "metadata": {},
     "output_type": "execute_result"
    }
   ],
   "source": [
    "df.A[df.A>0]"
   ]
  },
  {
   "cell_type": "code",
   "execution_count": 33,
   "metadata": {},
   "outputs": [
    {
     "data": {
      "text/plain": [
       "-0.7155752914957583"
      ]
     },
     "execution_count": 33,
     "metadata": {},
     "output_type": "execute_result"
    }
   ],
   "source": [
    "df.iat[0, 0]"
   ]
  },
  {
   "cell_type": "code",
   "execution_count": 34,
   "metadata": {},
   "outputs": [
    {
     "data": {
      "text/html": [
       "<div>\n",
       "<style scoped>\n",
       "    .dataframe tbody tr th:only-of-type {\n",
       "        vertical-align: middle;\n",
       "    }\n",
       "\n",
       "    .dataframe tbody tr th {\n",
       "        vertical-align: top;\n",
       "    }\n",
       "\n",
       "    .dataframe thead th {\n",
       "        text-align: right;\n",
       "    }\n",
       "</style>\n",
       "<table border=\"1\" class=\"dataframe\">\n",
       "  <thead>\n",
       "    <tr style=\"text-align: right;\">\n",
       "      <th></th>\n",
       "      <th>A</th>\n",
       "      <th>B</th>\n",
       "      <th>C</th>\n",
       "      <th>D</th>\n",
       "    </tr>\n",
       "  </thead>\n",
       "  <tbody>\n",
       "    <tr>\n",
       "      <th>2018-04-01</th>\n",
       "      <td>NaN</td>\n",
       "      <td>0.272446</td>\n",
       "      <td>0.070799</td>\n",
       "      <td>2.208649</td>\n",
       "    </tr>\n",
       "    <tr>\n",
       "      <th>2018-04-02</th>\n",
       "      <td>NaN</td>\n",
       "      <td>NaN</td>\n",
       "      <td>NaN</td>\n",
       "      <td>NaN</td>\n",
       "    </tr>\n",
       "    <tr>\n",
       "      <th>2018-04-03</th>\n",
       "      <td>0.061956</td>\n",
       "      <td>NaN</td>\n",
       "      <td>1.355201</td>\n",
       "      <td>0.232113</td>\n",
       "    </tr>\n",
       "    <tr>\n",
       "      <th>2018-04-04</th>\n",
       "      <td>0.417430</td>\n",
       "      <td>NaN</td>\n",
       "      <td>NaN</td>\n",
       "      <td>1.695813</td>\n",
       "    </tr>\n",
       "    <tr>\n",
       "      <th>2018-04-05</th>\n",
       "      <td>2.058015</td>\n",
       "      <td>0.420014</td>\n",
       "      <td>0.650237</td>\n",
       "      <td>0.835169</td>\n",
       "    </tr>\n",
       "    <tr>\n",
       "      <th>2018-04-06</th>\n",
       "      <td>NaN</td>\n",
       "      <td>NaN</td>\n",
       "      <td>0.369353</td>\n",
       "      <td>NaN</td>\n",
       "    </tr>\n",
       "  </tbody>\n",
       "</table>\n",
       "</div>"
      ],
      "text/plain": [
       "                   A         B         C         D\n",
       "2018-04-01       NaN  0.272446  0.070799  2.208649\n",
       "2018-04-02       NaN       NaN       NaN       NaN\n",
       "2018-04-03  0.061956       NaN  1.355201  0.232113\n",
       "2018-04-04  0.417430       NaN       NaN  1.695813\n",
       "2018-04-05  2.058015  0.420014  0.650237  0.835169\n",
       "2018-04-06       NaN       NaN  0.369353       NaN"
      ]
     },
     "execution_count": 34,
     "metadata": {},
     "output_type": "execute_result"
    }
   ],
   "source": [
    "df[df>0]"
   ]
  },
  {
   "cell_type": "code",
   "execution_count": 35,
   "metadata": {},
   "outputs": [
    {
     "data": {
      "text/html": [
       "<div>\n",
       "<style scoped>\n",
       "    .dataframe tbody tr th:only-of-type {\n",
       "        vertical-align: middle;\n",
       "    }\n",
       "\n",
       "    .dataframe tbody tr th {\n",
       "        vertical-align: top;\n",
       "    }\n",
       "\n",
       "    .dataframe thead th {\n",
       "        text-align: right;\n",
       "    }\n",
       "</style>\n",
       "<table border=\"1\" class=\"dataframe\">\n",
       "  <thead>\n",
       "    <tr style=\"text-align: right;\">\n",
       "      <th></th>\n",
       "      <th>A</th>\n",
       "      <th>B</th>\n",
       "      <th>C</th>\n",
       "      <th>D</th>\n",
       "      <th>E</th>\n",
       "    </tr>\n",
       "  </thead>\n",
       "  <tbody>\n",
       "    <tr>\n",
       "      <th>2018-04-01</th>\n",
       "      <td>-0.715575</td>\n",
       "      <td>0.272446</td>\n",
       "      <td>0.070799</td>\n",
       "      <td>2.208649</td>\n",
       "      <td>one</td>\n",
       "    </tr>\n",
       "    <tr>\n",
       "      <th>2018-04-02</th>\n",
       "      <td>-0.870368</td>\n",
       "      <td>-0.047439</td>\n",
       "      <td>-0.320237</td>\n",
       "      <td>-0.999550</td>\n",
       "      <td>one</td>\n",
       "    </tr>\n",
       "    <tr>\n",
       "      <th>2018-04-03</th>\n",
       "      <td>0.061956</td>\n",
       "      <td>-0.536326</td>\n",
       "      <td>1.355201</td>\n",
       "      <td>0.232113</td>\n",
       "      <td>two</td>\n",
       "    </tr>\n",
       "    <tr>\n",
       "      <th>2018-04-04</th>\n",
       "      <td>0.417430</td>\n",
       "      <td>-0.065861</td>\n",
       "      <td>-0.144255</td>\n",
       "      <td>1.695813</td>\n",
       "      <td>three</td>\n",
       "    </tr>\n",
       "    <tr>\n",
       "      <th>2018-04-05</th>\n",
       "      <td>2.058015</td>\n",
       "      <td>0.420014</td>\n",
       "      <td>0.650237</td>\n",
       "      <td>0.835169</td>\n",
       "      <td>four</td>\n",
       "    </tr>\n",
       "    <tr>\n",
       "      <th>2018-04-06</th>\n",
       "      <td>-0.180614</td>\n",
       "      <td>-0.976017</td>\n",
       "      <td>0.369353</td>\n",
       "      <td>-0.578492</td>\n",
       "      <td>three</td>\n",
       "    </tr>\n",
       "  </tbody>\n",
       "</table>\n",
       "</div>"
      ],
      "text/plain": [
       "                   A         B         C         D      E\n",
       "2018-04-01 -0.715575  0.272446  0.070799  2.208649    one\n",
       "2018-04-02 -0.870368 -0.047439 -0.320237 -0.999550    one\n",
       "2018-04-03  0.061956 -0.536326  1.355201  0.232113    two\n",
       "2018-04-04  0.417430 -0.065861 -0.144255  1.695813  three\n",
       "2018-04-05  2.058015  0.420014  0.650237  0.835169   four\n",
       "2018-04-06 -0.180614 -0.976017  0.369353 -0.578492  three"
      ]
     },
     "execution_count": 35,
     "metadata": {},
     "output_type": "execute_result"
    }
   ],
   "source": [
    "df2 = df.copy()\n",
    "df2['E'] = ['one', 'one','two','three','four','three']\n",
    "df2"
   ]
  },
  {
   "cell_type": "code",
   "execution_count": 36,
   "metadata": {},
   "outputs": [
    {
     "data": {
      "text/html": [
       "<div>\n",
       "<style scoped>\n",
       "    .dataframe tbody tr th:only-of-type {\n",
       "        vertical-align: middle;\n",
       "    }\n",
       "\n",
       "    .dataframe tbody tr th {\n",
       "        vertical-align: top;\n",
       "    }\n",
       "\n",
       "    .dataframe thead th {\n",
       "        text-align: right;\n",
       "    }\n",
       "</style>\n",
       "<table border=\"1\" class=\"dataframe\">\n",
       "  <thead>\n",
       "    <tr style=\"text-align: right;\">\n",
       "      <th></th>\n",
       "      <th>A</th>\n",
       "      <th>B</th>\n",
       "      <th>C</th>\n",
       "      <th>D</th>\n",
       "    </tr>\n",
       "  </thead>\n",
       "  <tbody>\n",
       "    <tr>\n",
       "      <th>2018-04-01</th>\n",
       "      <td>-0.715575</td>\n",
       "      <td>0.272446</td>\n",
       "      <td>0.070799</td>\n",
       "      <td>2.208649</td>\n",
       "    </tr>\n",
       "    <tr>\n",
       "      <th>2018-04-02</th>\n",
       "      <td>-0.870368</td>\n",
       "      <td>-0.047439</td>\n",
       "      <td>-0.320237</td>\n",
       "      <td>-0.999550</td>\n",
       "    </tr>\n",
       "    <tr>\n",
       "      <th>2018-04-04</th>\n",
       "      <td>0.417430</td>\n",
       "      <td>-0.065861</td>\n",
       "      <td>-0.144255</td>\n",
       "      <td>1.695813</td>\n",
       "    </tr>\n",
       "    <tr>\n",
       "      <th>2018-04-06</th>\n",
       "      <td>-0.180614</td>\n",
       "      <td>-0.976017</td>\n",
       "      <td>0.369353</td>\n",
       "      <td>-0.578492</td>\n",
       "    </tr>\n",
       "  </tbody>\n",
       "</table>\n",
       "</div>"
      ],
      "text/plain": [
       "                   A         B         C         D\n",
       "2018-04-01 -0.715575  0.272446  0.070799  2.208649\n",
       "2018-04-02 -0.870368 -0.047439 -0.320237 -0.999550\n",
       "2018-04-04  0.417430 -0.065861 -0.144255  1.695813\n",
       "2018-04-06 -0.180614 -0.976017  0.369353 -0.578492"
      ]
     },
     "execution_count": 36,
     "metadata": {},
     "output_type": "execute_result"
    }
   ],
   "source": [
    "df[df2['E'].isin(['one', 'three'])]"
   ]
  },
  {
   "cell_type": "code",
   "execution_count": 37,
   "metadata": {},
   "outputs": [
    {
     "data": {
      "text/plain": [
       "2018-04-01    1\n",
       "2018-04-02    2\n",
       "2018-04-03    3\n",
       "2018-04-04    4\n",
       "2018-04-05    5\n",
       "2018-04-06    6\n",
       "Freq: D, dtype: int64"
      ]
     },
     "execution_count": 37,
     "metadata": {},
     "output_type": "execute_result"
    }
   ],
   "source": [
    "s1 = pd.Series([1, 2, 3, 4, 5, 6], index=dates)\n",
    "s1"
   ]
  },
  {
   "cell_type": "code",
   "execution_count": 38,
   "metadata": {},
   "outputs": [
    {
     "data": {
      "text/html": [
       "<div>\n",
       "<style scoped>\n",
       "    .dataframe tbody tr th:only-of-type {\n",
       "        vertical-align: middle;\n",
       "    }\n",
       "\n",
       "    .dataframe tbody tr th {\n",
       "        vertical-align: top;\n",
       "    }\n",
       "\n",
       "    .dataframe thead th {\n",
       "        text-align: right;\n",
       "    }\n",
       "</style>\n",
       "<table border=\"1\" class=\"dataframe\">\n",
       "  <thead>\n",
       "    <tr style=\"text-align: right;\">\n",
       "      <th></th>\n",
       "      <th>A</th>\n",
       "      <th>B</th>\n",
       "      <th>C</th>\n",
       "      <th>D</th>\n",
       "      <th>F</th>\n",
       "    </tr>\n",
       "  </thead>\n",
       "  <tbody>\n",
       "    <tr>\n",
       "      <th>2018-04-01</th>\n",
       "      <td>-0.715575</td>\n",
       "      <td>0.272446</td>\n",
       "      <td>0.070799</td>\n",
       "      <td>2.208649</td>\n",
       "      <td>1</td>\n",
       "    </tr>\n",
       "    <tr>\n",
       "      <th>2018-04-02</th>\n",
       "      <td>-0.870368</td>\n",
       "      <td>-0.047439</td>\n",
       "      <td>-0.320237</td>\n",
       "      <td>-0.999550</td>\n",
       "      <td>2</td>\n",
       "    </tr>\n",
       "    <tr>\n",
       "      <th>2018-04-03</th>\n",
       "      <td>0.061956</td>\n",
       "      <td>-0.536326</td>\n",
       "      <td>1.355201</td>\n",
       "      <td>0.232113</td>\n",
       "      <td>3</td>\n",
       "    </tr>\n",
       "    <tr>\n",
       "      <th>2018-04-04</th>\n",
       "      <td>0.417430</td>\n",
       "      <td>-0.065861</td>\n",
       "      <td>-0.144255</td>\n",
       "      <td>1.695813</td>\n",
       "      <td>4</td>\n",
       "    </tr>\n",
       "    <tr>\n",
       "      <th>2018-04-05</th>\n",
       "      <td>2.058015</td>\n",
       "      <td>0.420014</td>\n",
       "      <td>0.650237</td>\n",
       "      <td>0.835169</td>\n",
       "      <td>5</td>\n",
       "    </tr>\n",
       "    <tr>\n",
       "      <th>2018-04-06</th>\n",
       "      <td>-0.180614</td>\n",
       "      <td>-0.976017</td>\n",
       "      <td>0.369353</td>\n",
       "      <td>-0.578492</td>\n",
       "      <td>6</td>\n",
       "    </tr>\n",
       "  </tbody>\n",
       "</table>\n",
       "</div>"
      ],
      "text/plain": [
       "                   A         B         C         D  F\n",
       "2018-04-01 -0.715575  0.272446  0.070799  2.208649  1\n",
       "2018-04-02 -0.870368 -0.047439 -0.320237 -0.999550  2\n",
       "2018-04-03  0.061956 -0.536326  1.355201  0.232113  3\n",
       "2018-04-04  0.417430 -0.065861 -0.144255  1.695813  4\n",
       "2018-04-05  2.058015  0.420014  0.650237  0.835169  5\n",
       "2018-04-06 -0.180614 -0.976017  0.369353 -0.578492  6"
      ]
     },
     "execution_count": 38,
     "metadata": {},
     "output_type": "execute_result"
    }
   ],
   "source": [
    "df['F'] = s1\n",
    "df"
   ]
  },
  {
   "cell_type": "code",
   "execution_count": 39,
   "metadata": {},
   "outputs": [
    {
     "data": {
      "text/html": [
       "<div>\n",
       "<style scoped>\n",
       "    .dataframe tbody tr th:only-of-type {\n",
       "        vertical-align: middle;\n",
       "    }\n",
       "\n",
       "    .dataframe tbody tr th {\n",
       "        vertical-align: top;\n",
       "    }\n",
       "\n",
       "    .dataframe thead th {\n",
       "        text-align: right;\n",
       "    }\n",
       "</style>\n",
       "<table border=\"1\" class=\"dataframe\">\n",
       "  <thead>\n",
       "    <tr style=\"text-align: right;\">\n",
       "      <th></th>\n",
       "      <th>A</th>\n",
       "      <th>B</th>\n",
       "      <th>C</th>\n",
       "      <th>D</th>\n",
       "      <th>F</th>\n",
       "    </tr>\n",
       "  </thead>\n",
       "  <tbody>\n",
       "    <tr>\n",
       "      <th>2018-04-01</th>\n",
       "      <td>0.000000</td>\n",
       "      <td>0.000000</td>\n",
       "      <td>0.070799</td>\n",
       "      <td>2.208649</td>\n",
       "      <td>1</td>\n",
       "    </tr>\n",
       "    <tr>\n",
       "      <th>2018-04-02</th>\n",
       "      <td>-0.870368</td>\n",
       "      <td>-0.047439</td>\n",
       "      <td>-0.320237</td>\n",
       "      <td>-0.999550</td>\n",
       "      <td>2</td>\n",
       "    </tr>\n",
       "    <tr>\n",
       "      <th>2018-04-03</th>\n",
       "      <td>0.061956</td>\n",
       "      <td>-0.536326</td>\n",
       "      <td>1.355201</td>\n",
       "      <td>0.232113</td>\n",
       "      <td>3</td>\n",
       "    </tr>\n",
       "    <tr>\n",
       "      <th>2018-04-04</th>\n",
       "      <td>0.417430</td>\n",
       "      <td>-0.065861</td>\n",
       "      <td>-0.144255</td>\n",
       "      <td>1.695813</td>\n",
       "      <td>4</td>\n",
       "    </tr>\n",
       "    <tr>\n",
       "      <th>2018-04-05</th>\n",
       "      <td>2.058015</td>\n",
       "      <td>0.420014</td>\n",
       "      <td>0.650237</td>\n",
       "      <td>0.835169</td>\n",
       "      <td>5</td>\n",
       "    </tr>\n",
       "    <tr>\n",
       "      <th>2018-04-06</th>\n",
       "      <td>-0.180614</td>\n",
       "      <td>-0.976017</td>\n",
       "      <td>0.369353</td>\n",
       "      <td>-0.578492</td>\n",
       "      <td>6</td>\n",
       "    </tr>\n",
       "  </tbody>\n",
       "</table>\n",
       "</div>"
      ],
      "text/plain": [
       "                   A         B         C         D  F\n",
       "2018-04-01  0.000000  0.000000  0.070799  2.208649  1\n",
       "2018-04-02 -0.870368 -0.047439 -0.320237 -0.999550  2\n",
       "2018-04-03  0.061956 -0.536326  1.355201  0.232113  3\n",
       "2018-04-04  0.417430 -0.065861 -0.144255  1.695813  4\n",
       "2018-04-05  2.058015  0.420014  0.650237  0.835169  5\n",
       "2018-04-06 -0.180614 -0.976017  0.369353 -0.578492  6"
      ]
     },
     "execution_count": 39,
     "metadata": {},
     "output_type": "execute_result"
    }
   ],
   "source": [
    "df.at[dates[0], 'A'] = 0\n",
    "df.iat[0, 1] = 0\n",
    "df"
   ]
  },
  {
   "cell_type": "code",
   "execution_count": 40,
   "metadata": {},
   "outputs": [
    {
     "data": {
      "text/html": [
       "<div>\n",
       "<style scoped>\n",
       "    .dataframe tbody tr th:only-of-type {\n",
       "        vertical-align: middle;\n",
       "    }\n",
       "\n",
       "    .dataframe tbody tr th {\n",
       "        vertical-align: top;\n",
       "    }\n",
       "\n",
       "    .dataframe thead th {\n",
       "        text-align: right;\n",
       "    }\n",
       "</style>\n",
       "<table border=\"1\" class=\"dataframe\">\n",
       "  <thead>\n",
       "    <tr style=\"text-align: right;\">\n",
       "      <th></th>\n",
       "      <th>A</th>\n",
       "      <th>B</th>\n",
       "      <th>C</th>\n",
       "      <th>D</th>\n",
       "      <th>F</th>\n",
       "    </tr>\n",
       "  </thead>\n",
       "  <tbody>\n",
       "    <tr>\n",
       "      <th>2018-04-01</th>\n",
       "      <td>0.000000</td>\n",
       "      <td>0.000000</td>\n",
       "      <td>0.070799</td>\n",
       "      <td>2.208649</td>\n",
       "      <td>1</td>\n",
       "    </tr>\n",
       "    <tr>\n",
       "      <th>2018-04-02</th>\n",
       "      <td>0.870368</td>\n",
       "      <td>0.047439</td>\n",
       "      <td>0.320237</td>\n",
       "      <td>0.999550</td>\n",
       "      <td>2</td>\n",
       "    </tr>\n",
       "    <tr>\n",
       "      <th>2018-04-03</th>\n",
       "      <td>0.061956</td>\n",
       "      <td>0.536326</td>\n",
       "      <td>1.355201</td>\n",
       "      <td>0.232113</td>\n",
       "      <td>3</td>\n",
       "    </tr>\n",
       "    <tr>\n",
       "      <th>2018-04-04</th>\n",
       "      <td>0.417430</td>\n",
       "      <td>0.065861</td>\n",
       "      <td>0.144255</td>\n",
       "      <td>1.695813</td>\n",
       "      <td>4</td>\n",
       "    </tr>\n",
       "    <tr>\n",
       "      <th>2018-04-05</th>\n",
       "      <td>2.058015</td>\n",
       "      <td>0.420014</td>\n",
       "      <td>0.650237</td>\n",
       "      <td>0.835169</td>\n",
       "      <td>5</td>\n",
       "    </tr>\n",
       "    <tr>\n",
       "      <th>2018-04-06</th>\n",
       "      <td>0.180614</td>\n",
       "      <td>0.976017</td>\n",
       "      <td>0.369353</td>\n",
       "      <td>0.578492</td>\n",
       "      <td>6</td>\n",
       "    </tr>\n",
       "  </tbody>\n",
       "</table>\n",
       "</div>"
      ],
      "text/plain": [
       "                   A         B         C         D  F\n",
       "2018-04-01  0.000000  0.000000  0.070799  2.208649  1\n",
       "2018-04-02  0.870368  0.047439  0.320237  0.999550  2\n",
       "2018-04-03  0.061956  0.536326  1.355201  0.232113  3\n",
       "2018-04-04  0.417430  0.065861  0.144255  1.695813  4\n",
       "2018-04-05  2.058015  0.420014  0.650237  0.835169  5\n",
       "2018-04-06  0.180614  0.976017  0.369353  0.578492  6"
      ]
     },
     "execution_count": 40,
     "metadata": {},
     "output_type": "execute_result"
    }
   ],
   "source": [
    "df2 = df.copy()\n",
    "df2[df<0] = -df\n",
    "df2"
   ]
  },
  {
   "cell_type": "code",
   "execution_count": 41,
   "metadata": {},
   "outputs": [
    {
     "data": {
      "text/html": [
       "<div>\n",
       "<style scoped>\n",
       "    .dataframe tbody tr th:only-of-type {\n",
       "        vertical-align: middle;\n",
       "    }\n",
       "\n",
       "    .dataframe tbody tr th {\n",
       "        vertical-align: top;\n",
       "    }\n",
       "\n",
       "    .dataframe thead th {\n",
       "        text-align: right;\n",
       "    }\n",
       "</style>\n",
       "<table border=\"1\" class=\"dataframe\">\n",
       "  <thead>\n",
       "    <tr style=\"text-align: right;\">\n",
       "      <th></th>\n",
       "      <th>A</th>\n",
       "      <th>C</th>\n",
       "      <th>E</th>\n",
       "    </tr>\n",
       "  </thead>\n",
       "  <tbody>\n",
       "    <tr>\n",
       "      <th>2018-04-01</th>\n",
       "      <td>0.000000</td>\n",
       "      <td>0.070799</td>\n",
       "      <td>NaN</td>\n",
       "    </tr>\n",
       "    <tr>\n",
       "      <th>2018-04-02</th>\n",
       "      <td>-0.870368</td>\n",
       "      <td>-0.320237</td>\n",
       "      <td>NaN</td>\n",
       "    </tr>\n",
       "    <tr>\n",
       "      <th>2018-04-03</th>\n",
       "      <td>0.061956</td>\n",
       "      <td>1.355201</td>\n",
       "      <td>NaN</td>\n",
       "    </tr>\n",
       "  </tbody>\n",
       "</table>\n",
       "</div>"
      ],
      "text/plain": [
       "                   A         C   E\n",
       "2018-04-01  0.000000  0.070799 NaN\n",
       "2018-04-02 -0.870368 -0.320237 NaN\n",
       "2018-04-03  0.061956  1.355201 NaN"
      ]
     },
     "execution_count": 41,
     "metadata": {},
     "output_type": "execute_result"
    }
   ],
   "source": [
    "df1 = df.reindex(index=dates[0:3], columns=list('AC')+['E'])\n",
    "df1"
   ]
  },
  {
   "cell_type": "code",
   "execution_count": 42,
   "metadata": {},
   "outputs": [
    {
     "data": {
      "text/html": [
       "<div>\n",
       "<style scoped>\n",
       "    .dataframe tbody tr th:only-of-type {\n",
       "        vertical-align: middle;\n",
       "    }\n",
       "\n",
       "    .dataframe tbody tr th {\n",
       "        vertical-align: top;\n",
       "    }\n",
       "\n",
       "    .dataframe thead th {\n",
       "        text-align: right;\n",
       "    }\n",
       "</style>\n",
       "<table border=\"1\" class=\"dataframe\">\n",
       "  <thead>\n",
       "    <tr style=\"text-align: right;\">\n",
       "      <th></th>\n",
       "      <th>A</th>\n",
       "      <th>C</th>\n",
       "      <th>E</th>\n",
       "    </tr>\n",
       "  </thead>\n",
       "  <tbody>\n",
       "    <tr>\n",
       "      <th>2018-04-01</th>\n",
       "      <td>0.000000</td>\n",
       "      <td>0.070799</td>\n",
       "      <td>1.0</td>\n",
       "    </tr>\n",
       "    <tr>\n",
       "      <th>2018-04-02</th>\n",
       "      <td>-0.870368</td>\n",
       "      <td>-0.320237</td>\n",
       "      <td>1.0</td>\n",
       "    </tr>\n",
       "    <tr>\n",
       "      <th>2018-04-03</th>\n",
       "      <td>0.061956</td>\n",
       "      <td>1.355201</td>\n",
       "      <td>NaN</td>\n",
       "    </tr>\n",
       "  </tbody>\n",
       "</table>\n",
       "</div>"
      ],
      "text/plain": [
       "                   A         C    E\n",
       "2018-04-01  0.000000  0.070799  1.0\n",
       "2018-04-02 -0.870368 -0.320237  1.0\n",
       "2018-04-03  0.061956  1.355201  NaN"
      ]
     },
     "execution_count": 42,
     "metadata": {},
     "output_type": "execute_result"
    }
   ],
   "source": [
    "df1.loc[dates[0:2], 'E'] = 1\n",
    "df1"
   ]
  },
  {
   "cell_type": "code",
   "execution_count": 43,
   "metadata": {},
   "outputs": [
    {
     "data": {
      "text/html": [
       "<div>\n",
       "<style scoped>\n",
       "    .dataframe tbody tr th:only-of-type {\n",
       "        vertical-align: middle;\n",
       "    }\n",
       "\n",
       "    .dataframe tbody tr th {\n",
       "        vertical-align: top;\n",
       "    }\n",
       "\n",
       "    .dataframe thead th {\n",
       "        text-align: right;\n",
       "    }\n",
       "</style>\n",
       "<table border=\"1\" class=\"dataframe\">\n",
       "  <thead>\n",
       "    <tr style=\"text-align: right;\">\n",
       "      <th></th>\n",
       "      <th>A</th>\n",
       "      <th>C</th>\n",
       "      <th>E</th>\n",
       "    </tr>\n",
       "  </thead>\n",
       "  <tbody>\n",
       "    <tr>\n",
       "      <th>2018-04-01</th>\n",
       "      <td>0.000000</td>\n",
       "      <td>0.070799</td>\n",
       "      <td>1.0</td>\n",
       "    </tr>\n",
       "    <tr>\n",
       "      <th>2018-04-02</th>\n",
       "      <td>-0.870368</td>\n",
       "      <td>-0.320237</td>\n",
       "      <td>1.0</td>\n",
       "    </tr>\n",
       "  </tbody>\n",
       "</table>\n",
       "</div>"
      ],
      "text/plain": [
       "                   A         C    E\n",
       "2018-04-01  0.000000  0.070799  1.0\n",
       "2018-04-02 -0.870368 -0.320237  1.0"
      ]
     },
     "execution_count": 43,
     "metadata": {},
     "output_type": "execute_result"
    }
   ],
   "source": [
    "df1.dropna(how='any')"
   ]
  },
  {
   "cell_type": "code",
   "execution_count": 44,
   "metadata": {},
   "outputs": [
    {
     "data": {
      "text/html": [
       "<div>\n",
       "<style scoped>\n",
       "    .dataframe tbody tr th:only-of-type {\n",
       "        vertical-align: middle;\n",
       "    }\n",
       "\n",
       "    .dataframe tbody tr th {\n",
       "        vertical-align: top;\n",
       "    }\n",
       "\n",
       "    .dataframe thead th {\n",
       "        text-align: right;\n",
       "    }\n",
       "</style>\n",
       "<table border=\"1\" class=\"dataframe\">\n",
       "  <thead>\n",
       "    <tr style=\"text-align: right;\">\n",
       "      <th></th>\n",
       "      <th>A</th>\n",
       "      <th>C</th>\n",
       "      <th>E</th>\n",
       "    </tr>\n",
       "  </thead>\n",
       "  <tbody>\n",
       "    <tr>\n",
       "      <th>2018-04-01</th>\n",
       "      <td>0.000000</td>\n",
       "      <td>0.070799</td>\n",
       "      <td>1.000000</td>\n",
       "    </tr>\n",
       "    <tr>\n",
       "      <th>2018-04-02</th>\n",
       "      <td>-0.870368</td>\n",
       "      <td>-0.320237</td>\n",
       "      <td>1.000000</td>\n",
       "    </tr>\n",
       "    <tr>\n",
       "      <th>2018-04-03</th>\n",
       "      <td>0.061956</td>\n",
       "      <td>1.355201</td>\n",
       "      <td>3.141593</td>\n",
       "    </tr>\n",
       "  </tbody>\n",
       "</table>\n",
       "</div>"
      ],
      "text/plain": [
       "                   A         C         E\n",
       "2018-04-01  0.000000  0.070799  1.000000\n",
       "2018-04-02 -0.870368 -0.320237  1.000000\n",
       "2018-04-03  0.061956  1.355201  3.141593"
      ]
     },
     "execution_count": 44,
     "metadata": {},
     "output_type": "execute_result"
    }
   ],
   "source": [
    "df1.fillna(value=np.pi)"
   ]
  },
  {
   "cell_type": "code",
   "execution_count": 45,
   "metadata": {},
   "outputs": [
    {
     "data": {
      "text/plain": [
       "Timestamp('2018-04-01 02:46:39', freq='S')"
      ]
     },
     "execution_count": 45,
     "metadata": {},
     "output_type": "execute_result"
    }
   ],
   "source": [
    "rng = pd.date_range('20180401', periods=10000, freq='S')\n",
    "rng[-1]"
   ]
  },
  {
   "cell_type": "code",
   "execution_count": 47,
   "metadata": {},
   "outputs": [],
   "source": [
    "ts = pd.Series(np.random.randn(len(rng)), index=rng)"
   ]
  },
  {
   "cell_type": "code",
   "execution_count": 55,
   "metadata": {},
   "outputs": [
    {
     "data": {
      "text/plain": [
       "2018-04-01 00:00:00    0.883314\n",
       "2018-04-01 00:01:00    0.878515\n",
       "2018-04-01 00:02:00    1.122213\n",
       "2018-04-01 00:03:00    0.993219\n",
       "2018-04-01 00:04:00    0.999972\n",
       "2018-04-01 00:05:00    1.034796\n",
       "2018-04-01 00:06:00    1.079767\n",
       "2018-04-01 00:07:00    0.974903\n",
       "2018-04-01 00:08:00    0.949350\n",
       "2018-04-01 00:09:00    0.796198\n",
       "2018-04-01 00:10:00    0.940549\n",
       "2018-04-01 00:11:00    0.936601\n",
       "2018-04-01 00:12:00    0.966259\n",
       "2018-04-01 00:13:00    0.986021\n",
       "2018-04-01 00:14:00    0.904343\n",
       "2018-04-01 00:15:00    0.998461\n",
       "2018-04-01 00:16:00    1.079221\n",
       "2018-04-01 00:17:00    0.941515\n",
       "2018-04-01 00:18:00    1.046707\n",
       "2018-04-01 00:19:00    1.029592\n",
       "2018-04-01 00:20:00    1.103721\n",
       "2018-04-01 00:21:00    1.038824\n",
       "2018-04-01 00:22:00    1.093716\n",
       "2018-04-01 00:23:00    1.146501\n",
       "2018-04-01 00:24:00    1.271111\n",
       "2018-04-01 00:25:00    0.897039\n",
       "2018-04-01 00:26:00    0.926931\n",
       "2018-04-01 00:27:00    1.032020\n",
       "2018-04-01 00:28:00    0.915380\n",
       "2018-04-01 00:29:00    1.128402\n",
       "                         ...   \n",
       "2018-04-01 02:17:00    0.898534\n",
       "2018-04-01 02:18:00    0.948315\n",
       "2018-04-01 02:19:00    1.101422\n",
       "2018-04-01 02:20:00    1.006961\n",
       "2018-04-01 02:21:00    0.948176\n",
       "2018-04-01 02:22:00    1.027634\n",
       "2018-04-01 02:23:00    0.942594\n",
       "2018-04-01 02:24:00    0.814057\n",
       "2018-04-01 02:25:00    0.971660\n",
       "2018-04-01 02:26:00    1.049770\n",
       "2018-04-01 02:27:00    0.975079\n",
       "2018-04-01 02:28:00    0.956032\n",
       "2018-04-01 02:29:00    1.138452\n",
       "2018-04-01 02:30:00    0.989315\n",
       "2018-04-01 02:31:00    0.876230\n",
       "2018-04-01 02:32:00    1.031987\n",
       "2018-04-01 02:33:00    0.831510\n",
       "2018-04-01 02:34:00    1.065360\n",
       "2018-04-01 02:35:00    0.952823\n",
       "2018-04-01 02:36:00    1.049153\n",
       "2018-04-01 02:37:00    0.955597\n",
       "2018-04-01 02:38:00    1.236364\n",
       "2018-04-01 02:39:00    1.181054\n",
       "2018-04-01 02:40:00    0.900686\n",
       "2018-04-01 02:41:00    0.825777\n",
       "2018-04-01 02:42:00    0.901353\n",
       "2018-04-01 02:43:00    0.988063\n",
       "2018-04-01 02:44:00    1.070509\n",
       "2018-04-01 02:45:00    1.048249\n",
       "2018-04-01 02:46:00    1.248345\n",
       "Freq: T, Length: 167, dtype: float64"
      ]
     },
     "execution_count": 55,
     "metadata": {},
     "output_type": "execute_result"
    }
   ],
   "source": [
    "ts.resample('min').apply(np.std)"
   ]
  },
  {
   "cell_type": "code",
   "execution_count": 61,
   "metadata": {},
   "outputs": [
    {
     "data": {
      "text/plain": [
       "2018-01-31    0.861332\n",
       "2018-02-28   -0.349774\n",
       "2018-03-31    0.391079\n",
       "2018-04-30   -1.291426\n",
       "2018-05-31   -0.168239\n",
       "2018-06-30    1.714257\n",
       "2018-07-31   -0.048062\n",
       "2018-08-31   -1.072855\n",
       "2018-09-30    0.394020\n",
       "2018-10-31    0.300961\n",
       "Freq: M, dtype: float64"
      ]
     },
     "execution_count": 61,
     "metadata": {},
     "output_type": "execute_result"
    }
   ],
   "source": [
    "rng = pd.date_range('20180101', periods=10, freq='M')\n",
    "tm = pd.Series(np.random.randn(len(rng)), index=rng)\n",
    "tm"
   ]
  },
  {
   "cell_type": "code",
   "execution_count": 62,
   "metadata": {},
   "outputs": [
    {
     "data": {
      "text/plain": [
       "2018-01    0.861332\n",
       "2018-02   -0.349774\n",
       "2018-03    0.391079\n",
       "2018-04   -1.291426\n",
       "2018-05   -0.168239\n",
       "2018-06    1.714257\n",
       "2018-07   -0.048062\n",
       "2018-08   -1.072855\n",
       "2018-09    0.394020\n",
       "2018-10    0.300961\n",
       "Freq: M, dtype: float64"
      ]
     },
     "execution_count": 62,
     "metadata": {},
     "output_type": "execute_result"
    }
   ],
   "source": [
    "ps = tm.to_period()\n",
    "ps"
   ]
  },
  {
   "cell_type": "code",
   "execution_count": 63,
   "metadata": {},
   "outputs": [
    {
     "data": {
      "text/plain": [
       "<bound method Series.to_timestamp of 2018-01-31    0.861332\n",
       "2018-02-28   -0.349774\n",
       "2018-03-31    0.391079\n",
       "2018-04-30   -1.291426\n",
       "2018-05-31   -0.168239\n",
       "2018-06-30    1.714257\n",
       "2018-07-31   -0.048062\n",
       "2018-08-31   -1.072855\n",
       "2018-09-30    0.394020\n",
       "2018-10-31    0.300961\n",
       "Freq: M, dtype: float64>"
      ]
     },
     "execution_count": 63,
     "metadata": {},
     "output_type": "execute_result"
    }
   ],
   "source": [
    "tm.to_timestamp"
   ]
  },
  {
   "cell_type": "code",
   "execution_count": 64,
   "metadata": {},
   "outputs": [
    {
     "data": {
      "text/plain": [
       "1990Q1    0.918984\n",
       "1990Q2   -2.077410\n",
       "1990Q3    0.390083\n",
       "1990Q4    0.117009\n",
       "1991Q1    0.064800\n",
       "1991Q2   -1.567158\n",
       "1991Q3    0.712597\n",
       "1991Q4    0.633760\n",
       "1992Q1   -0.458907\n",
       "1992Q2    1.469526\n",
       "1992Q3   -0.967860\n",
       "1992Q4    0.825547\n",
       "1993Q1   -0.694485\n",
       "1993Q2    0.699307\n",
       "1993Q3    0.774136\n",
       "1993Q4    0.509790\n",
       "1994Q1    0.758783\n",
       "1994Q2   -0.839797\n",
       "1994Q3   -0.258421\n",
       "1994Q4   -0.305037\n",
       "1995Q1    0.299827\n",
       "1995Q2    0.376875\n",
       "1995Q3    0.331069\n",
       "1995Q4   -0.177290\n",
       "1996Q1   -2.269229\n",
       "1996Q2    0.669925\n",
       "1996Q3   -0.040677\n",
       "1996Q4   -1.228986\n",
       "1997Q1    1.032060\n",
       "1997Q2   -0.848015\n",
       "1997Q3   -0.052431\n",
       "1997Q4   -0.429857\n",
       "1998Q1    0.953731\n",
       "1998Q2   -0.415340\n",
       "1998Q3   -1.086280\n",
       "1998Q4   -1.846397\n",
       "1999Q1    0.087299\n",
       "1999Q2   -1.242740\n",
       "1999Q3   -1.413388\n",
       "1999Q4    0.822287\n",
       "2000Q1    0.282742\n",
       "2000Q2    1.238703\n",
       "2000Q3    0.207310\n",
       "2000Q4    1.686414\n",
       "Freq: Q-NOV, dtype: float64"
      ]
     },
     "execution_count": 64,
     "metadata": {},
     "output_type": "execute_result"
    }
   ],
   "source": [
    "prng = pd.period_range('1990Q1', '2000Q4', freq='Q-NOV')\n",
    "ts = pd.Series(np.random.randn(len(prng)), prng)\n",
    "ts"
   ]
  },
  {
   "cell_type": "code",
   "execution_count": 69,
   "metadata": {},
   "outputs": [
    {
     "data": {
      "text/plain": [
       "PeriodIndex(['1990-02', '1990-05', '1990-08', '1990-11', '1991-02', '1991-05',\n",
       "             '1991-08', '1991-11', '1992-02', '1992-05', '1992-08', '1992-11',\n",
       "             '1993-02', '1993-05', '1993-08', '1993-11', '1994-02', '1994-05',\n",
       "             '1994-08', '1994-11', '1995-02', '1995-05', '1995-08', '1995-11',\n",
       "             '1996-02', '1996-05', '1996-08', '1996-11', '1997-02', '1997-05',\n",
       "             '1997-08', '1997-11', '1998-02', '1998-05', '1998-08', '1998-11',\n",
       "             '1999-02', '1999-05', '1999-08', '1999-11', '2000-02', '2000-05',\n",
       "             '2000-08', '2000-11'],\n",
       "            dtype='period[M]', freq='M')"
      ]
     },
     "execution_count": 69,
     "metadata": {},
     "output_type": "execute_result"
    }
   ],
   "source": [
    "prng.asfreq('M', 'e')"
   ]
  },
  {
   "cell_type": "code",
   "execution_count": 70,
   "metadata": {},
   "outputs": [
    {
     "data": {
      "text/html": [
       "<div>\n",
       "<style scoped>\n",
       "    .dataframe tbody tr th:only-of-type {\n",
       "        vertical-align: middle;\n",
       "    }\n",
       "\n",
       "    .dataframe tbody tr th {\n",
       "        vertical-align: top;\n",
       "    }\n",
       "\n",
       "    .dataframe thead th {\n",
       "        text-align: right;\n",
       "    }\n",
       "</style>\n",
       "<table border=\"1\" class=\"dataframe\">\n",
       "  <thead>\n",
       "    <tr style=\"text-align: right;\">\n",
       "      <th></th>\n",
       "      <th>id</th>\n",
       "      <th>raw_grade</th>\n",
       "    </tr>\n",
       "  </thead>\n",
       "  <tbody>\n",
       "    <tr>\n",
       "      <th>0</th>\n",
       "      <td>1</td>\n",
       "      <td>a</td>\n",
       "    </tr>\n",
       "    <tr>\n",
       "      <th>1</th>\n",
       "      <td>2</td>\n",
       "      <td>b</td>\n",
       "    </tr>\n",
       "    <tr>\n",
       "      <th>2</th>\n",
       "      <td>3</td>\n",
       "      <td>b</td>\n",
       "    </tr>\n",
       "    <tr>\n",
       "      <th>3</th>\n",
       "      <td>4</td>\n",
       "      <td>a</td>\n",
       "    </tr>\n",
       "    <tr>\n",
       "      <th>4</th>\n",
       "      <td>5</td>\n",
       "      <td>a</td>\n",
       "    </tr>\n",
       "    <tr>\n",
       "      <th>5</th>\n",
       "      <td>6</td>\n",
       "      <td>e</td>\n",
       "    </tr>\n",
       "  </tbody>\n",
       "</table>\n",
       "</div>"
      ],
      "text/plain": [
       "   id raw_grade\n",
       "0   1         a\n",
       "1   2         b\n",
       "2   3         b\n",
       "3   4         a\n",
       "4   5         a\n",
       "5   6         e"
      ]
     },
     "execution_count": 70,
     "metadata": {},
     "output_type": "execute_result"
    }
   ],
   "source": [
    "df = pd.DataFrame({\"id\":[1,2,3,4,5,6], \"raw_grade\":['a', 'b', 'b', 'a', 'a', 'e']})\n",
    "df"
   ]
  },
  {
   "cell_type": "code",
   "execution_count": 75,
   "metadata": {},
   "outputs": [
    {
     "data": {
      "text/plain": [
       "id              int64\n",
       "raw_grade      object\n",
       "grade        category\n",
       "dtype: object"
      ]
     },
     "execution_count": 75,
     "metadata": {},
     "output_type": "execute_result"
    }
   ],
   "source": [
    "df['grade'] = df.raw_grade.astype('category')\n",
    "df.dtypes"
   ]
  },
  {
   "cell_type": "code",
   "execution_count": 80,
   "metadata": {},
   "outputs": [
    {
     "data": {
      "text/html": [
       "<div>\n",
       "<style scoped>\n",
       "    .dataframe tbody tr th:only-of-type {\n",
       "        vertical-align: middle;\n",
       "    }\n",
       "\n",
       "    .dataframe tbody tr th {\n",
       "        vertical-align: top;\n",
       "    }\n",
       "\n",
       "    .dataframe thead th {\n",
       "        text-align: right;\n",
       "    }\n",
       "</style>\n",
       "<table border=\"1\" class=\"dataframe\">\n",
       "  <thead>\n",
       "    <tr style=\"text-align: right;\">\n",
       "      <th></th>\n",
       "      <th>id</th>\n",
       "      <th>raw_grade</th>\n",
       "      <th>grade</th>\n",
       "    </tr>\n",
       "  </thead>\n",
       "  <tbody>\n",
       "    <tr>\n",
       "      <th>5</th>\n",
       "      <td>6</td>\n",
       "      <td>e</td>\n",
       "      <td>very bad</td>\n",
       "    </tr>\n",
       "    <tr>\n",
       "      <th>2</th>\n",
       "      <td>3</td>\n",
       "      <td>b</td>\n",
       "      <td>good</td>\n",
       "    </tr>\n",
       "    <tr>\n",
       "      <th>1</th>\n",
       "      <td>2</td>\n",
       "      <td>b</td>\n",
       "      <td>good</td>\n",
       "    </tr>\n",
       "    <tr>\n",
       "      <th>4</th>\n",
       "      <td>5</td>\n",
       "      <td>a</td>\n",
       "      <td>very good</td>\n",
       "    </tr>\n",
       "    <tr>\n",
       "      <th>3</th>\n",
       "      <td>4</td>\n",
       "      <td>a</td>\n",
       "      <td>very good</td>\n",
       "    </tr>\n",
       "    <tr>\n",
       "      <th>0</th>\n",
       "      <td>1</td>\n",
       "      <td>a</td>\n",
       "      <td>very good</td>\n",
       "    </tr>\n",
       "  </tbody>\n",
       "</table>\n",
       "</div>"
      ],
      "text/plain": [
       "   id raw_grade      grade\n",
       "5   6         e   very bad\n",
       "2   3         b       good\n",
       "1   2         b       good\n",
       "4   5         a  very good\n",
       "3   4         a  very good\n",
       "0   1         a  very good"
      ]
     },
     "execution_count": 80,
     "metadata": {},
     "output_type": "execute_result"
    }
   ],
   "source": [
    "df['grade'].cat.categories = [\"ha\", \"hahaha\", \"haha\"]\n",
    "df.sort_values(by='grade', ascending=False)"
   ]
  },
  {
   "cell_type": "code",
   "execution_count": null,
   "metadata": {},
   "outputs": [],
   "source": []
  }
 ],
 "metadata": {
  "kernelspec": {
   "display_name": "Python 3",
   "language": "python",
   "name": "python3"
  },
  "language_info": {
   "codemirror_mode": {
    "name": "ipython",
    "version": 3
   },
   "file_extension": ".py",
   "mimetype": "text/x-python",
   "name": "python",
   "nbconvert_exporter": "python",
   "pygments_lexer": "ipython3",
   "version": "3.6.4"
  }
 },
 "nbformat": 4,
 "nbformat_minor": 2
}
