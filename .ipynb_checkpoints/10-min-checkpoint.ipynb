{
 "cells": [
  {
   "cell_type": "code",
   "execution_count": 7,
   "metadata": {
    "collapsed": true
   },
   "outputs": [],
   "source": [
    "import pandas as pd\n",
    "import numpy as np"
   ]
  },
  {
   "cell_type": "code",
   "execution_count": 8,
   "metadata": {},
   "outputs": [],
   "source": [
    "dates = pd.date_range('20180401', periods=6)"
   ]
  },
  {
   "cell_type": "code",
   "execution_count": 9,
   "metadata": {},
   "outputs": [
    {
     "data": {
      "text/plain": [
       "DatetimeIndex(['2018-04-01', '2018-04-02', '2018-04-03', '2018-04-04',\n",
       "               '2018-04-05', '2018-04-06'],\n",
       "              dtype='datetime64[ns]', freq='D')"
      ]
     },
     "execution_count": 9,
     "metadata": {},
     "output_type": "execute_result"
    }
   ],
   "source": [
    "dates"
   ]
  },
  {
   "cell_type": "code",
   "execution_count": 10,
   "metadata": {
    "collapsed": true
   },
   "outputs": [],
   "source": [
    "df = pd.DataFrame(np.random.randn(6, 4), index=dates, columns=list('ABCD'))"
   ]
  },
  {
   "cell_type": "code",
   "execution_count": 11,
   "metadata": {},
   "outputs": [
    {
     "data": {
      "text/html": [
       "<div>\n",
       "<style>\n",
       "    .dataframe thead tr:only-child th {\n",
       "        text-align: right;\n",
       "    }\n",
       "\n",
       "    .dataframe thead th {\n",
       "        text-align: left;\n",
       "    }\n",
       "\n",
       "    .dataframe tbody tr th {\n",
       "        vertical-align: top;\n",
       "    }\n",
       "</style>\n",
       "<table border=\"1\" class=\"dataframe\">\n",
       "  <thead>\n",
       "    <tr style=\"text-align: right;\">\n",
       "      <th></th>\n",
       "      <th>A</th>\n",
       "      <th>B</th>\n",
       "      <th>C</th>\n",
       "      <th>D</th>\n",
       "    </tr>\n",
       "  </thead>\n",
       "  <tbody>\n",
       "    <tr>\n",
       "      <th>2018-04-01</th>\n",
       "      <td>0.602423</td>\n",
       "      <td>-0.411568</td>\n",
       "      <td>-0.289090</td>\n",
       "      <td>-0.818267</td>\n",
       "    </tr>\n",
       "    <tr>\n",
       "      <th>2018-04-02</th>\n",
       "      <td>1.153751</td>\n",
       "      <td>-0.033723</td>\n",
       "      <td>-0.688777</td>\n",
       "      <td>0.829165</td>\n",
       "    </tr>\n",
       "    <tr>\n",
       "      <th>2018-04-03</th>\n",
       "      <td>0.312754</td>\n",
       "      <td>1.107653</td>\n",
       "      <td>0.056733</td>\n",
       "      <td>-1.311537</td>\n",
       "    </tr>\n",
       "    <tr>\n",
       "      <th>2018-04-04</th>\n",
       "      <td>-0.202630</td>\n",
       "      <td>0.088010</td>\n",
       "      <td>-0.113997</td>\n",
       "      <td>0.148461</td>\n",
       "    </tr>\n",
       "    <tr>\n",
       "      <th>2018-04-05</th>\n",
       "      <td>0.012821</td>\n",
       "      <td>0.389082</td>\n",
       "      <td>1.060380</td>\n",
       "      <td>0.591386</td>\n",
       "    </tr>\n",
       "    <tr>\n",
       "      <th>2018-04-06</th>\n",
       "      <td>0.991384</td>\n",
       "      <td>-1.097095</td>\n",
       "      <td>-1.236125</td>\n",
       "      <td>-0.511359</td>\n",
       "    </tr>\n",
       "  </tbody>\n",
       "</table>\n",
       "</div>"
      ],
      "text/plain": [
       "                   A         B         C         D\n",
       "2018-04-01  0.602423 -0.411568 -0.289090 -0.818267\n",
       "2018-04-02  1.153751 -0.033723 -0.688777  0.829165\n",
       "2018-04-03  0.312754  1.107653  0.056733 -1.311537\n",
       "2018-04-04 -0.202630  0.088010 -0.113997  0.148461\n",
       "2018-04-05  0.012821  0.389082  1.060380  0.591386\n",
       "2018-04-06  0.991384 -1.097095 -1.236125 -0.511359"
      ]
     },
     "execution_count": 11,
     "metadata": {},
     "output_type": "execute_result"
    }
   ],
   "source": [
    "df"
   ]
  },
  {
   "cell_type": "code",
   "execution_count": 13,
   "metadata": {},
   "outputs": [
    {
     "data": {
      "text/plain": [
       "A    float64\n",
       "B    float64\n",
       "C    float64\n",
       "D    float64\n",
       "dtype: object"
      ]
     },
     "execution_count": 13,
     "metadata": {},
     "output_type": "execute_result"
    }
   ],
   "source": [
    "df.dtypes"
   ]
  },
  {
   "cell_type": "code",
   "execution_count": 14,
   "metadata": {},
   "outputs": [
    {
     "data": {
      "text/html": [
       "<div>\n",
       "<style>\n",
       "    .dataframe thead tr:only-child th {\n",
       "        text-align: right;\n",
       "    }\n",
       "\n",
       "    .dataframe thead th {\n",
       "        text-align: left;\n",
       "    }\n",
       "\n",
       "    .dataframe tbody tr th {\n",
       "        vertical-align: top;\n",
       "    }\n",
       "</style>\n",
       "<table border=\"1\" class=\"dataframe\">\n",
       "  <thead>\n",
       "    <tr style=\"text-align: right;\">\n",
       "      <th></th>\n",
       "      <th>A</th>\n",
       "      <th>B</th>\n",
       "      <th>C</th>\n",
       "      <th>D</th>\n",
       "    </tr>\n",
       "  </thead>\n",
       "  <tbody>\n",
       "    <tr>\n",
       "      <th>2018-04-01</th>\n",
       "      <td>0.602423</td>\n",
       "      <td>-0.411568</td>\n",
       "      <td>-0.289090</td>\n",
       "      <td>-0.818267</td>\n",
       "    </tr>\n",
       "    <tr>\n",
       "      <th>2018-04-02</th>\n",
       "      <td>1.153751</td>\n",
       "      <td>-0.033723</td>\n",
       "      <td>-0.688777</td>\n",
       "      <td>0.829165</td>\n",
       "    </tr>\n",
       "    <tr>\n",
       "      <th>2018-04-03</th>\n",
       "      <td>0.312754</td>\n",
       "      <td>1.107653</td>\n",
       "      <td>0.056733</td>\n",
       "      <td>-1.311537</td>\n",
       "    </tr>\n",
       "    <tr>\n",
       "      <th>2018-04-04</th>\n",
       "      <td>-0.202630</td>\n",
       "      <td>0.088010</td>\n",
       "      <td>-0.113997</td>\n",
       "      <td>0.148461</td>\n",
       "    </tr>\n",
       "    <tr>\n",
       "      <th>2018-04-05</th>\n",
       "      <td>0.012821</td>\n",
       "      <td>0.389082</td>\n",
       "      <td>1.060380</td>\n",
       "      <td>0.591386</td>\n",
       "    </tr>\n",
       "  </tbody>\n",
       "</table>\n",
       "</div>"
      ],
      "text/plain": [
       "                   A         B         C         D\n",
       "2018-04-01  0.602423 -0.411568 -0.289090 -0.818267\n",
       "2018-04-02  1.153751 -0.033723 -0.688777  0.829165\n",
       "2018-04-03  0.312754  1.107653  0.056733 -1.311537\n",
       "2018-04-04 -0.202630  0.088010 -0.113997  0.148461\n",
       "2018-04-05  0.012821  0.389082  1.060380  0.591386"
      ]
     },
     "execution_count": 14,
     "metadata": {},
     "output_type": "execute_result"
    }
   ],
   "source": [
    "df.head()"
   ]
  },
  {
   "cell_type": "code",
   "execution_count": 15,
   "metadata": {},
   "outputs": [
    {
     "data": {
      "text/html": [
       "<div>\n",
       "<style>\n",
       "    .dataframe thead tr:only-child th {\n",
       "        text-align: right;\n",
       "    }\n",
       "\n",
       "    .dataframe thead th {\n",
       "        text-align: left;\n",
       "    }\n",
       "\n",
       "    .dataframe tbody tr th {\n",
       "        vertical-align: top;\n",
       "    }\n",
       "</style>\n",
       "<table border=\"1\" class=\"dataframe\">\n",
       "  <thead>\n",
       "    <tr style=\"text-align: right;\">\n",
       "      <th></th>\n",
       "      <th>A</th>\n",
       "      <th>B</th>\n",
       "      <th>C</th>\n",
       "      <th>D</th>\n",
       "    </tr>\n",
       "  </thead>\n",
       "  <tbody>\n",
       "    <tr>\n",
       "      <th>2018-04-02</th>\n",
       "      <td>1.153751</td>\n",
       "      <td>-0.033723</td>\n",
       "      <td>-0.688777</td>\n",
       "      <td>0.829165</td>\n",
       "    </tr>\n",
       "    <tr>\n",
       "      <th>2018-04-03</th>\n",
       "      <td>0.312754</td>\n",
       "      <td>1.107653</td>\n",
       "      <td>0.056733</td>\n",
       "      <td>-1.311537</td>\n",
       "    </tr>\n",
       "    <tr>\n",
       "      <th>2018-04-04</th>\n",
       "      <td>-0.202630</td>\n",
       "      <td>0.088010</td>\n",
       "      <td>-0.113997</td>\n",
       "      <td>0.148461</td>\n",
       "    </tr>\n",
       "    <tr>\n",
       "      <th>2018-04-05</th>\n",
       "      <td>0.012821</td>\n",
       "      <td>0.389082</td>\n",
       "      <td>1.060380</td>\n",
       "      <td>0.591386</td>\n",
       "    </tr>\n",
       "    <tr>\n",
       "      <th>2018-04-06</th>\n",
       "      <td>0.991384</td>\n",
       "      <td>-1.097095</td>\n",
       "      <td>-1.236125</td>\n",
       "      <td>-0.511359</td>\n",
       "    </tr>\n",
       "  </tbody>\n",
       "</table>\n",
       "</div>"
      ],
      "text/plain": [
       "                   A         B         C         D\n",
       "2018-04-02  1.153751 -0.033723 -0.688777  0.829165\n",
       "2018-04-03  0.312754  1.107653  0.056733 -1.311537\n",
       "2018-04-04 -0.202630  0.088010 -0.113997  0.148461\n",
       "2018-04-05  0.012821  0.389082  1.060380  0.591386\n",
       "2018-04-06  0.991384 -1.097095 -1.236125 -0.511359"
      ]
     },
     "execution_count": 15,
     "metadata": {},
     "output_type": "execute_result"
    }
   ],
   "source": [
    "df.tail()"
   ]
  },
  {
   "cell_type": "code",
   "execution_count": 16,
   "metadata": {},
   "outputs": [
    {
     "data": {
      "text/plain": [
       "DatetimeIndex(['2018-04-01', '2018-04-02', '2018-04-03', '2018-04-04',\n",
       "               '2018-04-05', '2018-04-06'],\n",
       "              dtype='datetime64[ns]', freq='D')"
      ]
     },
     "execution_count": 16,
     "metadata": {},
     "output_type": "execute_result"
    }
   ],
   "source": [
    "df.index"
   ]
  },
  {
   "cell_type": "code",
   "execution_count": 17,
   "metadata": {},
   "outputs": [
    {
     "data": {
      "text/plain": [
       "array([[ 0.60242266, -0.41156833, -0.28908965, -0.81826673],\n",
       "       [ 1.15375064, -0.03372281, -0.68877716,  0.82916467],\n",
       "       [ 0.31275403,  1.10765254,  0.0567335 , -1.31153729],\n",
       "       [-0.20262964,  0.08801032, -0.11399705,  0.1484608 ],\n",
       "       [ 0.01282068,  0.38908178,  1.06037967,  0.59138582],\n",
       "       [ 0.99138404, -1.09709486, -1.2361255 , -0.51135894]])"
      ]
     },
     "execution_count": 17,
     "metadata": {},
     "output_type": "execute_result"
    }
   ],
   "source": [
    "df.values"
   ]
  },
  {
   "cell_type": "code",
   "execution_count": 18,
   "metadata": {},
   "outputs": [
    {
     "data": {
      "text/plain": [
       "Index(['A', 'B', 'C', 'D'], dtype='object')"
      ]
     },
     "execution_count": 18,
     "metadata": {},
     "output_type": "execute_result"
    }
   ],
   "source": [
    "df.columns"
   ]
  },
  {
   "cell_type": "code",
   "execution_count": 19,
   "metadata": {},
   "outputs": [
    {
     "data": {
      "text/html": [
       "<div>\n",
       "<style>\n",
       "    .dataframe thead tr:only-child th {\n",
       "        text-align: right;\n",
       "    }\n",
       "\n",
       "    .dataframe thead th {\n",
       "        text-align: left;\n",
       "    }\n",
       "\n",
       "    .dataframe tbody tr th {\n",
       "        vertical-align: top;\n",
       "    }\n",
       "</style>\n",
       "<table border=\"1\" class=\"dataframe\">\n",
       "  <thead>\n",
       "    <tr style=\"text-align: right;\">\n",
       "      <th></th>\n",
       "      <th>A</th>\n",
       "      <th>B</th>\n",
       "      <th>C</th>\n",
       "      <th>D</th>\n",
       "    </tr>\n",
       "  </thead>\n",
       "  <tbody>\n",
       "    <tr>\n",
       "      <th>count</th>\n",
       "      <td>6.000000</td>\n",
       "      <td>6.000000</td>\n",
       "      <td>6.000000</td>\n",
       "      <td>6.000000</td>\n",
       "    </tr>\n",
       "    <tr>\n",
       "      <th>mean</th>\n",
       "      <td>0.478417</td>\n",
       "      <td>0.007060</td>\n",
       "      <td>-0.201813</td>\n",
       "      <td>-0.178692</td>\n",
       "    </tr>\n",
       "    <tr>\n",
       "      <th>std</th>\n",
       "      <td>0.537147</td>\n",
       "      <td>0.742949</td>\n",
       "      <td>0.772301</td>\n",
       "      <td>0.838914</td>\n",
       "    </tr>\n",
       "    <tr>\n",
       "      <th>min</th>\n",
       "      <td>-0.202630</td>\n",
       "      <td>-1.097095</td>\n",
       "      <td>-1.236125</td>\n",
       "      <td>-1.311537</td>\n",
       "    </tr>\n",
       "    <tr>\n",
       "      <th>25%</th>\n",
       "      <td>0.087804</td>\n",
       "      <td>-0.317107</td>\n",
       "      <td>-0.588855</td>\n",
       "      <td>-0.741540</td>\n",
       "    </tr>\n",
       "    <tr>\n",
       "      <th>50%</th>\n",
       "      <td>0.457588</td>\n",
       "      <td>0.027144</td>\n",
       "      <td>-0.201543</td>\n",
       "      <td>-0.181449</td>\n",
       "    </tr>\n",
       "    <tr>\n",
       "      <th>75%</th>\n",
       "      <td>0.894144</td>\n",
       "      <td>0.313814</td>\n",
       "      <td>0.014051</td>\n",
       "      <td>0.480655</td>\n",
       "    </tr>\n",
       "    <tr>\n",
       "      <th>max</th>\n",
       "      <td>1.153751</td>\n",
       "      <td>1.107653</td>\n",
       "      <td>1.060380</td>\n",
       "      <td>0.829165</td>\n",
       "    </tr>\n",
       "  </tbody>\n",
       "</table>\n",
       "</div>"
      ],
      "text/plain": [
       "              A         B         C         D\n",
       "count  6.000000  6.000000  6.000000  6.000000\n",
       "mean   0.478417  0.007060 -0.201813 -0.178692\n",
       "std    0.537147  0.742949  0.772301  0.838914\n",
       "min   -0.202630 -1.097095 -1.236125 -1.311537\n",
       "25%    0.087804 -0.317107 -0.588855 -0.741540\n",
       "50%    0.457588  0.027144 -0.201543 -0.181449\n",
       "75%    0.894144  0.313814  0.014051  0.480655\n",
       "max    1.153751  1.107653  1.060380  0.829165"
      ]
     },
     "execution_count": 19,
     "metadata": {},
     "output_type": "execute_result"
    }
   ],
   "source": [
    "df.describe()"
   ]
  },
  {
   "cell_type": "code",
   "execution_count": 20,
   "metadata": {},
   "outputs": [
    {
     "data": {
      "text/plain": [
       "A    6\n",
       "B    6\n",
       "C    6\n",
       "D    6\n",
       "dtype: int64"
      ]
     },
     "execution_count": 20,
     "metadata": {},
     "output_type": "execute_result"
    }
   ],
   "source": [
    "df.count()"
   ]
  },
  {
   "cell_type": "code",
   "execution_count": 21,
   "metadata": {},
   "outputs": [
    {
     "data": {
      "text/html": [
       "<div>\n",
       "<style>\n",
       "    .dataframe thead tr:only-child th {\n",
       "        text-align: right;\n",
       "    }\n",
       "\n",
       "    .dataframe thead th {\n",
       "        text-align: left;\n",
       "    }\n",
       "\n",
       "    .dataframe tbody tr th {\n",
       "        vertical-align: top;\n",
       "    }\n",
       "</style>\n",
       "<table border=\"1\" class=\"dataframe\">\n",
       "  <thead>\n",
       "    <tr style=\"text-align: right;\">\n",
       "      <th></th>\n",
       "      <th>2018-04-01 00:00:00</th>\n",
       "      <th>2018-04-02 00:00:00</th>\n",
       "      <th>2018-04-03 00:00:00</th>\n",
       "      <th>2018-04-04 00:00:00</th>\n",
       "      <th>2018-04-05 00:00:00</th>\n",
       "      <th>2018-04-06 00:00:00</th>\n",
       "    </tr>\n",
       "  </thead>\n",
       "  <tbody>\n",
       "    <tr>\n",
       "      <th>A</th>\n",
       "      <td>0.602423</td>\n",
       "      <td>1.153751</td>\n",
       "      <td>0.312754</td>\n",
       "      <td>-0.202630</td>\n",
       "      <td>0.012821</td>\n",
       "      <td>0.991384</td>\n",
       "    </tr>\n",
       "    <tr>\n",
       "      <th>B</th>\n",
       "      <td>-0.411568</td>\n",
       "      <td>-0.033723</td>\n",
       "      <td>1.107653</td>\n",
       "      <td>0.088010</td>\n",
       "      <td>0.389082</td>\n",
       "      <td>-1.097095</td>\n",
       "    </tr>\n",
       "    <tr>\n",
       "      <th>C</th>\n",
       "      <td>-0.289090</td>\n",
       "      <td>-0.688777</td>\n",
       "      <td>0.056733</td>\n",
       "      <td>-0.113997</td>\n",
       "      <td>1.060380</td>\n",
       "      <td>-1.236125</td>\n",
       "    </tr>\n",
       "    <tr>\n",
       "      <th>D</th>\n",
       "      <td>-0.818267</td>\n",
       "      <td>0.829165</td>\n",
       "      <td>-1.311537</td>\n",
       "      <td>0.148461</td>\n",
       "      <td>0.591386</td>\n",
       "      <td>-0.511359</td>\n",
       "    </tr>\n",
       "  </tbody>\n",
       "</table>\n",
       "</div>"
      ],
      "text/plain": [
       "   2018-04-01  2018-04-02  2018-04-03  2018-04-04  2018-04-05  2018-04-06\n",
       "A    0.602423    1.153751    0.312754   -0.202630    0.012821    0.991384\n",
       "B   -0.411568   -0.033723    1.107653    0.088010    0.389082   -1.097095\n",
       "C   -0.289090   -0.688777    0.056733   -0.113997    1.060380   -1.236125\n",
       "D   -0.818267    0.829165   -1.311537    0.148461    0.591386   -0.511359"
      ]
     },
     "execution_count": 21,
     "metadata": {},
     "output_type": "execute_result"
    }
   ],
   "source": [
    "df.T"
   ]
  },
  {
   "cell_type": "code",
   "execution_count": 22,
   "metadata": {},
   "outputs": [
    {
     "data": {
      "text/html": [
       "<div>\n",
       "<style>\n",
       "    .dataframe thead tr:only-child th {\n",
       "        text-align: right;\n",
       "    }\n",
       "\n",
       "    .dataframe thead th {\n",
       "        text-align: left;\n",
       "    }\n",
       "\n",
       "    .dataframe tbody tr th {\n",
       "        vertical-align: top;\n",
       "    }\n",
       "</style>\n",
       "<table border=\"1\" class=\"dataframe\">\n",
       "  <thead>\n",
       "    <tr style=\"text-align: right;\">\n",
       "      <th></th>\n",
       "      <th>A</th>\n",
       "      <th>B</th>\n",
       "      <th>C</th>\n",
       "      <th>D</th>\n",
       "    </tr>\n",
       "  </thead>\n",
       "  <tbody>\n",
       "    <tr>\n",
       "      <th>2018-04-01</th>\n",
       "      <td>0.602423</td>\n",
       "      <td>-0.411568</td>\n",
       "      <td>-0.289090</td>\n",
       "      <td>-0.818267</td>\n",
       "    </tr>\n",
       "    <tr>\n",
       "      <th>2018-04-02</th>\n",
       "      <td>1.153751</td>\n",
       "      <td>-0.033723</td>\n",
       "      <td>-0.688777</td>\n",
       "      <td>0.829165</td>\n",
       "    </tr>\n",
       "    <tr>\n",
       "      <th>2018-04-03</th>\n",
       "      <td>0.312754</td>\n",
       "      <td>1.107653</td>\n",
       "      <td>0.056733</td>\n",
       "      <td>-1.311537</td>\n",
       "    </tr>\n",
       "    <tr>\n",
       "      <th>2018-04-04</th>\n",
       "      <td>-0.202630</td>\n",
       "      <td>0.088010</td>\n",
       "      <td>-0.113997</td>\n",
       "      <td>0.148461</td>\n",
       "    </tr>\n",
       "    <tr>\n",
       "      <th>2018-04-05</th>\n",
       "      <td>0.012821</td>\n",
       "      <td>0.389082</td>\n",
       "      <td>1.060380</td>\n",
       "      <td>0.591386</td>\n",
       "    </tr>\n",
       "    <tr>\n",
       "      <th>2018-04-06</th>\n",
       "      <td>0.991384</td>\n",
       "      <td>-1.097095</td>\n",
       "      <td>-1.236125</td>\n",
       "      <td>-0.511359</td>\n",
       "    </tr>\n",
       "  </tbody>\n",
       "</table>\n",
       "</div>"
      ],
      "text/plain": [
       "                   A         B         C         D\n",
       "2018-04-01  0.602423 -0.411568 -0.289090 -0.818267\n",
       "2018-04-02  1.153751 -0.033723 -0.688777  0.829165\n",
       "2018-04-03  0.312754  1.107653  0.056733 -1.311537\n",
       "2018-04-04 -0.202630  0.088010 -0.113997  0.148461\n",
       "2018-04-05  0.012821  0.389082  1.060380  0.591386\n",
       "2018-04-06  0.991384 -1.097095 -1.236125 -0.511359"
      ]
     },
     "execution_count": 22,
     "metadata": {},
     "output_type": "execute_result"
    }
   ],
   "source": [
    "df"
   ]
  },
  {
   "cell_type": "code",
   "execution_count": 23,
   "metadata": {},
   "outputs": [
    {
     "data": {
      "text/html": [
       "<div>\n",
       "<style>\n",
       "    .dataframe thead tr:only-child th {\n",
       "        text-align: right;\n",
       "    }\n",
       "\n",
       "    .dataframe thead th {\n",
       "        text-align: left;\n",
       "    }\n",
       "\n",
       "    .dataframe tbody tr th {\n",
       "        vertical-align: top;\n",
       "    }\n",
       "</style>\n",
       "<table border=\"1\" class=\"dataframe\">\n",
       "  <thead>\n",
       "    <tr style=\"text-align: right;\">\n",
       "      <th></th>\n",
       "      <th>D</th>\n",
       "      <th>C</th>\n",
       "      <th>B</th>\n",
       "      <th>A</th>\n",
       "    </tr>\n",
       "  </thead>\n",
       "  <tbody>\n",
       "    <tr>\n",
       "      <th>2018-04-01</th>\n",
       "      <td>-0.818267</td>\n",
       "      <td>-0.289090</td>\n",
       "      <td>-0.411568</td>\n",
       "      <td>0.602423</td>\n",
       "    </tr>\n",
       "    <tr>\n",
       "      <th>2018-04-02</th>\n",
       "      <td>0.829165</td>\n",
       "      <td>-0.688777</td>\n",
       "      <td>-0.033723</td>\n",
       "      <td>1.153751</td>\n",
       "    </tr>\n",
       "    <tr>\n",
       "      <th>2018-04-03</th>\n",
       "      <td>-1.311537</td>\n",
       "      <td>0.056733</td>\n",
       "      <td>1.107653</td>\n",
       "      <td>0.312754</td>\n",
       "    </tr>\n",
       "    <tr>\n",
       "      <th>2018-04-04</th>\n",
       "      <td>0.148461</td>\n",
       "      <td>-0.113997</td>\n",
       "      <td>0.088010</td>\n",
       "      <td>-0.202630</td>\n",
       "    </tr>\n",
       "    <tr>\n",
       "      <th>2018-04-05</th>\n",
       "      <td>0.591386</td>\n",
       "      <td>1.060380</td>\n",
       "      <td>0.389082</td>\n",
       "      <td>0.012821</td>\n",
       "    </tr>\n",
       "    <tr>\n",
       "      <th>2018-04-06</th>\n",
       "      <td>-0.511359</td>\n",
       "      <td>-1.236125</td>\n",
       "      <td>-1.097095</td>\n",
       "      <td>0.991384</td>\n",
       "    </tr>\n",
       "  </tbody>\n",
       "</table>\n",
       "</div>"
      ],
      "text/plain": [
       "                   D         C         B         A\n",
       "2018-04-01 -0.818267 -0.289090 -0.411568  0.602423\n",
       "2018-04-02  0.829165 -0.688777 -0.033723  1.153751\n",
       "2018-04-03 -1.311537  0.056733  1.107653  0.312754\n",
       "2018-04-04  0.148461 -0.113997  0.088010 -0.202630\n",
       "2018-04-05  0.591386  1.060380  0.389082  0.012821\n",
       "2018-04-06 -0.511359 -1.236125 -1.097095  0.991384"
      ]
     },
     "execution_count": 23,
     "metadata": {},
     "output_type": "execute_result"
    }
   ],
   "source": [
    "df.sort_index(axis=1, ascending=False)"
   ]
  },
  {
   "cell_type": "code",
   "execution_count": 24,
   "metadata": {},
   "outputs": [
    {
     "data": {
      "text/html": [
       "<div>\n",
       "<style>\n",
       "    .dataframe thead tr:only-child th {\n",
       "        text-align: right;\n",
       "    }\n",
       "\n",
       "    .dataframe thead th {\n",
       "        text-align: left;\n",
       "    }\n",
       "\n",
       "    .dataframe tbody tr th {\n",
       "        vertical-align: top;\n",
       "    }\n",
       "</style>\n",
       "<table border=\"1\" class=\"dataframe\">\n",
       "  <thead>\n",
       "    <tr style=\"text-align: right;\">\n",
       "      <th></th>\n",
       "      <th>A</th>\n",
       "      <th>B</th>\n",
       "      <th>C</th>\n",
       "      <th>D</th>\n",
       "    </tr>\n",
       "  </thead>\n",
       "  <tbody>\n",
       "    <tr>\n",
       "      <th>2018-04-06</th>\n",
       "      <td>0.991384</td>\n",
       "      <td>-1.097095</td>\n",
       "      <td>-1.236125</td>\n",
       "      <td>-0.511359</td>\n",
       "    </tr>\n",
       "    <tr>\n",
       "      <th>2018-04-05</th>\n",
       "      <td>0.012821</td>\n",
       "      <td>0.389082</td>\n",
       "      <td>1.060380</td>\n",
       "      <td>0.591386</td>\n",
       "    </tr>\n",
       "    <tr>\n",
       "      <th>2018-04-04</th>\n",
       "      <td>-0.202630</td>\n",
       "      <td>0.088010</td>\n",
       "      <td>-0.113997</td>\n",
       "      <td>0.148461</td>\n",
       "    </tr>\n",
       "    <tr>\n",
       "      <th>2018-04-03</th>\n",
       "      <td>0.312754</td>\n",
       "      <td>1.107653</td>\n",
       "      <td>0.056733</td>\n",
       "      <td>-1.311537</td>\n",
       "    </tr>\n",
       "    <tr>\n",
       "      <th>2018-04-02</th>\n",
       "      <td>1.153751</td>\n",
       "      <td>-0.033723</td>\n",
       "      <td>-0.688777</td>\n",
       "      <td>0.829165</td>\n",
       "    </tr>\n",
       "    <tr>\n",
       "      <th>2018-04-01</th>\n",
       "      <td>0.602423</td>\n",
       "      <td>-0.411568</td>\n",
       "      <td>-0.289090</td>\n",
       "      <td>-0.818267</td>\n",
       "    </tr>\n",
       "  </tbody>\n",
       "</table>\n",
       "</div>"
      ],
      "text/plain": [
       "                   A         B         C         D\n",
       "2018-04-06  0.991384 -1.097095 -1.236125 -0.511359\n",
       "2018-04-05  0.012821  0.389082  1.060380  0.591386\n",
       "2018-04-04 -0.202630  0.088010 -0.113997  0.148461\n",
       "2018-04-03  0.312754  1.107653  0.056733 -1.311537\n",
       "2018-04-02  1.153751 -0.033723 -0.688777  0.829165\n",
       "2018-04-01  0.602423 -0.411568 -0.289090 -0.818267"
      ]
     },
     "execution_count": 24,
     "metadata": {},
     "output_type": "execute_result"
    }
   ],
   "source": [
    "df.sort_index(axis=0, ascending=False)"
   ]
  },
  {
   "cell_type": "code",
   "execution_count": 25,
   "metadata": {},
   "outputs": [
    {
     "data": {
      "text/html": [
       "<div>\n",
       "<style>\n",
       "    .dataframe thead tr:only-child th {\n",
       "        text-align: right;\n",
       "    }\n",
       "\n",
       "    .dataframe thead th {\n",
       "        text-align: left;\n",
       "    }\n",
       "\n",
       "    .dataframe tbody tr th {\n",
       "        vertical-align: top;\n",
       "    }\n",
       "</style>\n",
       "<table border=\"1\" class=\"dataframe\">\n",
       "  <thead>\n",
       "    <tr style=\"text-align: right;\">\n",
       "      <th></th>\n",
       "      <th>A</th>\n",
       "      <th>B</th>\n",
       "      <th>C</th>\n",
       "      <th>D</th>\n",
       "    </tr>\n",
       "  </thead>\n",
       "  <tbody>\n",
       "    <tr>\n",
       "      <th>2018-04-04</th>\n",
       "      <td>-0.202630</td>\n",
       "      <td>0.088010</td>\n",
       "      <td>-0.113997</td>\n",
       "      <td>0.148461</td>\n",
       "    </tr>\n",
       "    <tr>\n",
       "      <th>2018-04-05</th>\n",
       "      <td>0.012821</td>\n",
       "      <td>0.389082</td>\n",
       "      <td>1.060380</td>\n",
       "      <td>0.591386</td>\n",
       "    </tr>\n",
       "    <tr>\n",
       "      <th>2018-04-03</th>\n",
       "      <td>0.312754</td>\n",
       "      <td>1.107653</td>\n",
       "      <td>0.056733</td>\n",
       "      <td>-1.311537</td>\n",
       "    </tr>\n",
       "    <tr>\n",
       "      <th>2018-04-01</th>\n",
       "      <td>0.602423</td>\n",
       "      <td>-0.411568</td>\n",
       "      <td>-0.289090</td>\n",
       "      <td>-0.818267</td>\n",
       "    </tr>\n",
       "    <tr>\n",
       "      <th>2018-04-06</th>\n",
       "      <td>0.991384</td>\n",
       "      <td>-1.097095</td>\n",
       "      <td>-1.236125</td>\n",
       "      <td>-0.511359</td>\n",
       "    </tr>\n",
       "    <tr>\n",
       "      <th>2018-04-02</th>\n",
       "      <td>1.153751</td>\n",
       "      <td>-0.033723</td>\n",
       "      <td>-0.688777</td>\n",
       "      <td>0.829165</td>\n",
       "    </tr>\n",
       "  </tbody>\n",
       "</table>\n",
       "</div>"
      ],
      "text/plain": [
       "                   A         B         C         D\n",
       "2018-04-04 -0.202630  0.088010 -0.113997  0.148461\n",
       "2018-04-05  0.012821  0.389082  1.060380  0.591386\n",
       "2018-04-03  0.312754  1.107653  0.056733 -1.311537\n",
       "2018-04-01  0.602423 -0.411568 -0.289090 -0.818267\n",
       "2018-04-06  0.991384 -1.097095 -1.236125 -0.511359\n",
       "2018-04-02  1.153751 -0.033723 -0.688777  0.829165"
      ]
     },
     "execution_count": 25,
     "metadata": {},
     "output_type": "execute_result"
    }
   ],
   "source": [
    "df.sort_values(by='A')"
   ]
  },
  {
   "cell_type": "code",
   "execution_count": 26,
   "metadata": {},
   "outputs": [
    {
     "data": {
      "text/html": [
       "<div>\n",
       "<style>\n",
       "    .dataframe thead tr:only-child th {\n",
       "        text-align: right;\n",
       "    }\n",
       "\n",
       "    .dataframe thead th {\n",
       "        text-align: left;\n",
       "    }\n",
       "\n",
       "    .dataframe tbody tr th {\n",
       "        vertical-align: top;\n",
       "    }\n",
       "</style>\n",
       "<table border=\"1\" class=\"dataframe\">\n",
       "  <thead>\n",
       "    <tr style=\"text-align: right;\">\n",
       "      <th></th>\n",
       "      <th>A</th>\n",
       "      <th>B</th>\n",
       "      <th>C</th>\n",
       "      <th>D</th>\n",
       "    </tr>\n",
       "  </thead>\n",
       "  <tbody>\n",
       "    <tr>\n",
       "      <th>2018-04-03</th>\n",
       "      <td>0.312754</td>\n",
       "      <td>1.107653</td>\n",
       "      <td>0.056733</td>\n",
       "      <td>-1.311537</td>\n",
       "    </tr>\n",
       "    <tr>\n",
       "      <th>2018-04-01</th>\n",
       "      <td>0.602423</td>\n",
       "      <td>-0.411568</td>\n",
       "      <td>-0.289090</td>\n",
       "      <td>-0.818267</td>\n",
       "    </tr>\n",
       "    <tr>\n",
       "      <th>2018-04-06</th>\n",
       "      <td>0.991384</td>\n",
       "      <td>-1.097095</td>\n",
       "      <td>-1.236125</td>\n",
       "      <td>-0.511359</td>\n",
       "    </tr>\n",
       "    <tr>\n",
       "      <th>2018-04-04</th>\n",
       "      <td>-0.202630</td>\n",
       "      <td>0.088010</td>\n",
       "      <td>-0.113997</td>\n",
       "      <td>0.148461</td>\n",
       "    </tr>\n",
       "    <tr>\n",
       "      <th>2018-04-05</th>\n",
       "      <td>0.012821</td>\n",
       "      <td>0.389082</td>\n",
       "      <td>1.060380</td>\n",
       "      <td>0.591386</td>\n",
       "    </tr>\n",
       "    <tr>\n",
       "      <th>2018-04-02</th>\n",
       "      <td>1.153751</td>\n",
       "      <td>-0.033723</td>\n",
       "      <td>-0.688777</td>\n",
       "      <td>0.829165</td>\n",
       "    </tr>\n",
       "  </tbody>\n",
       "</table>\n",
       "</div>"
      ],
      "text/plain": [
       "                   A         B         C         D\n",
       "2018-04-03  0.312754  1.107653  0.056733 -1.311537\n",
       "2018-04-01  0.602423 -0.411568 -0.289090 -0.818267\n",
       "2018-04-06  0.991384 -1.097095 -1.236125 -0.511359\n",
       "2018-04-04 -0.202630  0.088010 -0.113997  0.148461\n",
       "2018-04-05  0.012821  0.389082  1.060380  0.591386\n",
       "2018-04-02  1.153751 -0.033723 -0.688777  0.829165"
      ]
     },
     "execution_count": 26,
     "metadata": {},
     "output_type": "execute_result"
    }
   ],
   "source": [
    "df.sort_values(by='D')"
   ]
  },
  {
   "cell_type": "code",
   "execution_count": 27,
   "metadata": {},
   "outputs": [
    {
     "data": {
      "text/html": [
       "<div>\n",
       "<style>\n",
       "    .dataframe thead tr:only-child th {\n",
       "        text-align: right;\n",
       "    }\n",
       "\n",
       "    .dataframe thead th {\n",
       "        text-align: left;\n",
       "    }\n",
       "\n",
       "    .dataframe tbody tr th {\n",
       "        vertical-align: top;\n",
       "    }\n",
       "</style>\n",
       "<table border=\"1\" class=\"dataframe\">\n",
       "  <thead>\n",
       "    <tr style=\"text-align: right;\">\n",
       "      <th></th>\n",
       "      <th>A</th>\n",
       "      <th>B</th>\n",
       "      <th>C</th>\n",
       "      <th>D</th>\n",
       "    </tr>\n",
       "  </thead>\n",
       "  <tbody>\n",
       "    <tr>\n",
       "      <th>2018-04-02</th>\n",
       "      <td>1.153751</td>\n",
       "      <td>-0.033723</td>\n",
       "      <td>-0.688777</td>\n",
       "      <td>0.829165</td>\n",
       "    </tr>\n",
       "    <tr>\n",
       "      <th>2018-04-05</th>\n",
       "      <td>0.012821</td>\n",
       "      <td>0.389082</td>\n",
       "      <td>1.060380</td>\n",
       "      <td>0.591386</td>\n",
       "    </tr>\n",
       "    <tr>\n",
       "      <th>2018-04-04</th>\n",
       "      <td>-0.202630</td>\n",
       "      <td>0.088010</td>\n",
       "      <td>-0.113997</td>\n",
       "      <td>0.148461</td>\n",
       "    </tr>\n",
       "    <tr>\n",
       "      <th>2018-04-06</th>\n",
       "      <td>0.991384</td>\n",
       "      <td>-1.097095</td>\n",
       "      <td>-1.236125</td>\n",
       "      <td>-0.511359</td>\n",
       "    </tr>\n",
       "    <tr>\n",
       "      <th>2018-04-01</th>\n",
       "      <td>0.602423</td>\n",
       "      <td>-0.411568</td>\n",
       "      <td>-0.289090</td>\n",
       "      <td>-0.818267</td>\n",
       "    </tr>\n",
       "    <tr>\n",
       "      <th>2018-04-03</th>\n",
       "      <td>0.312754</td>\n",
       "      <td>1.107653</td>\n",
       "      <td>0.056733</td>\n",
       "      <td>-1.311537</td>\n",
       "    </tr>\n",
       "  </tbody>\n",
       "</table>\n",
       "</div>"
      ],
      "text/plain": [
       "                   A         B         C         D\n",
       "2018-04-02  1.153751 -0.033723 -0.688777  0.829165\n",
       "2018-04-05  0.012821  0.389082  1.060380  0.591386\n",
       "2018-04-04 -0.202630  0.088010 -0.113997  0.148461\n",
       "2018-04-06  0.991384 -1.097095 -1.236125 -0.511359\n",
       "2018-04-01  0.602423 -0.411568 -0.289090 -0.818267\n",
       "2018-04-03  0.312754  1.107653  0.056733 -1.311537"
      ]
     },
     "execution_count": 27,
     "metadata": {},
     "output_type": "execute_result"
    }
   ],
   "source": [
    "df.sort_values(by='D', ascending=False)"
   ]
  },
  {
   "cell_type": "code",
   "execution_count": 28,
   "metadata": {},
   "outputs": [
    {
     "data": {
      "text/plain": [
       "2018-04-01    0.602423\n",
       "2018-04-02    1.153751\n",
       "2018-04-03    0.312754\n",
       "2018-04-04   -0.202630\n",
       "2018-04-05    0.012821\n",
       "2018-04-06    0.991384\n",
       "Freq: D, Name: A, dtype: float64"
      ]
     },
     "execution_count": 28,
     "metadata": {},
     "output_type": "execute_result"
    }
   ],
   "source": [
    "df.A"
   ]
  },
  {
   "cell_type": "code",
   "execution_count": 29,
   "metadata": {},
   "outputs": [
    {
     "data": {
      "text/plain": [
       "2018-04-01   -0.818267\n",
       "2018-04-02    0.829165\n",
       "2018-04-03   -1.311537\n",
       "2018-04-04    0.148461\n",
       "2018-04-05    0.591386\n",
       "2018-04-06   -0.511359\n",
       "Freq: D, Name: D, dtype: float64"
      ]
     },
     "execution_count": 29,
     "metadata": {},
     "output_type": "execute_result"
    }
   ],
   "source": [
    "df.D"
   ]
  },
  {
   "cell_type": "code",
   "execution_count": 30,
   "metadata": {},
   "outputs": [
    {
     "data": {
      "text/plain": [
       "2018-04-01   -0.818267\n",
       "2018-04-02    0.829165\n",
       "2018-04-03   -1.311537\n",
       "2018-04-04    0.148461\n",
       "2018-04-05    0.591386\n",
       "2018-04-06   -0.511359\n",
       "Freq: D, Name: D, dtype: float64"
      ]
     },
     "execution_count": 30,
     "metadata": {},
     "output_type": "execute_result"
    }
   ],
   "source": [
    "df['D']"
   ]
  },
  {
   "cell_type": "code",
   "execution_count": 31,
   "metadata": {},
   "outputs": [
    {
     "data": {
      "text/html": [
       "<div>\n",
       "<style>\n",
       "    .dataframe thead tr:only-child th {\n",
       "        text-align: right;\n",
       "    }\n",
       "\n",
       "    .dataframe thead th {\n",
       "        text-align: left;\n",
       "    }\n",
       "\n",
       "    .dataframe tbody tr th {\n",
       "        vertical-align: top;\n",
       "    }\n",
       "</style>\n",
       "<table border=\"1\" class=\"dataframe\">\n",
       "  <thead>\n",
       "    <tr style=\"text-align: right;\">\n",
       "      <th></th>\n",
       "      <th>A</th>\n",
       "      <th>B</th>\n",
       "      <th>C</th>\n",
       "      <th>D</th>\n",
       "    </tr>\n",
       "  </thead>\n",
       "  <tbody>\n",
       "    <tr>\n",
       "      <th>2018-04-01</th>\n",
       "      <td>0.602423</td>\n",
       "      <td>-0.411568</td>\n",
       "      <td>-0.289090</td>\n",
       "      <td>-0.818267</td>\n",
       "    </tr>\n",
       "    <tr>\n",
       "      <th>2018-04-02</th>\n",
       "      <td>1.153751</td>\n",
       "      <td>-0.033723</td>\n",
       "      <td>-0.688777</td>\n",
       "      <td>0.829165</td>\n",
       "    </tr>\n",
       "    <tr>\n",
       "      <th>2018-04-03</th>\n",
       "      <td>0.312754</td>\n",
       "      <td>1.107653</td>\n",
       "      <td>0.056733</td>\n",
       "      <td>-1.311537</td>\n",
       "    </tr>\n",
       "  </tbody>\n",
       "</table>\n",
       "</div>"
      ],
      "text/plain": [
       "                   A         B         C         D\n",
       "2018-04-01  0.602423 -0.411568 -0.289090 -0.818267\n",
       "2018-04-02  1.153751 -0.033723 -0.688777  0.829165\n",
       "2018-04-03  0.312754  1.107653  0.056733 -1.311537"
      ]
     },
     "execution_count": 31,
     "metadata": {},
     "output_type": "execute_result"
    }
   ],
   "source": [
    "df[0:3]"
   ]
  },
  {
   "cell_type": "code",
   "execution_count": 32,
   "metadata": {},
   "outputs": [
    {
     "data": {
      "text/html": [
       "<div>\n",
       "<style>\n",
       "    .dataframe thead tr:only-child th {\n",
       "        text-align: right;\n",
       "    }\n",
       "\n",
       "    .dataframe thead th {\n",
       "        text-align: left;\n",
       "    }\n",
       "\n",
       "    .dataframe tbody tr th {\n",
       "        vertical-align: top;\n",
       "    }\n",
       "</style>\n",
       "<table border=\"1\" class=\"dataframe\">\n",
       "  <thead>\n",
       "    <tr style=\"text-align: right;\">\n",
       "      <th></th>\n",
       "      <th>A</th>\n",
       "      <th>B</th>\n",
       "      <th>C</th>\n",
       "      <th>D</th>\n",
       "    </tr>\n",
       "  </thead>\n",
       "  <tbody>\n",
       "    <tr>\n",
       "      <th>2018-04-01</th>\n",
       "      <td>0.602423</td>\n",
       "      <td>-0.411568</td>\n",
       "      <td>-0.289090</td>\n",
       "      <td>-0.818267</td>\n",
       "    </tr>\n",
       "    <tr>\n",
       "      <th>2018-04-02</th>\n",
       "      <td>1.153751</td>\n",
       "      <td>-0.033723</td>\n",
       "      <td>-0.688777</td>\n",
       "      <td>0.829165</td>\n",
       "    </tr>\n",
       "    <tr>\n",
       "      <th>2018-04-03</th>\n",
       "      <td>0.312754</td>\n",
       "      <td>1.107653</td>\n",
       "      <td>0.056733</td>\n",
       "      <td>-1.311537</td>\n",
       "    </tr>\n",
       "  </tbody>\n",
       "</table>\n",
       "</div>"
      ],
      "text/plain": [
       "                   A         B         C         D\n",
       "2018-04-01  0.602423 -0.411568 -0.289090 -0.818267\n",
       "2018-04-02  1.153751 -0.033723 -0.688777  0.829165\n",
       "2018-04-03  0.312754  1.107653  0.056733 -1.311537"
      ]
     },
     "execution_count": 32,
     "metadata": {},
     "output_type": "execute_result"
    }
   ],
   "source": [
    "df['20180401':'20180403']"
   ]
  },
  {
   "cell_type": "code",
   "execution_count": 33,
   "metadata": {},
   "outputs": [
    {
     "data": {
      "text/plain": [
       "A    1.153751\n",
       "B   -0.033723\n",
       "C   -0.688777\n",
       "D    0.829165\n",
       "Name: 2018-04-02 00:00:00, dtype: float64"
      ]
     },
     "execution_count": 33,
     "metadata": {},
     "output_type": "execute_result"
    }
   ],
   "source": [
    "df.loc[dates[1]]"
   ]
  },
  {
   "cell_type": "code",
   "execution_count": 34,
   "metadata": {},
   "outputs": [
    {
     "data": {
      "text/html": [
       "<div>\n",
       "<style>\n",
       "    .dataframe thead tr:only-child th {\n",
       "        text-align: right;\n",
       "    }\n",
       "\n",
       "    .dataframe thead th {\n",
       "        text-align: left;\n",
       "    }\n",
       "\n",
       "    .dataframe tbody tr th {\n",
       "        vertical-align: top;\n",
       "    }\n",
       "</style>\n",
       "<table border=\"1\" class=\"dataframe\">\n",
       "  <thead>\n",
       "    <tr style=\"text-align: right;\">\n",
       "      <th></th>\n",
       "      <th>A</th>\n",
       "      <th>B</th>\n",
       "      <th>C</th>\n",
       "      <th>D</th>\n",
       "    </tr>\n",
       "  </thead>\n",
       "  <tbody>\n",
       "    <tr>\n",
       "      <th>2018-04-01</th>\n",
       "      <td>0.602423</td>\n",
       "      <td>-0.411568</td>\n",
       "      <td>-0.289090</td>\n",
       "      <td>-0.818267</td>\n",
       "    </tr>\n",
       "    <tr>\n",
       "      <th>2018-04-02</th>\n",
       "      <td>1.153751</td>\n",
       "      <td>-0.033723</td>\n",
       "      <td>-0.688777</td>\n",
       "      <td>0.829165</td>\n",
       "    </tr>\n",
       "    <tr>\n",
       "      <th>2018-04-03</th>\n",
       "      <td>0.312754</td>\n",
       "      <td>1.107653</td>\n",
       "      <td>0.056733</td>\n",
       "      <td>-1.311537</td>\n",
       "    </tr>\n",
       "  </tbody>\n",
       "</table>\n",
       "</div>"
      ],
      "text/plain": [
       "                   A         B         C         D\n",
       "2018-04-01  0.602423 -0.411568 -0.289090 -0.818267\n",
       "2018-04-02  1.153751 -0.033723 -0.688777  0.829165\n",
       "2018-04-03  0.312754  1.107653  0.056733 -1.311537"
      ]
     },
     "execution_count": 34,
     "metadata": {},
     "output_type": "execute_result"
    }
   ],
   "source": [
    "df.iloc[0:3]"
   ]
  },
  {
   "cell_type": "code",
   "execution_count": 36,
   "metadata": {},
   "outputs": [
    {
     "data": {
      "text/html": [
       "<div>\n",
       "<style>\n",
       "    .dataframe thead tr:only-child th {\n",
       "        text-align: right;\n",
       "    }\n",
       "\n",
       "    .dataframe thead th {\n",
       "        text-align: left;\n",
       "    }\n",
       "\n",
       "    .dataframe tbody tr th {\n",
       "        vertical-align: top;\n",
       "    }\n",
       "</style>\n",
       "<table border=\"1\" class=\"dataframe\">\n",
       "  <thead>\n",
       "    <tr style=\"text-align: right;\">\n",
       "      <th></th>\n",
       "      <th>A</th>\n",
       "      <th>B</th>\n",
       "    </tr>\n",
       "  </thead>\n",
       "  <tbody>\n",
       "    <tr>\n",
       "      <th>2018-04-01</th>\n",
       "      <td>0.602423</td>\n",
       "      <td>-0.411568</td>\n",
       "    </tr>\n",
       "    <tr>\n",
       "      <th>2018-04-02</th>\n",
       "      <td>1.153751</td>\n",
       "      <td>-0.033723</td>\n",
       "    </tr>\n",
       "    <tr>\n",
       "      <th>2018-04-03</th>\n",
       "      <td>0.312754</td>\n",
       "      <td>1.107653</td>\n",
       "    </tr>\n",
       "    <tr>\n",
       "      <th>2018-04-04</th>\n",
       "      <td>-0.202630</td>\n",
       "      <td>0.088010</td>\n",
       "    </tr>\n",
       "    <tr>\n",
       "      <th>2018-04-05</th>\n",
       "      <td>0.012821</td>\n",
       "      <td>0.389082</td>\n",
       "    </tr>\n",
       "    <tr>\n",
       "      <th>2018-04-06</th>\n",
       "      <td>0.991384</td>\n",
       "      <td>-1.097095</td>\n",
       "    </tr>\n",
       "  </tbody>\n",
       "</table>\n",
       "</div>"
      ],
      "text/plain": [
       "                   A         B\n",
       "2018-04-01  0.602423 -0.411568\n",
       "2018-04-02  1.153751 -0.033723\n",
       "2018-04-03  0.312754  1.107653\n",
       "2018-04-04 -0.202630  0.088010\n",
       "2018-04-05  0.012821  0.389082\n",
       "2018-04-06  0.991384 -1.097095"
      ]
     },
     "execution_count": 36,
     "metadata": {},
     "output_type": "execute_result"
    }
   ],
   "source": [
    "df[['A', 'B']]"
   ]
  },
  {
   "cell_type": "code",
   "execution_count": 43,
   "metadata": {},
   "outputs": [
    {
     "data": {
      "text/plain": [
       "2018-04-01    0.602423\n",
       "2018-04-02    1.153751\n",
       "2018-04-03    0.312754\n",
       "2018-04-04   -0.202630\n",
       "2018-04-05    0.012821\n",
       "2018-04-06    0.991384\n",
       "Freq: D, Name: A, dtype: float64"
      ]
     },
     "execution_count": 43,
     "metadata": {},
     "output_type": "execute_result"
    }
   ],
   "source": []
  },
  {
   "cell_type": "code",
   "execution_count": null,
   "metadata": {
    "collapsed": true
   },
   "outputs": [],
   "source": []
  }
 ],
 "metadata": {
  "kernelspec": {
   "display_name": "Python 3",
   "language": "python",
   "name": "python3"
  },
  "language_info": {
   "codemirror_mode": {
    "name": "ipython",
    "version": 3
   },
   "file_extension": ".py",
   "mimetype": "text/x-python",
   "name": "python",
   "nbconvert_exporter": "python",
   "pygments_lexer": "ipython3",
   "version": "3.6.3"
  }
 },
 "nbformat": 4,
 "nbformat_minor": 2
}
