{
 "cells": [
  {
   "cell_type": "code",
   "execution_count": 1,
   "metadata": {},
   "outputs": [],
   "source": [
    "import pandas as pd\n",
    "import numpy as np"
   ]
  },
  {
   "cell_type": "code",
   "execution_count": 2,
   "metadata": {},
   "outputs": [],
   "source": [
    "dates = pd.date_range('20180401', periods=6)"
   ]
  },
  {
   "cell_type": "code",
   "execution_count": 3,
   "metadata": {},
   "outputs": [
    {
     "data": {
      "text/plain": [
       "DatetimeIndex(['2018-04-01', '2018-04-02', '2018-04-03', '2018-04-04',\n",
       "               '2018-04-05', '2018-04-06'],\n",
       "              dtype='datetime64[ns]', freq='D')"
      ]
     },
     "execution_count": 3,
     "metadata": {},
     "output_type": "execute_result"
    }
   ],
   "source": [
    "dates"
   ]
  },
  {
   "cell_type": "code",
   "execution_count": 4,
   "metadata": {},
   "outputs": [],
   "source": [
    "df = pd.DataFrame(np.random.randn(6, 4), index=dates, columns=list('ABCD'))"
   ]
  },
  {
   "cell_type": "code",
   "execution_count": 5,
   "metadata": {},
   "outputs": [
    {
     "data": {
      "text/html": [
       "<div>\n",
       "<style scoped>\n",
       "    .dataframe tbody tr th:only-of-type {\n",
       "        vertical-align: middle;\n",
       "    }\n",
       "\n",
       "    .dataframe tbody tr th {\n",
       "        vertical-align: top;\n",
       "    }\n",
       "\n",
       "    .dataframe thead th {\n",
       "        text-align: right;\n",
       "    }\n",
       "</style>\n",
       "<table border=\"1\" class=\"dataframe\">\n",
       "  <thead>\n",
       "    <tr style=\"text-align: right;\">\n",
       "      <th></th>\n",
       "      <th>A</th>\n",
       "      <th>B</th>\n",
       "      <th>C</th>\n",
       "      <th>D</th>\n",
       "    </tr>\n",
       "  </thead>\n",
       "  <tbody>\n",
       "    <tr>\n",
       "      <th>2018-04-01</th>\n",
       "      <td>-0.837760</td>\n",
       "      <td>-1.162111</td>\n",
       "      <td>0.707946</td>\n",
       "      <td>-0.548410</td>\n",
       "    </tr>\n",
       "    <tr>\n",
       "      <th>2018-04-02</th>\n",
       "      <td>-0.157229</td>\n",
       "      <td>0.823872</td>\n",
       "      <td>-0.113366</td>\n",
       "      <td>-0.576175</td>\n",
       "    </tr>\n",
       "    <tr>\n",
       "      <th>2018-04-03</th>\n",
       "      <td>0.995803</td>\n",
       "      <td>-0.285840</td>\n",
       "      <td>1.430982</td>\n",
       "      <td>1.893572</td>\n",
       "    </tr>\n",
       "    <tr>\n",
       "      <th>2018-04-04</th>\n",
       "      <td>2.283707</td>\n",
       "      <td>1.207510</td>\n",
       "      <td>0.140492</td>\n",
       "      <td>-1.144507</td>\n",
       "    </tr>\n",
       "    <tr>\n",
       "      <th>2018-04-05</th>\n",
       "      <td>-0.830126</td>\n",
       "      <td>0.393925</td>\n",
       "      <td>-0.240371</td>\n",
       "      <td>0.094279</td>\n",
       "    </tr>\n",
       "    <tr>\n",
       "      <th>2018-04-06</th>\n",
       "      <td>0.485792</td>\n",
       "      <td>2.629013</td>\n",
       "      <td>-0.120410</td>\n",
       "      <td>-1.085401</td>\n",
       "    </tr>\n",
       "  </tbody>\n",
       "</table>\n",
       "</div>"
      ],
      "text/plain": [
       "                   A         B         C         D\n",
       "2018-04-01 -0.837760 -1.162111  0.707946 -0.548410\n",
       "2018-04-02 -0.157229  0.823872 -0.113366 -0.576175\n",
       "2018-04-03  0.995803 -0.285840  1.430982  1.893572\n",
       "2018-04-04  2.283707  1.207510  0.140492 -1.144507\n",
       "2018-04-05 -0.830126  0.393925 -0.240371  0.094279\n",
       "2018-04-06  0.485792  2.629013 -0.120410 -1.085401"
      ]
     },
     "execution_count": 5,
     "metadata": {},
     "output_type": "execute_result"
    }
   ],
   "source": [
    "df"
   ]
  },
  {
   "cell_type": "code",
   "execution_count": 6,
   "metadata": {},
   "outputs": [
    {
     "data": {
      "text/plain": [
       "A    float64\n",
       "B    float64\n",
       "C    float64\n",
       "D    float64\n",
       "dtype: object"
      ]
     },
     "execution_count": 6,
     "metadata": {},
     "output_type": "execute_result"
    }
   ],
   "source": [
    "df.dtypes"
   ]
  },
  {
   "cell_type": "code",
   "execution_count": 7,
   "metadata": {},
   "outputs": [
    {
     "data": {
      "text/html": [
       "<div>\n",
       "<style scoped>\n",
       "    .dataframe tbody tr th:only-of-type {\n",
       "        vertical-align: middle;\n",
       "    }\n",
       "\n",
       "    .dataframe tbody tr th {\n",
       "        vertical-align: top;\n",
       "    }\n",
       "\n",
       "    .dataframe thead th {\n",
       "        text-align: right;\n",
       "    }\n",
       "</style>\n",
       "<table border=\"1\" class=\"dataframe\">\n",
       "  <thead>\n",
       "    <tr style=\"text-align: right;\">\n",
       "      <th></th>\n",
       "      <th>A</th>\n",
       "      <th>B</th>\n",
       "      <th>C</th>\n",
       "      <th>D</th>\n",
       "    </tr>\n",
       "  </thead>\n",
       "  <tbody>\n",
       "    <tr>\n",
       "      <th>2018-04-01</th>\n",
       "      <td>-0.837760</td>\n",
       "      <td>-1.162111</td>\n",
       "      <td>0.707946</td>\n",
       "      <td>-0.548410</td>\n",
       "    </tr>\n",
       "    <tr>\n",
       "      <th>2018-04-02</th>\n",
       "      <td>-0.157229</td>\n",
       "      <td>0.823872</td>\n",
       "      <td>-0.113366</td>\n",
       "      <td>-0.576175</td>\n",
       "    </tr>\n",
       "    <tr>\n",
       "      <th>2018-04-03</th>\n",
       "      <td>0.995803</td>\n",
       "      <td>-0.285840</td>\n",
       "      <td>1.430982</td>\n",
       "      <td>1.893572</td>\n",
       "    </tr>\n",
       "    <tr>\n",
       "      <th>2018-04-04</th>\n",
       "      <td>2.283707</td>\n",
       "      <td>1.207510</td>\n",
       "      <td>0.140492</td>\n",
       "      <td>-1.144507</td>\n",
       "    </tr>\n",
       "    <tr>\n",
       "      <th>2018-04-05</th>\n",
       "      <td>-0.830126</td>\n",
       "      <td>0.393925</td>\n",
       "      <td>-0.240371</td>\n",
       "      <td>0.094279</td>\n",
       "    </tr>\n",
       "  </tbody>\n",
       "</table>\n",
       "</div>"
      ],
      "text/plain": [
       "                   A         B         C         D\n",
       "2018-04-01 -0.837760 -1.162111  0.707946 -0.548410\n",
       "2018-04-02 -0.157229  0.823872 -0.113366 -0.576175\n",
       "2018-04-03  0.995803 -0.285840  1.430982  1.893572\n",
       "2018-04-04  2.283707  1.207510  0.140492 -1.144507\n",
       "2018-04-05 -0.830126  0.393925 -0.240371  0.094279"
      ]
     },
     "execution_count": 7,
     "metadata": {},
     "output_type": "execute_result"
    }
   ],
   "source": [
    "df.head()"
   ]
  },
  {
   "cell_type": "code",
   "execution_count": 8,
   "metadata": {},
   "outputs": [
    {
     "data": {
      "text/html": [
       "<div>\n",
       "<style scoped>\n",
       "    .dataframe tbody tr th:only-of-type {\n",
       "        vertical-align: middle;\n",
       "    }\n",
       "\n",
       "    .dataframe tbody tr th {\n",
       "        vertical-align: top;\n",
       "    }\n",
       "\n",
       "    .dataframe thead th {\n",
       "        text-align: right;\n",
       "    }\n",
       "</style>\n",
       "<table border=\"1\" class=\"dataframe\">\n",
       "  <thead>\n",
       "    <tr style=\"text-align: right;\">\n",
       "      <th></th>\n",
       "      <th>A</th>\n",
       "      <th>B</th>\n",
       "      <th>C</th>\n",
       "      <th>D</th>\n",
       "    </tr>\n",
       "  </thead>\n",
       "  <tbody>\n",
       "    <tr>\n",
       "      <th>2018-04-02</th>\n",
       "      <td>-0.157229</td>\n",
       "      <td>0.823872</td>\n",
       "      <td>-0.113366</td>\n",
       "      <td>-0.576175</td>\n",
       "    </tr>\n",
       "    <tr>\n",
       "      <th>2018-04-03</th>\n",
       "      <td>0.995803</td>\n",
       "      <td>-0.285840</td>\n",
       "      <td>1.430982</td>\n",
       "      <td>1.893572</td>\n",
       "    </tr>\n",
       "    <tr>\n",
       "      <th>2018-04-04</th>\n",
       "      <td>2.283707</td>\n",
       "      <td>1.207510</td>\n",
       "      <td>0.140492</td>\n",
       "      <td>-1.144507</td>\n",
       "    </tr>\n",
       "    <tr>\n",
       "      <th>2018-04-05</th>\n",
       "      <td>-0.830126</td>\n",
       "      <td>0.393925</td>\n",
       "      <td>-0.240371</td>\n",
       "      <td>0.094279</td>\n",
       "    </tr>\n",
       "    <tr>\n",
       "      <th>2018-04-06</th>\n",
       "      <td>0.485792</td>\n",
       "      <td>2.629013</td>\n",
       "      <td>-0.120410</td>\n",
       "      <td>-1.085401</td>\n",
       "    </tr>\n",
       "  </tbody>\n",
       "</table>\n",
       "</div>"
      ],
      "text/plain": [
       "                   A         B         C         D\n",
       "2018-04-02 -0.157229  0.823872 -0.113366 -0.576175\n",
       "2018-04-03  0.995803 -0.285840  1.430982  1.893572\n",
       "2018-04-04  2.283707  1.207510  0.140492 -1.144507\n",
       "2018-04-05 -0.830126  0.393925 -0.240371  0.094279\n",
       "2018-04-06  0.485792  2.629013 -0.120410 -1.085401"
      ]
     },
     "execution_count": 8,
     "metadata": {},
     "output_type": "execute_result"
    }
   ],
   "source": [
    "df.tail()"
   ]
  },
  {
   "cell_type": "code",
   "execution_count": 9,
   "metadata": {},
   "outputs": [
    {
     "data": {
      "text/plain": [
       "DatetimeIndex(['2018-04-01', '2018-04-02', '2018-04-03', '2018-04-04',\n",
       "               '2018-04-05', '2018-04-06'],\n",
       "              dtype='datetime64[ns]', freq='D')"
      ]
     },
     "execution_count": 9,
     "metadata": {},
     "output_type": "execute_result"
    }
   ],
   "source": [
    "df.index"
   ]
  },
  {
   "cell_type": "code",
   "execution_count": 10,
   "metadata": {},
   "outputs": [
    {
     "data": {
      "text/plain": [
       "array([[-0.83776043, -1.16211087,  0.70794625, -0.54841038],\n",
       "       [-0.15722868,  0.82387224, -0.11336563, -0.57617488],\n",
       "       [ 0.9958029 , -0.28583979,  1.43098181,  1.89357151],\n",
       "       [ 2.28370714,  1.20750978,  0.14049201, -1.14450664],\n",
       "       [-0.83012598,  0.39392494, -0.24037072,  0.09427937],\n",
       "       [ 0.48579202,  2.62901283, -0.1204104 , -1.08540093]])"
      ]
     },
     "execution_count": 10,
     "metadata": {},
     "output_type": "execute_result"
    }
   ],
   "source": [
    "df.values"
   ]
  },
  {
   "cell_type": "code",
   "execution_count": 11,
   "metadata": {},
   "outputs": [
    {
     "data": {
      "text/plain": [
       "Index(['A', 'B', 'C', 'D'], dtype='object')"
      ]
     },
     "execution_count": 11,
     "metadata": {},
     "output_type": "execute_result"
    }
   ],
   "source": [
    "df.columns"
   ]
  },
  {
   "cell_type": "code",
   "execution_count": 12,
   "metadata": {},
   "outputs": [
    {
     "data": {
      "text/html": [
       "<div>\n",
       "<style scoped>\n",
       "    .dataframe tbody tr th:only-of-type {\n",
       "        vertical-align: middle;\n",
       "    }\n",
       "\n",
       "    .dataframe tbody tr th {\n",
       "        vertical-align: top;\n",
       "    }\n",
       "\n",
       "    .dataframe thead th {\n",
       "        text-align: right;\n",
       "    }\n",
       "</style>\n",
       "<table border=\"1\" class=\"dataframe\">\n",
       "  <thead>\n",
       "    <tr style=\"text-align: right;\">\n",
       "      <th></th>\n",
       "      <th>A</th>\n",
       "      <th>B</th>\n",
       "      <th>C</th>\n",
       "      <th>D</th>\n",
       "    </tr>\n",
       "  </thead>\n",
       "  <tbody>\n",
       "    <tr>\n",
       "      <th>count</th>\n",
       "      <td>6.000000</td>\n",
       "      <td>6.000000</td>\n",
       "      <td>6.000000</td>\n",
       "      <td>6.000000</td>\n",
       "    </tr>\n",
       "    <tr>\n",
       "      <th>mean</th>\n",
       "      <td>0.323364</td>\n",
       "      <td>0.601062</td>\n",
       "      <td>0.300879</td>\n",
       "      <td>-0.227774</td>\n",
       "    </tr>\n",
       "    <tr>\n",
       "      <th>std</th>\n",
       "      <td>1.202599</td>\n",
       "      <td>1.301406</td>\n",
       "      <td>0.649707</td>\n",
       "      <td>1.131719</td>\n",
       "    </tr>\n",
       "    <tr>\n",
       "      <th>min</th>\n",
       "      <td>-0.837760</td>\n",
       "      <td>-1.162111</td>\n",
       "      <td>-0.240371</td>\n",
       "      <td>-1.144507</td>\n",
       "    </tr>\n",
       "    <tr>\n",
       "      <th>25%</th>\n",
       "      <td>-0.661902</td>\n",
       "      <td>-0.115899</td>\n",
       "      <td>-0.118649</td>\n",
       "      <td>-0.958094</td>\n",
       "    </tr>\n",
       "    <tr>\n",
       "      <th>50%</th>\n",
       "      <td>0.164282</td>\n",
       "      <td>0.608899</td>\n",
       "      <td>0.013563</td>\n",
       "      <td>-0.562293</td>\n",
       "    </tr>\n",
       "    <tr>\n",
       "      <th>75%</th>\n",
       "      <td>0.868300</td>\n",
       "      <td>1.111600</td>\n",
       "      <td>0.566083</td>\n",
       "      <td>-0.066393</td>\n",
       "    </tr>\n",
       "    <tr>\n",
       "      <th>max</th>\n",
       "      <td>2.283707</td>\n",
       "      <td>2.629013</td>\n",
       "      <td>1.430982</td>\n",
       "      <td>1.893572</td>\n",
       "    </tr>\n",
       "  </tbody>\n",
       "</table>\n",
       "</div>"
      ],
      "text/plain": [
       "              A         B         C         D\n",
       "count  6.000000  6.000000  6.000000  6.000000\n",
       "mean   0.323364  0.601062  0.300879 -0.227774\n",
       "std    1.202599  1.301406  0.649707  1.131719\n",
       "min   -0.837760 -1.162111 -0.240371 -1.144507\n",
       "25%   -0.661902 -0.115899 -0.118649 -0.958094\n",
       "50%    0.164282  0.608899  0.013563 -0.562293\n",
       "75%    0.868300  1.111600  0.566083 -0.066393\n",
       "max    2.283707  2.629013  1.430982  1.893572"
      ]
     },
     "execution_count": 12,
     "metadata": {},
     "output_type": "execute_result"
    }
   ],
   "source": [
    "df.describe()"
   ]
  },
  {
   "cell_type": "code",
   "execution_count": 13,
   "metadata": {},
   "outputs": [
    {
     "data": {
      "text/plain": [
       "A    6\n",
       "B    6\n",
       "C    6\n",
       "D    6\n",
       "dtype: int64"
      ]
     },
     "execution_count": 13,
     "metadata": {},
     "output_type": "execute_result"
    }
   ],
   "source": [
    "df.count()"
   ]
  },
  {
   "cell_type": "code",
   "execution_count": 14,
   "metadata": {},
   "outputs": [
    {
     "data": {
      "text/html": [
       "<div>\n",
       "<style scoped>\n",
       "    .dataframe tbody tr th:only-of-type {\n",
       "        vertical-align: middle;\n",
       "    }\n",
       "\n",
       "    .dataframe tbody tr th {\n",
       "        vertical-align: top;\n",
       "    }\n",
       "\n",
       "    .dataframe thead th {\n",
       "        text-align: right;\n",
       "    }\n",
       "</style>\n",
       "<table border=\"1\" class=\"dataframe\">\n",
       "  <thead>\n",
       "    <tr style=\"text-align: right;\">\n",
       "      <th></th>\n",
       "      <th>2018-04-01 00:00:00</th>\n",
       "      <th>2018-04-02 00:00:00</th>\n",
       "      <th>2018-04-03 00:00:00</th>\n",
       "      <th>2018-04-04 00:00:00</th>\n",
       "      <th>2018-04-05 00:00:00</th>\n",
       "      <th>2018-04-06 00:00:00</th>\n",
       "    </tr>\n",
       "  </thead>\n",
       "  <tbody>\n",
       "    <tr>\n",
       "      <th>A</th>\n",
       "      <td>-0.837760</td>\n",
       "      <td>-0.157229</td>\n",
       "      <td>0.995803</td>\n",
       "      <td>2.283707</td>\n",
       "      <td>-0.830126</td>\n",
       "      <td>0.485792</td>\n",
       "    </tr>\n",
       "    <tr>\n",
       "      <th>B</th>\n",
       "      <td>-1.162111</td>\n",
       "      <td>0.823872</td>\n",
       "      <td>-0.285840</td>\n",
       "      <td>1.207510</td>\n",
       "      <td>0.393925</td>\n",
       "      <td>2.629013</td>\n",
       "    </tr>\n",
       "    <tr>\n",
       "      <th>C</th>\n",
       "      <td>0.707946</td>\n",
       "      <td>-0.113366</td>\n",
       "      <td>1.430982</td>\n",
       "      <td>0.140492</td>\n",
       "      <td>-0.240371</td>\n",
       "      <td>-0.120410</td>\n",
       "    </tr>\n",
       "    <tr>\n",
       "      <th>D</th>\n",
       "      <td>-0.548410</td>\n",
       "      <td>-0.576175</td>\n",
       "      <td>1.893572</td>\n",
       "      <td>-1.144507</td>\n",
       "      <td>0.094279</td>\n",
       "      <td>-1.085401</td>\n",
       "    </tr>\n",
       "  </tbody>\n",
       "</table>\n",
       "</div>"
      ],
      "text/plain": [
       "   2018-04-01  2018-04-02  2018-04-03  2018-04-04  2018-04-05  2018-04-06\n",
       "A   -0.837760   -0.157229    0.995803    2.283707   -0.830126    0.485792\n",
       "B   -1.162111    0.823872   -0.285840    1.207510    0.393925    2.629013\n",
       "C    0.707946   -0.113366    1.430982    0.140492   -0.240371   -0.120410\n",
       "D   -0.548410   -0.576175    1.893572   -1.144507    0.094279   -1.085401"
      ]
     },
     "execution_count": 14,
     "metadata": {},
     "output_type": "execute_result"
    }
   ],
   "source": [
    "df.T"
   ]
  },
  {
   "cell_type": "code",
   "execution_count": 15,
   "metadata": {},
   "outputs": [
    {
     "data": {
      "text/html": [
       "<div>\n",
       "<style scoped>\n",
       "    .dataframe tbody tr th:only-of-type {\n",
       "        vertical-align: middle;\n",
       "    }\n",
       "\n",
       "    .dataframe tbody tr th {\n",
       "        vertical-align: top;\n",
       "    }\n",
       "\n",
       "    .dataframe thead th {\n",
       "        text-align: right;\n",
       "    }\n",
       "</style>\n",
       "<table border=\"1\" class=\"dataframe\">\n",
       "  <thead>\n",
       "    <tr style=\"text-align: right;\">\n",
       "      <th></th>\n",
       "      <th>A</th>\n",
       "      <th>B</th>\n",
       "      <th>C</th>\n",
       "      <th>D</th>\n",
       "    </tr>\n",
       "  </thead>\n",
       "  <tbody>\n",
       "    <tr>\n",
       "      <th>2018-04-01</th>\n",
       "      <td>-0.837760</td>\n",
       "      <td>-1.162111</td>\n",
       "      <td>0.707946</td>\n",
       "      <td>-0.548410</td>\n",
       "    </tr>\n",
       "    <tr>\n",
       "      <th>2018-04-02</th>\n",
       "      <td>-0.157229</td>\n",
       "      <td>0.823872</td>\n",
       "      <td>-0.113366</td>\n",
       "      <td>-0.576175</td>\n",
       "    </tr>\n",
       "    <tr>\n",
       "      <th>2018-04-03</th>\n",
       "      <td>0.995803</td>\n",
       "      <td>-0.285840</td>\n",
       "      <td>1.430982</td>\n",
       "      <td>1.893572</td>\n",
       "    </tr>\n",
       "    <tr>\n",
       "      <th>2018-04-04</th>\n",
       "      <td>2.283707</td>\n",
       "      <td>1.207510</td>\n",
       "      <td>0.140492</td>\n",
       "      <td>-1.144507</td>\n",
       "    </tr>\n",
       "    <tr>\n",
       "      <th>2018-04-05</th>\n",
       "      <td>-0.830126</td>\n",
       "      <td>0.393925</td>\n",
       "      <td>-0.240371</td>\n",
       "      <td>0.094279</td>\n",
       "    </tr>\n",
       "    <tr>\n",
       "      <th>2018-04-06</th>\n",
       "      <td>0.485792</td>\n",
       "      <td>2.629013</td>\n",
       "      <td>-0.120410</td>\n",
       "      <td>-1.085401</td>\n",
       "    </tr>\n",
       "  </tbody>\n",
       "</table>\n",
       "</div>"
      ],
      "text/plain": [
       "                   A         B         C         D\n",
       "2018-04-01 -0.837760 -1.162111  0.707946 -0.548410\n",
       "2018-04-02 -0.157229  0.823872 -0.113366 -0.576175\n",
       "2018-04-03  0.995803 -0.285840  1.430982  1.893572\n",
       "2018-04-04  2.283707  1.207510  0.140492 -1.144507\n",
       "2018-04-05 -0.830126  0.393925 -0.240371  0.094279\n",
       "2018-04-06  0.485792  2.629013 -0.120410 -1.085401"
      ]
     },
     "execution_count": 15,
     "metadata": {},
     "output_type": "execute_result"
    }
   ],
   "source": [
    "df"
   ]
  },
  {
   "cell_type": "code",
   "execution_count": 16,
   "metadata": {},
   "outputs": [
    {
     "data": {
      "text/html": [
       "<div>\n",
       "<style scoped>\n",
       "    .dataframe tbody tr th:only-of-type {\n",
       "        vertical-align: middle;\n",
       "    }\n",
       "\n",
       "    .dataframe tbody tr th {\n",
       "        vertical-align: top;\n",
       "    }\n",
       "\n",
       "    .dataframe thead th {\n",
       "        text-align: right;\n",
       "    }\n",
       "</style>\n",
       "<table border=\"1\" class=\"dataframe\">\n",
       "  <thead>\n",
       "    <tr style=\"text-align: right;\">\n",
       "      <th></th>\n",
       "      <th>D</th>\n",
       "      <th>C</th>\n",
       "      <th>B</th>\n",
       "      <th>A</th>\n",
       "    </tr>\n",
       "  </thead>\n",
       "  <tbody>\n",
       "    <tr>\n",
       "      <th>2018-04-01</th>\n",
       "      <td>-0.548410</td>\n",
       "      <td>0.707946</td>\n",
       "      <td>-1.162111</td>\n",
       "      <td>-0.837760</td>\n",
       "    </tr>\n",
       "    <tr>\n",
       "      <th>2018-04-02</th>\n",
       "      <td>-0.576175</td>\n",
       "      <td>-0.113366</td>\n",
       "      <td>0.823872</td>\n",
       "      <td>-0.157229</td>\n",
       "    </tr>\n",
       "    <tr>\n",
       "      <th>2018-04-03</th>\n",
       "      <td>1.893572</td>\n",
       "      <td>1.430982</td>\n",
       "      <td>-0.285840</td>\n",
       "      <td>0.995803</td>\n",
       "    </tr>\n",
       "    <tr>\n",
       "      <th>2018-04-04</th>\n",
       "      <td>-1.144507</td>\n",
       "      <td>0.140492</td>\n",
       "      <td>1.207510</td>\n",
       "      <td>2.283707</td>\n",
       "    </tr>\n",
       "    <tr>\n",
       "      <th>2018-04-05</th>\n",
       "      <td>0.094279</td>\n",
       "      <td>-0.240371</td>\n",
       "      <td>0.393925</td>\n",
       "      <td>-0.830126</td>\n",
       "    </tr>\n",
       "    <tr>\n",
       "      <th>2018-04-06</th>\n",
       "      <td>-1.085401</td>\n",
       "      <td>-0.120410</td>\n",
       "      <td>2.629013</td>\n",
       "      <td>0.485792</td>\n",
       "    </tr>\n",
       "  </tbody>\n",
       "</table>\n",
       "</div>"
      ],
      "text/plain": [
       "                   D         C         B         A\n",
       "2018-04-01 -0.548410  0.707946 -1.162111 -0.837760\n",
       "2018-04-02 -0.576175 -0.113366  0.823872 -0.157229\n",
       "2018-04-03  1.893572  1.430982 -0.285840  0.995803\n",
       "2018-04-04 -1.144507  0.140492  1.207510  2.283707\n",
       "2018-04-05  0.094279 -0.240371  0.393925 -0.830126\n",
       "2018-04-06 -1.085401 -0.120410  2.629013  0.485792"
      ]
     },
     "execution_count": 16,
     "metadata": {},
     "output_type": "execute_result"
    }
   ],
   "source": [
    "df.sort_index(axis=1, ascending=False)"
   ]
  },
  {
   "cell_type": "code",
   "execution_count": 17,
   "metadata": {},
   "outputs": [
    {
     "data": {
      "text/html": [
       "<div>\n",
       "<style scoped>\n",
       "    .dataframe tbody tr th:only-of-type {\n",
       "        vertical-align: middle;\n",
       "    }\n",
       "\n",
       "    .dataframe tbody tr th {\n",
       "        vertical-align: top;\n",
       "    }\n",
       "\n",
       "    .dataframe thead th {\n",
       "        text-align: right;\n",
       "    }\n",
       "</style>\n",
       "<table border=\"1\" class=\"dataframe\">\n",
       "  <thead>\n",
       "    <tr style=\"text-align: right;\">\n",
       "      <th></th>\n",
       "      <th>A</th>\n",
       "      <th>B</th>\n",
       "      <th>C</th>\n",
       "      <th>D</th>\n",
       "    </tr>\n",
       "  </thead>\n",
       "  <tbody>\n",
       "    <tr>\n",
       "      <th>2018-04-06</th>\n",
       "      <td>0.485792</td>\n",
       "      <td>2.629013</td>\n",
       "      <td>-0.120410</td>\n",
       "      <td>-1.085401</td>\n",
       "    </tr>\n",
       "    <tr>\n",
       "      <th>2018-04-05</th>\n",
       "      <td>-0.830126</td>\n",
       "      <td>0.393925</td>\n",
       "      <td>-0.240371</td>\n",
       "      <td>0.094279</td>\n",
       "    </tr>\n",
       "    <tr>\n",
       "      <th>2018-04-04</th>\n",
       "      <td>2.283707</td>\n",
       "      <td>1.207510</td>\n",
       "      <td>0.140492</td>\n",
       "      <td>-1.144507</td>\n",
       "    </tr>\n",
       "    <tr>\n",
       "      <th>2018-04-03</th>\n",
       "      <td>0.995803</td>\n",
       "      <td>-0.285840</td>\n",
       "      <td>1.430982</td>\n",
       "      <td>1.893572</td>\n",
       "    </tr>\n",
       "    <tr>\n",
       "      <th>2018-04-02</th>\n",
       "      <td>-0.157229</td>\n",
       "      <td>0.823872</td>\n",
       "      <td>-0.113366</td>\n",
       "      <td>-0.576175</td>\n",
       "    </tr>\n",
       "    <tr>\n",
       "      <th>2018-04-01</th>\n",
       "      <td>-0.837760</td>\n",
       "      <td>-1.162111</td>\n",
       "      <td>0.707946</td>\n",
       "      <td>-0.548410</td>\n",
       "    </tr>\n",
       "  </tbody>\n",
       "</table>\n",
       "</div>"
      ],
      "text/plain": [
       "                   A         B         C         D\n",
       "2018-04-06  0.485792  2.629013 -0.120410 -1.085401\n",
       "2018-04-05 -0.830126  0.393925 -0.240371  0.094279\n",
       "2018-04-04  2.283707  1.207510  0.140492 -1.144507\n",
       "2018-04-03  0.995803 -0.285840  1.430982  1.893572\n",
       "2018-04-02 -0.157229  0.823872 -0.113366 -0.576175\n",
       "2018-04-01 -0.837760 -1.162111  0.707946 -0.548410"
      ]
     },
     "execution_count": 17,
     "metadata": {},
     "output_type": "execute_result"
    }
   ],
   "source": [
    "df.sort_index(axis=0, ascending=False)"
   ]
  },
  {
   "cell_type": "code",
   "execution_count": 18,
   "metadata": {},
   "outputs": [
    {
     "data": {
      "text/html": [
       "<div>\n",
       "<style scoped>\n",
       "    .dataframe tbody tr th:only-of-type {\n",
       "        vertical-align: middle;\n",
       "    }\n",
       "\n",
       "    .dataframe tbody tr th {\n",
       "        vertical-align: top;\n",
       "    }\n",
       "\n",
       "    .dataframe thead th {\n",
       "        text-align: right;\n",
       "    }\n",
       "</style>\n",
       "<table border=\"1\" class=\"dataframe\">\n",
       "  <thead>\n",
       "    <tr style=\"text-align: right;\">\n",
       "      <th></th>\n",
       "      <th>A</th>\n",
       "      <th>B</th>\n",
       "      <th>C</th>\n",
       "      <th>D</th>\n",
       "    </tr>\n",
       "  </thead>\n",
       "  <tbody>\n",
       "    <tr>\n",
       "      <th>2018-04-01</th>\n",
       "      <td>-0.837760</td>\n",
       "      <td>-1.162111</td>\n",
       "      <td>0.707946</td>\n",
       "      <td>-0.548410</td>\n",
       "    </tr>\n",
       "    <tr>\n",
       "      <th>2018-04-05</th>\n",
       "      <td>-0.830126</td>\n",
       "      <td>0.393925</td>\n",
       "      <td>-0.240371</td>\n",
       "      <td>0.094279</td>\n",
       "    </tr>\n",
       "    <tr>\n",
       "      <th>2018-04-02</th>\n",
       "      <td>-0.157229</td>\n",
       "      <td>0.823872</td>\n",
       "      <td>-0.113366</td>\n",
       "      <td>-0.576175</td>\n",
       "    </tr>\n",
       "    <tr>\n",
       "      <th>2018-04-06</th>\n",
       "      <td>0.485792</td>\n",
       "      <td>2.629013</td>\n",
       "      <td>-0.120410</td>\n",
       "      <td>-1.085401</td>\n",
       "    </tr>\n",
       "    <tr>\n",
       "      <th>2018-04-03</th>\n",
       "      <td>0.995803</td>\n",
       "      <td>-0.285840</td>\n",
       "      <td>1.430982</td>\n",
       "      <td>1.893572</td>\n",
       "    </tr>\n",
       "    <tr>\n",
       "      <th>2018-04-04</th>\n",
       "      <td>2.283707</td>\n",
       "      <td>1.207510</td>\n",
       "      <td>0.140492</td>\n",
       "      <td>-1.144507</td>\n",
       "    </tr>\n",
       "  </tbody>\n",
       "</table>\n",
       "</div>"
      ],
      "text/plain": [
       "                   A         B         C         D\n",
       "2018-04-01 -0.837760 -1.162111  0.707946 -0.548410\n",
       "2018-04-05 -0.830126  0.393925 -0.240371  0.094279\n",
       "2018-04-02 -0.157229  0.823872 -0.113366 -0.576175\n",
       "2018-04-06  0.485792  2.629013 -0.120410 -1.085401\n",
       "2018-04-03  0.995803 -0.285840  1.430982  1.893572\n",
       "2018-04-04  2.283707  1.207510  0.140492 -1.144507"
      ]
     },
     "execution_count": 18,
     "metadata": {},
     "output_type": "execute_result"
    }
   ],
   "source": [
    "df.sort_values(by='A')"
   ]
  },
  {
   "cell_type": "code",
   "execution_count": 19,
   "metadata": {},
   "outputs": [
    {
     "data": {
      "text/html": [
       "<div>\n",
       "<style scoped>\n",
       "    .dataframe tbody tr th:only-of-type {\n",
       "        vertical-align: middle;\n",
       "    }\n",
       "\n",
       "    .dataframe tbody tr th {\n",
       "        vertical-align: top;\n",
       "    }\n",
       "\n",
       "    .dataframe thead th {\n",
       "        text-align: right;\n",
       "    }\n",
       "</style>\n",
       "<table border=\"1\" class=\"dataframe\">\n",
       "  <thead>\n",
       "    <tr style=\"text-align: right;\">\n",
       "      <th></th>\n",
       "      <th>A</th>\n",
       "      <th>B</th>\n",
       "      <th>C</th>\n",
       "      <th>D</th>\n",
       "    </tr>\n",
       "  </thead>\n",
       "  <tbody>\n",
       "    <tr>\n",
       "      <th>2018-04-04</th>\n",
       "      <td>2.283707</td>\n",
       "      <td>1.207510</td>\n",
       "      <td>0.140492</td>\n",
       "      <td>-1.144507</td>\n",
       "    </tr>\n",
       "    <tr>\n",
       "      <th>2018-04-06</th>\n",
       "      <td>0.485792</td>\n",
       "      <td>2.629013</td>\n",
       "      <td>-0.120410</td>\n",
       "      <td>-1.085401</td>\n",
       "    </tr>\n",
       "    <tr>\n",
       "      <th>2018-04-02</th>\n",
       "      <td>-0.157229</td>\n",
       "      <td>0.823872</td>\n",
       "      <td>-0.113366</td>\n",
       "      <td>-0.576175</td>\n",
       "    </tr>\n",
       "    <tr>\n",
       "      <th>2018-04-01</th>\n",
       "      <td>-0.837760</td>\n",
       "      <td>-1.162111</td>\n",
       "      <td>0.707946</td>\n",
       "      <td>-0.548410</td>\n",
       "    </tr>\n",
       "    <tr>\n",
       "      <th>2018-04-05</th>\n",
       "      <td>-0.830126</td>\n",
       "      <td>0.393925</td>\n",
       "      <td>-0.240371</td>\n",
       "      <td>0.094279</td>\n",
       "    </tr>\n",
       "    <tr>\n",
       "      <th>2018-04-03</th>\n",
       "      <td>0.995803</td>\n",
       "      <td>-0.285840</td>\n",
       "      <td>1.430982</td>\n",
       "      <td>1.893572</td>\n",
       "    </tr>\n",
       "  </tbody>\n",
       "</table>\n",
       "</div>"
      ],
      "text/plain": [
       "                   A         B         C         D\n",
       "2018-04-04  2.283707  1.207510  0.140492 -1.144507\n",
       "2018-04-06  0.485792  2.629013 -0.120410 -1.085401\n",
       "2018-04-02 -0.157229  0.823872 -0.113366 -0.576175\n",
       "2018-04-01 -0.837760 -1.162111  0.707946 -0.548410\n",
       "2018-04-05 -0.830126  0.393925 -0.240371  0.094279\n",
       "2018-04-03  0.995803 -0.285840  1.430982  1.893572"
      ]
     },
     "execution_count": 19,
     "metadata": {},
     "output_type": "execute_result"
    }
   ],
   "source": [
    "df.sort_values(by='D')"
   ]
  },
  {
   "cell_type": "code",
   "execution_count": 20,
   "metadata": {},
   "outputs": [
    {
     "data": {
      "text/html": [
       "<div>\n",
       "<style scoped>\n",
       "    .dataframe tbody tr th:only-of-type {\n",
       "        vertical-align: middle;\n",
       "    }\n",
       "\n",
       "    .dataframe tbody tr th {\n",
       "        vertical-align: top;\n",
       "    }\n",
       "\n",
       "    .dataframe thead th {\n",
       "        text-align: right;\n",
       "    }\n",
       "</style>\n",
       "<table border=\"1\" class=\"dataframe\">\n",
       "  <thead>\n",
       "    <tr style=\"text-align: right;\">\n",
       "      <th></th>\n",
       "      <th>A</th>\n",
       "      <th>B</th>\n",
       "      <th>C</th>\n",
       "      <th>D</th>\n",
       "    </tr>\n",
       "  </thead>\n",
       "  <tbody>\n",
       "    <tr>\n",
       "      <th>2018-04-03</th>\n",
       "      <td>0.995803</td>\n",
       "      <td>-0.285840</td>\n",
       "      <td>1.430982</td>\n",
       "      <td>1.893572</td>\n",
       "    </tr>\n",
       "    <tr>\n",
       "      <th>2018-04-05</th>\n",
       "      <td>-0.830126</td>\n",
       "      <td>0.393925</td>\n",
       "      <td>-0.240371</td>\n",
       "      <td>0.094279</td>\n",
       "    </tr>\n",
       "    <tr>\n",
       "      <th>2018-04-01</th>\n",
       "      <td>-0.837760</td>\n",
       "      <td>-1.162111</td>\n",
       "      <td>0.707946</td>\n",
       "      <td>-0.548410</td>\n",
       "    </tr>\n",
       "    <tr>\n",
       "      <th>2018-04-02</th>\n",
       "      <td>-0.157229</td>\n",
       "      <td>0.823872</td>\n",
       "      <td>-0.113366</td>\n",
       "      <td>-0.576175</td>\n",
       "    </tr>\n",
       "    <tr>\n",
       "      <th>2018-04-06</th>\n",
       "      <td>0.485792</td>\n",
       "      <td>2.629013</td>\n",
       "      <td>-0.120410</td>\n",
       "      <td>-1.085401</td>\n",
       "    </tr>\n",
       "    <tr>\n",
       "      <th>2018-04-04</th>\n",
       "      <td>2.283707</td>\n",
       "      <td>1.207510</td>\n",
       "      <td>0.140492</td>\n",
       "      <td>-1.144507</td>\n",
       "    </tr>\n",
       "  </tbody>\n",
       "</table>\n",
       "</div>"
      ],
      "text/plain": [
       "                   A         B         C         D\n",
       "2018-04-03  0.995803 -0.285840  1.430982  1.893572\n",
       "2018-04-05 -0.830126  0.393925 -0.240371  0.094279\n",
       "2018-04-01 -0.837760 -1.162111  0.707946 -0.548410\n",
       "2018-04-02 -0.157229  0.823872 -0.113366 -0.576175\n",
       "2018-04-06  0.485792  2.629013 -0.120410 -1.085401\n",
       "2018-04-04  2.283707  1.207510  0.140492 -1.144507"
      ]
     },
     "execution_count": 20,
     "metadata": {},
     "output_type": "execute_result"
    }
   ],
   "source": [
    "df.sort_values(by='D', ascending=False)"
   ]
  },
  {
   "cell_type": "code",
   "execution_count": 21,
   "metadata": {},
   "outputs": [
    {
     "data": {
      "text/plain": [
       "2018-04-01   -0.837760\n",
       "2018-04-02   -0.157229\n",
       "2018-04-03    0.995803\n",
       "2018-04-04    2.283707\n",
       "2018-04-05   -0.830126\n",
       "2018-04-06    0.485792\n",
       "Freq: D, Name: A, dtype: float64"
      ]
     },
     "execution_count": 21,
     "metadata": {},
     "output_type": "execute_result"
    }
   ],
   "source": [
    "df.A"
   ]
  },
  {
   "cell_type": "code",
   "execution_count": 22,
   "metadata": {},
   "outputs": [
    {
     "data": {
      "text/plain": [
       "2018-04-01   -0.548410\n",
       "2018-04-02   -0.576175\n",
       "2018-04-03    1.893572\n",
       "2018-04-04   -1.144507\n",
       "2018-04-05    0.094279\n",
       "2018-04-06   -1.085401\n",
       "Freq: D, Name: D, dtype: float64"
      ]
     },
     "execution_count": 22,
     "metadata": {},
     "output_type": "execute_result"
    }
   ],
   "source": [
    "df.D"
   ]
  },
  {
   "cell_type": "code",
   "execution_count": 23,
   "metadata": {},
   "outputs": [
    {
     "data": {
      "text/plain": [
       "2018-04-01   -0.548410\n",
       "2018-04-02   -0.576175\n",
       "2018-04-03    1.893572\n",
       "2018-04-04   -1.144507\n",
       "2018-04-05    0.094279\n",
       "2018-04-06   -1.085401\n",
       "Freq: D, Name: D, dtype: float64"
      ]
     },
     "execution_count": 23,
     "metadata": {},
     "output_type": "execute_result"
    }
   ],
   "source": [
    "df['D']"
   ]
  },
  {
   "cell_type": "code",
   "execution_count": 24,
   "metadata": {},
   "outputs": [
    {
     "data": {
      "text/html": [
       "<div>\n",
       "<style scoped>\n",
       "    .dataframe tbody tr th:only-of-type {\n",
       "        vertical-align: middle;\n",
       "    }\n",
       "\n",
       "    .dataframe tbody tr th {\n",
       "        vertical-align: top;\n",
       "    }\n",
       "\n",
       "    .dataframe thead th {\n",
       "        text-align: right;\n",
       "    }\n",
       "</style>\n",
       "<table border=\"1\" class=\"dataframe\">\n",
       "  <thead>\n",
       "    <tr style=\"text-align: right;\">\n",
       "      <th></th>\n",
       "      <th>A</th>\n",
       "      <th>B</th>\n",
       "      <th>C</th>\n",
       "      <th>D</th>\n",
       "    </tr>\n",
       "  </thead>\n",
       "  <tbody>\n",
       "    <tr>\n",
       "      <th>2018-04-01</th>\n",
       "      <td>-0.837760</td>\n",
       "      <td>-1.162111</td>\n",
       "      <td>0.707946</td>\n",
       "      <td>-0.548410</td>\n",
       "    </tr>\n",
       "    <tr>\n",
       "      <th>2018-04-02</th>\n",
       "      <td>-0.157229</td>\n",
       "      <td>0.823872</td>\n",
       "      <td>-0.113366</td>\n",
       "      <td>-0.576175</td>\n",
       "    </tr>\n",
       "    <tr>\n",
       "      <th>2018-04-03</th>\n",
       "      <td>0.995803</td>\n",
       "      <td>-0.285840</td>\n",
       "      <td>1.430982</td>\n",
       "      <td>1.893572</td>\n",
       "    </tr>\n",
       "  </tbody>\n",
       "</table>\n",
       "</div>"
      ],
      "text/plain": [
       "                   A         B         C         D\n",
       "2018-04-01 -0.837760 -1.162111  0.707946 -0.548410\n",
       "2018-04-02 -0.157229  0.823872 -0.113366 -0.576175\n",
       "2018-04-03  0.995803 -0.285840  1.430982  1.893572"
      ]
     },
     "execution_count": 24,
     "metadata": {},
     "output_type": "execute_result"
    }
   ],
   "source": [
    "df[0:3]"
   ]
  },
  {
   "cell_type": "code",
   "execution_count": 25,
   "metadata": {},
   "outputs": [
    {
     "data": {
      "text/html": [
       "<div>\n",
       "<style scoped>\n",
       "    .dataframe tbody tr th:only-of-type {\n",
       "        vertical-align: middle;\n",
       "    }\n",
       "\n",
       "    .dataframe tbody tr th {\n",
       "        vertical-align: top;\n",
       "    }\n",
       "\n",
       "    .dataframe thead th {\n",
       "        text-align: right;\n",
       "    }\n",
       "</style>\n",
       "<table border=\"1\" class=\"dataframe\">\n",
       "  <thead>\n",
       "    <tr style=\"text-align: right;\">\n",
       "      <th></th>\n",
       "      <th>A</th>\n",
       "      <th>B</th>\n",
       "      <th>C</th>\n",
       "      <th>D</th>\n",
       "    </tr>\n",
       "  </thead>\n",
       "  <tbody>\n",
       "    <tr>\n",
       "      <th>2018-04-01</th>\n",
       "      <td>-0.837760</td>\n",
       "      <td>-1.162111</td>\n",
       "      <td>0.707946</td>\n",
       "      <td>-0.548410</td>\n",
       "    </tr>\n",
       "    <tr>\n",
       "      <th>2018-04-02</th>\n",
       "      <td>-0.157229</td>\n",
       "      <td>0.823872</td>\n",
       "      <td>-0.113366</td>\n",
       "      <td>-0.576175</td>\n",
       "    </tr>\n",
       "    <tr>\n",
       "      <th>2018-04-03</th>\n",
       "      <td>0.995803</td>\n",
       "      <td>-0.285840</td>\n",
       "      <td>1.430982</td>\n",
       "      <td>1.893572</td>\n",
       "    </tr>\n",
       "  </tbody>\n",
       "</table>\n",
       "</div>"
      ],
      "text/plain": [
       "                   A         B         C         D\n",
       "2018-04-01 -0.837760 -1.162111  0.707946 -0.548410\n",
       "2018-04-02 -0.157229  0.823872 -0.113366 -0.576175\n",
       "2018-04-03  0.995803 -0.285840  1.430982  1.893572"
      ]
     },
     "execution_count": 25,
     "metadata": {},
     "output_type": "execute_result"
    }
   ],
   "source": [
    "df['20180401':'20180403']"
   ]
  },
  {
   "cell_type": "code",
   "execution_count": 26,
   "metadata": {},
   "outputs": [
    {
     "data": {
      "text/plain": [
       "A   -0.157229\n",
       "B    0.823872\n",
       "C   -0.113366\n",
       "D   -0.576175\n",
       "Name: 2018-04-02 00:00:00, dtype: float64"
      ]
     },
     "execution_count": 26,
     "metadata": {},
     "output_type": "execute_result"
    }
   ],
   "source": [
    "df.loc[dates[1]]"
   ]
  },
  {
   "cell_type": "code",
   "execution_count": 27,
   "metadata": {},
   "outputs": [
    {
     "data": {
      "text/html": [
       "<div>\n",
       "<style scoped>\n",
       "    .dataframe tbody tr th:only-of-type {\n",
       "        vertical-align: middle;\n",
       "    }\n",
       "\n",
       "    .dataframe tbody tr th {\n",
       "        vertical-align: top;\n",
       "    }\n",
       "\n",
       "    .dataframe thead th {\n",
       "        text-align: right;\n",
       "    }\n",
       "</style>\n",
       "<table border=\"1\" class=\"dataframe\">\n",
       "  <thead>\n",
       "    <tr style=\"text-align: right;\">\n",
       "      <th></th>\n",
       "      <th>A</th>\n",
       "      <th>B</th>\n",
       "      <th>C</th>\n",
       "      <th>D</th>\n",
       "    </tr>\n",
       "  </thead>\n",
       "  <tbody>\n",
       "    <tr>\n",
       "      <th>2018-04-01</th>\n",
       "      <td>-0.837760</td>\n",
       "      <td>-1.162111</td>\n",
       "      <td>0.707946</td>\n",
       "      <td>-0.548410</td>\n",
       "    </tr>\n",
       "    <tr>\n",
       "      <th>2018-04-02</th>\n",
       "      <td>-0.157229</td>\n",
       "      <td>0.823872</td>\n",
       "      <td>-0.113366</td>\n",
       "      <td>-0.576175</td>\n",
       "    </tr>\n",
       "    <tr>\n",
       "      <th>2018-04-03</th>\n",
       "      <td>0.995803</td>\n",
       "      <td>-0.285840</td>\n",
       "      <td>1.430982</td>\n",
       "      <td>1.893572</td>\n",
       "    </tr>\n",
       "  </tbody>\n",
       "</table>\n",
       "</div>"
      ],
      "text/plain": [
       "                   A         B         C         D\n",
       "2018-04-01 -0.837760 -1.162111  0.707946 -0.548410\n",
       "2018-04-02 -0.157229  0.823872 -0.113366 -0.576175\n",
       "2018-04-03  0.995803 -0.285840  1.430982  1.893572"
      ]
     },
     "execution_count": 27,
     "metadata": {},
     "output_type": "execute_result"
    }
   ],
   "source": [
    "df.iloc[0:3]"
   ]
  },
  {
   "cell_type": "code",
   "execution_count": 28,
   "metadata": {},
   "outputs": [
    {
     "data": {
      "text/html": [
       "<div>\n",
       "<style scoped>\n",
       "    .dataframe tbody tr th:only-of-type {\n",
       "        vertical-align: middle;\n",
       "    }\n",
       "\n",
       "    .dataframe tbody tr th {\n",
       "        vertical-align: top;\n",
       "    }\n",
       "\n",
       "    .dataframe thead th {\n",
       "        text-align: right;\n",
       "    }\n",
       "</style>\n",
       "<table border=\"1\" class=\"dataframe\">\n",
       "  <thead>\n",
       "    <tr style=\"text-align: right;\">\n",
       "      <th></th>\n",
       "      <th>A</th>\n",
       "      <th>B</th>\n",
       "    </tr>\n",
       "  </thead>\n",
       "  <tbody>\n",
       "    <tr>\n",
       "      <th>2018-04-01</th>\n",
       "      <td>-0.837760</td>\n",
       "      <td>-1.162111</td>\n",
       "    </tr>\n",
       "    <tr>\n",
       "      <th>2018-04-02</th>\n",
       "      <td>-0.157229</td>\n",
       "      <td>0.823872</td>\n",
       "    </tr>\n",
       "    <tr>\n",
       "      <th>2018-04-03</th>\n",
       "      <td>0.995803</td>\n",
       "      <td>-0.285840</td>\n",
       "    </tr>\n",
       "    <tr>\n",
       "      <th>2018-04-04</th>\n",
       "      <td>2.283707</td>\n",
       "      <td>1.207510</td>\n",
       "    </tr>\n",
       "    <tr>\n",
       "      <th>2018-04-05</th>\n",
       "      <td>-0.830126</td>\n",
       "      <td>0.393925</td>\n",
       "    </tr>\n",
       "    <tr>\n",
       "      <th>2018-04-06</th>\n",
       "      <td>0.485792</td>\n",
       "      <td>2.629013</td>\n",
       "    </tr>\n",
       "  </tbody>\n",
       "</table>\n",
       "</div>"
      ],
      "text/plain": [
       "                   A         B\n",
       "2018-04-01 -0.837760 -1.162111\n",
       "2018-04-02 -0.157229  0.823872\n",
       "2018-04-03  0.995803 -0.285840\n",
       "2018-04-04  2.283707  1.207510\n",
       "2018-04-05 -0.830126  0.393925\n",
       "2018-04-06  0.485792  2.629013"
      ]
     },
     "execution_count": 28,
     "metadata": {},
     "output_type": "execute_result"
    }
   ],
   "source": [
    "df[['A', 'B']]"
   ]
  },
  {
   "cell_type": "code",
   "execution_count": 29,
   "metadata": {},
   "outputs": [
    {
     "data": {
      "text/html": [
       "<div>\n",
       "<style scoped>\n",
       "    .dataframe tbody tr th:only-of-type {\n",
       "        vertical-align: middle;\n",
       "    }\n",
       "\n",
       "    .dataframe tbody tr th {\n",
       "        vertical-align: top;\n",
       "    }\n",
       "\n",
       "    .dataframe thead th {\n",
       "        text-align: right;\n",
       "    }\n",
       "</style>\n",
       "<table border=\"1\" class=\"dataframe\">\n",
       "  <thead>\n",
       "    <tr style=\"text-align: right;\">\n",
       "      <th></th>\n",
       "      <th>A</th>\n",
       "      <th>B</th>\n",
       "      <th>C</th>\n",
       "      <th>D</th>\n",
       "    </tr>\n",
       "  </thead>\n",
       "  <tbody>\n",
       "    <tr>\n",
       "      <th>2018-04-01</th>\n",
       "      <td>-0.837760</td>\n",
       "      <td>-1.162111</td>\n",
       "      <td>0.707946</td>\n",
       "      <td>-0.548410</td>\n",
       "    </tr>\n",
       "    <tr>\n",
       "      <th>2018-04-02</th>\n",
       "      <td>-0.157229</td>\n",
       "      <td>0.823872</td>\n",
       "      <td>-0.113366</td>\n",
       "      <td>-0.576175</td>\n",
       "    </tr>\n",
       "    <tr>\n",
       "      <th>2018-04-03</th>\n",
       "      <td>0.995803</td>\n",
       "      <td>-0.285840</td>\n",
       "      <td>1.430982</td>\n",
       "      <td>1.893572</td>\n",
       "    </tr>\n",
       "  </tbody>\n",
       "</table>\n",
       "</div>"
      ],
      "text/plain": [
       "                   A         B         C         D\n",
       "2018-04-01 -0.837760 -1.162111  0.707946 -0.548410\n",
       "2018-04-02 -0.157229  0.823872 -0.113366 -0.576175\n",
       "2018-04-03  0.995803 -0.285840  1.430982  1.893572"
      ]
     },
     "execution_count": 29,
     "metadata": {},
     "output_type": "execute_result"
    }
   ],
   "source": [
    "df.iloc[0:3]"
   ]
  },
  {
   "cell_type": "code",
   "execution_count": 30,
   "metadata": {},
   "outputs": [
    {
     "data": {
      "text/plain": [
       "2018-04-01   -0.837760\n",
       "2018-04-02   -0.157229\n",
       "2018-04-03    0.995803\n",
       "2018-04-04    2.283707\n",
       "2018-04-05   -0.830126\n",
       "2018-04-06    0.485792\n",
       "Freq: D, Name: A, dtype: float64"
      ]
     },
     "execution_count": 30,
     "metadata": {},
     "output_type": "execute_result"
    }
   ],
   "source": [
    "df.A"
   ]
  },
  {
   "cell_type": "code",
   "execution_count": 31,
   "metadata": {},
   "outputs": [
    {
     "data": {
      "text/html": [
       "<div>\n",
       "<style scoped>\n",
       "    .dataframe tbody tr th:only-of-type {\n",
       "        vertical-align: middle;\n",
       "    }\n",
       "\n",
       "    .dataframe tbody tr th {\n",
       "        vertical-align: top;\n",
       "    }\n",
       "\n",
       "    .dataframe thead th {\n",
       "        text-align: right;\n",
       "    }\n",
       "</style>\n",
       "<table border=\"1\" class=\"dataframe\">\n",
       "  <thead>\n",
       "    <tr style=\"text-align: right;\">\n",
       "      <th></th>\n",
       "      <th>A</th>\n",
       "      <th>B</th>\n",
       "      <th>C</th>\n",
       "      <th>D</th>\n",
       "    </tr>\n",
       "  </thead>\n",
       "  <tbody>\n",
       "    <tr>\n",
       "      <th>2018-04-03</th>\n",
       "      <td>0.995803</td>\n",
       "      <td>-0.285840</td>\n",
       "      <td>1.430982</td>\n",
       "      <td>1.893572</td>\n",
       "    </tr>\n",
       "    <tr>\n",
       "      <th>2018-04-04</th>\n",
       "      <td>2.283707</td>\n",
       "      <td>1.207510</td>\n",
       "      <td>0.140492</td>\n",
       "      <td>-1.144507</td>\n",
       "    </tr>\n",
       "    <tr>\n",
       "      <th>2018-04-06</th>\n",
       "      <td>0.485792</td>\n",
       "      <td>2.629013</td>\n",
       "      <td>-0.120410</td>\n",
       "      <td>-1.085401</td>\n",
       "    </tr>\n",
       "  </tbody>\n",
       "</table>\n",
       "</div>"
      ],
      "text/plain": [
       "                   A         B         C         D\n",
       "2018-04-03  0.995803 -0.285840  1.430982  1.893572\n",
       "2018-04-04  2.283707  1.207510  0.140492 -1.144507\n",
       "2018-04-06  0.485792  2.629013 -0.120410 -1.085401"
      ]
     },
     "execution_count": 31,
     "metadata": {},
     "output_type": "execute_result"
    }
   ],
   "source": [
    "df[df.A>0]"
   ]
  },
  {
   "cell_type": "code",
   "execution_count": 32,
   "metadata": {},
   "outputs": [
    {
     "data": {
      "text/plain": [
       "2018-04-03    0.995803\n",
       "2018-04-04    2.283707\n",
       "2018-04-06    0.485792\n",
       "Name: A, dtype: float64"
      ]
     },
     "execution_count": 32,
     "metadata": {},
     "output_type": "execute_result"
    }
   ],
   "source": [
    "df.A[df.A>0]"
   ]
  },
  {
   "cell_type": "code",
   "execution_count": 33,
   "metadata": {},
   "outputs": [
    {
     "data": {
      "text/plain": [
       "-0.8377604289612258"
      ]
     },
     "execution_count": 33,
     "metadata": {},
     "output_type": "execute_result"
    }
   ],
   "source": [
    "df.iat[0, 0]"
   ]
  },
  {
   "cell_type": "code",
   "execution_count": 34,
   "metadata": {},
   "outputs": [
    {
     "data": {
      "text/html": [
       "<div>\n",
       "<style scoped>\n",
       "    .dataframe tbody tr th:only-of-type {\n",
       "        vertical-align: middle;\n",
       "    }\n",
       "\n",
       "    .dataframe tbody tr th {\n",
       "        vertical-align: top;\n",
       "    }\n",
       "\n",
       "    .dataframe thead th {\n",
       "        text-align: right;\n",
       "    }\n",
       "</style>\n",
       "<table border=\"1\" class=\"dataframe\">\n",
       "  <thead>\n",
       "    <tr style=\"text-align: right;\">\n",
       "      <th></th>\n",
       "      <th>A</th>\n",
       "      <th>B</th>\n",
       "      <th>C</th>\n",
       "      <th>D</th>\n",
       "    </tr>\n",
       "  </thead>\n",
       "  <tbody>\n",
       "    <tr>\n",
       "      <th>2018-04-01</th>\n",
       "      <td>NaN</td>\n",
       "      <td>NaN</td>\n",
       "      <td>0.707946</td>\n",
       "      <td>NaN</td>\n",
       "    </tr>\n",
       "    <tr>\n",
       "      <th>2018-04-02</th>\n",
       "      <td>NaN</td>\n",
       "      <td>0.823872</td>\n",
       "      <td>NaN</td>\n",
       "      <td>NaN</td>\n",
       "    </tr>\n",
       "    <tr>\n",
       "      <th>2018-04-03</th>\n",
       "      <td>0.995803</td>\n",
       "      <td>NaN</td>\n",
       "      <td>1.430982</td>\n",
       "      <td>1.893572</td>\n",
       "    </tr>\n",
       "    <tr>\n",
       "      <th>2018-04-04</th>\n",
       "      <td>2.283707</td>\n",
       "      <td>1.207510</td>\n",
       "      <td>0.140492</td>\n",
       "      <td>NaN</td>\n",
       "    </tr>\n",
       "    <tr>\n",
       "      <th>2018-04-05</th>\n",
       "      <td>NaN</td>\n",
       "      <td>0.393925</td>\n",
       "      <td>NaN</td>\n",
       "      <td>0.094279</td>\n",
       "    </tr>\n",
       "    <tr>\n",
       "      <th>2018-04-06</th>\n",
       "      <td>0.485792</td>\n",
       "      <td>2.629013</td>\n",
       "      <td>NaN</td>\n",
       "      <td>NaN</td>\n",
       "    </tr>\n",
       "  </tbody>\n",
       "</table>\n",
       "</div>"
      ],
      "text/plain": [
       "                   A         B         C         D\n",
       "2018-04-01       NaN       NaN  0.707946       NaN\n",
       "2018-04-02       NaN  0.823872       NaN       NaN\n",
       "2018-04-03  0.995803       NaN  1.430982  1.893572\n",
       "2018-04-04  2.283707  1.207510  0.140492       NaN\n",
       "2018-04-05       NaN  0.393925       NaN  0.094279\n",
       "2018-04-06  0.485792  2.629013       NaN       NaN"
      ]
     },
     "execution_count": 34,
     "metadata": {},
     "output_type": "execute_result"
    }
   ],
   "source": [
    "df[df>0]"
   ]
  },
  {
   "cell_type": "code",
   "execution_count": 35,
   "metadata": {},
   "outputs": [
    {
     "data": {
      "text/html": [
       "<div>\n",
       "<style scoped>\n",
       "    .dataframe tbody tr th:only-of-type {\n",
       "        vertical-align: middle;\n",
       "    }\n",
       "\n",
       "    .dataframe tbody tr th {\n",
       "        vertical-align: top;\n",
       "    }\n",
       "\n",
       "    .dataframe thead th {\n",
       "        text-align: right;\n",
       "    }\n",
       "</style>\n",
       "<table border=\"1\" class=\"dataframe\">\n",
       "  <thead>\n",
       "    <tr style=\"text-align: right;\">\n",
       "      <th></th>\n",
       "      <th>A</th>\n",
       "      <th>B</th>\n",
       "      <th>C</th>\n",
       "      <th>D</th>\n",
       "      <th>E</th>\n",
       "    </tr>\n",
       "  </thead>\n",
       "  <tbody>\n",
       "    <tr>\n",
       "      <th>2018-04-01</th>\n",
       "      <td>-0.837760</td>\n",
       "      <td>-1.162111</td>\n",
       "      <td>0.707946</td>\n",
       "      <td>-0.548410</td>\n",
       "      <td>one</td>\n",
       "    </tr>\n",
       "    <tr>\n",
       "      <th>2018-04-02</th>\n",
       "      <td>-0.157229</td>\n",
       "      <td>0.823872</td>\n",
       "      <td>-0.113366</td>\n",
       "      <td>-0.576175</td>\n",
       "      <td>one</td>\n",
       "    </tr>\n",
       "    <tr>\n",
       "      <th>2018-04-03</th>\n",
       "      <td>0.995803</td>\n",
       "      <td>-0.285840</td>\n",
       "      <td>1.430982</td>\n",
       "      <td>1.893572</td>\n",
       "      <td>two</td>\n",
       "    </tr>\n",
       "    <tr>\n",
       "      <th>2018-04-04</th>\n",
       "      <td>2.283707</td>\n",
       "      <td>1.207510</td>\n",
       "      <td>0.140492</td>\n",
       "      <td>-1.144507</td>\n",
       "      <td>three</td>\n",
       "    </tr>\n",
       "    <tr>\n",
       "      <th>2018-04-05</th>\n",
       "      <td>-0.830126</td>\n",
       "      <td>0.393925</td>\n",
       "      <td>-0.240371</td>\n",
       "      <td>0.094279</td>\n",
       "      <td>four</td>\n",
       "    </tr>\n",
       "    <tr>\n",
       "      <th>2018-04-06</th>\n",
       "      <td>0.485792</td>\n",
       "      <td>2.629013</td>\n",
       "      <td>-0.120410</td>\n",
       "      <td>-1.085401</td>\n",
       "      <td>three</td>\n",
       "    </tr>\n",
       "  </tbody>\n",
       "</table>\n",
       "</div>"
      ],
      "text/plain": [
       "                   A         B         C         D      E\n",
       "2018-04-01 -0.837760 -1.162111  0.707946 -0.548410    one\n",
       "2018-04-02 -0.157229  0.823872 -0.113366 -0.576175    one\n",
       "2018-04-03  0.995803 -0.285840  1.430982  1.893572    two\n",
       "2018-04-04  2.283707  1.207510  0.140492 -1.144507  three\n",
       "2018-04-05 -0.830126  0.393925 -0.240371  0.094279   four\n",
       "2018-04-06  0.485792  2.629013 -0.120410 -1.085401  three"
      ]
     },
     "execution_count": 35,
     "metadata": {},
     "output_type": "execute_result"
    }
   ],
   "source": [
    "df2 = df.copy()\n",
    "df2['E'] = ['one', 'one','two','three','four','three']\n",
    "df2"
   ]
  },
  {
   "cell_type": "code",
   "execution_count": 36,
   "metadata": {},
   "outputs": [
    {
     "data": {
      "text/html": [
       "<div>\n",
       "<style scoped>\n",
       "    .dataframe tbody tr th:only-of-type {\n",
       "        vertical-align: middle;\n",
       "    }\n",
       "\n",
       "    .dataframe tbody tr th {\n",
       "        vertical-align: top;\n",
       "    }\n",
       "\n",
       "    .dataframe thead th {\n",
       "        text-align: right;\n",
       "    }\n",
       "</style>\n",
       "<table border=\"1\" class=\"dataframe\">\n",
       "  <thead>\n",
       "    <tr style=\"text-align: right;\">\n",
       "      <th></th>\n",
       "      <th>A</th>\n",
       "      <th>B</th>\n",
       "      <th>C</th>\n",
       "      <th>D</th>\n",
       "    </tr>\n",
       "  </thead>\n",
       "  <tbody>\n",
       "    <tr>\n",
       "      <th>2018-04-01</th>\n",
       "      <td>-0.837760</td>\n",
       "      <td>-1.162111</td>\n",
       "      <td>0.707946</td>\n",
       "      <td>-0.548410</td>\n",
       "    </tr>\n",
       "    <tr>\n",
       "      <th>2018-04-02</th>\n",
       "      <td>-0.157229</td>\n",
       "      <td>0.823872</td>\n",
       "      <td>-0.113366</td>\n",
       "      <td>-0.576175</td>\n",
       "    </tr>\n",
       "    <tr>\n",
       "      <th>2018-04-04</th>\n",
       "      <td>2.283707</td>\n",
       "      <td>1.207510</td>\n",
       "      <td>0.140492</td>\n",
       "      <td>-1.144507</td>\n",
       "    </tr>\n",
       "    <tr>\n",
       "      <th>2018-04-06</th>\n",
       "      <td>0.485792</td>\n",
       "      <td>2.629013</td>\n",
       "      <td>-0.120410</td>\n",
       "      <td>-1.085401</td>\n",
       "    </tr>\n",
       "  </tbody>\n",
       "</table>\n",
       "</div>"
      ],
      "text/plain": [
       "                   A         B         C         D\n",
       "2018-04-01 -0.837760 -1.162111  0.707946 -0.548410\n",
       "2018-04-02 -0.157229  0.823872 -0.113366 -0.576175\n",
       "2018-04-04  2.283707  1.207510  0.140492 -1.144507\n",
       "2018-04-06  0.485792  2.629013 -0.120410 -1.085401"
      ]
     },
     "execution_count": 36,
     "metadata": {},
     "output_type": "execute_result"
    }
   ],
   "source": [
    "df[df2['E'].isin(['one', 'three'])]"
   ]
  },
  {
   "cell_type": "code",
   "execution_count": 37,
   "metadata": {},
   "outputs": [
    {
     "data": {
      "text/plain": [
       "2018-04-01    1\n",
       "2018-04-02    2\n",
       "2018-04-03    3\n",
       "2018-04-04    4\n",
       "2018-04-05    5\n",
       "2018-04-06    6\n",
       "Freq: D, dtype: int64"
      ]
     },
     "execution_count": 37,
     "metadata": {},
     "output_type": "execute_result"
    }
   ],
   "source": [
    "s1 = pd.Series([1, 2, 3, 4, 5, 6], index=dates)\n",
    "s1"
   ]
  },
  {
   "cell_type": "code",
   "execution_count": 38,
   "metadata": {},
   "outputs": [
    {
     "data": {
      "text/html": [
       "<div>\n",
       "<style scoped>\n",
       "    .dataframe tbody tr th:only-of-type {\n",
       "        vertical-align: middle;\n",
       "    }\n",
       "\n",
       "    .dataframe tbody tr th {\n",
       "        vertical-align: top;\n",
       "    }\n",
       "\n",
       "    .dataframe thead th {\n",
       "        text-align: right;\n",
       "    }\n",
       "</style>\n",
       "<table border=\"1\" class=\"dataframe\">\n",
       "  <thead>\n",
       "    <tr style=\"text-align: right;\">\n",
       "      <th></th>\n",
       "      <th>A</th>\n",
       "      <th>B</th>\n",
       "      <th>C</th>\n",
       "      <th>D</th>\n",
       "      <th>F</th>\n",
       "    </tr>\n",
       "  </thead>\n",
       "  <tbody>\n",
       "    <tr>\n",
       "      <th>2018-04-01</th>\n",
       "      <td>-0.837760</td>\n",
       "      <td>-1.162111</td>\n",
       "      <td>0.707946</td>\n",
       "      <td>-0.548410</td>\n",
       "      <td>1</td>\n",
       "    </tr>\n",
       "    <tr>\n",
       "      <th>2018-04-02</th>\n",
       "      <td>-0.157229</td>\n",
       "      <td>0.823872</td>\n",
       "      <td>-0.113366</td>\n",
       "      <td>-0.576175</td>\n",
       "      <td>2</td>\n",
       "    </tr>\n",
       "    <tr>\n",
       "      <th>2018-04-03</th>\n",
       "      <td>0.995803</td>\n",
       "      <td>-0.285840</td>\n",
       "      <td>1.430982</td>\n",
       "      <td>1.893572</td>\n",
       "      <td>3</td>\n",
       "    </tr>\n",
       "    <tr>\n",
       "      <th>2018-04-04</th>\n",
       "      <td>2.283707</td>\n",
       "      <td>1.207510</td>\n",
       "      <td>0.140492</td>\n",
       "      <td>-1.144507</td>\n",
       "      <td>4</td>\n",
       "    </tr>\n",
       "    <tr>\n",
       "      <th>2018-04-05</th>\n",
       "      <td>-0.830126</td>\n",
       "      <td>0.393925</td>\n",
       "      <td>-0.240371</td>\n",
       "      <td>0.094279</td>\n",
       "      <td>5</td>\n",
       "    </tr>\n",
       "    <tr>\n",
       "      <th>2018-04-06</th>\n",
       "      <td>0.485792</td>\n",
       "      <td>2.629013</td>\n",
       "      <td>-0.120410</td>\n",
       "      <td>-1.085401</td>\n",
       "      <td>6</td>\n",
       "    </tr>\n",
       "  </tbody>\n",
       "</table>\n",
       "</div>"
      ],
      "text/plain": [
       "                   A         B         C         D  F\n",
       "2018-04-01 -0.837760 -1.162111  0.707946 -0.548410  1\n",
       "2018-04-02 -0.157229  0.823872 -0.113366 -0.576175  2\n",
       "2018-04-03  0.995803 -0.285840  1.430982  1.893572  3\n",
       "2018-04-04  2.283707  1.207510  0.140492 -1.144507  4\n",
       "2018-04-05 -0.830126  0.393925 -0.240371  0.094279  5\n",
       "2018-04-06  0.485792  2.629013 -0.120410 -1.085401  6"
      ]
     },
     "execution_count": 38,
     "metadata": {},
     "output_type": "execute_result"
    }
   ],
   "source": [
    "df['F'] = s1\n",
    "df"
   ]
  },
  {
   "cell_type": "code",
   "execution_count": 39,
   "metadata": {},
   "outputs": [
    {
     "data": {
      "text/html": [
       "<div>\n",
       "<style scoped>\n",
       "    .dataframe tbody tr th:only-of-type {\n",
       "        vertical-align: middle;\n",
       "    }\n",
       "\n",
       "    .dataframe tbody tr th {\n",
       "        vertical-align: top;\n",
       "    }\n",
       "\n",
       "    .dataframe thead th {\n",
       "        text-align: right;\n",
       "    }\n",
       "</style>\n",
       "<table border=\"1\" class=\"dataframe\">\n",
       "  <thead>\n",
       "    <tr style=\"text-align: right;\">\n",
       "      <th></th>\n",
       "      <th>A</th>\n",
       "      <th>B</th>\n",
       "      <th>C</th>\n",
       "      <th>D</th>\n",
       "      <th>F</th>\n",
       "    </tr>\n",
       "  </thead>\n",
       "  <tbody>\n",
       "    <tr>\n",
       "      <th>2018-04-01</th>\n",
       "      <td>0.000000</td>\n",
       "      <td>0.000000</td>\n",
       "      <td>0.707946</td>\n",
       "      <td>-0.548410</td>\n",
       "      <td>1</td>\n",
       "    </tr>\n",
       "    <tr>\n",
       "      <th>2018-04-02</th>\n",
       "      <td>-0.157229</td>\n",
       "      <td>0.823872</td>\n",
       "      <td>-0.113366</td>\n",
       "      <td>-0.576175</td>\n",
       "      <td>2</td>\n",
       "    </tr>\n",
       "    <tr>\n",
       "      <th>2018-04-03</th>\n",
       "      <td>0.995803</td>\n",
       "      <td>-0.285840</td>\n",
       "      <td>1.430982</td>\n",
       "      <td>1.893572</td>\n",
       "      <td>3</td>\n",
       "    </tr>\n",
       "    <tr>\n",
       "      <th>2018-04-04</th>\n",
       "      <td>2.283707</td>\n",
       "      <td>1.207510</td>\n",
       "      <td>0.140492</td>\n",
       "      <td>-1.144507</td>\n",
       "      <td>4</td>\n",
       "    </tr>\n",
       "    <tr>\n",
       "      <th>2018-04-05</th>\n",
       "      <td>-0.830126</td>\n",
       "      <td>0.393925</td>\n",
       "      <td>-0.240371</td>\n",
       "      <td>0.094279</td>\n",
       "      <td>5</td>\n",
       "    </tr>\n",
       "    <tr>\n",
       "      <th>2018-04-06</th>\n",
       "      <td>0.485792</td>\n",
       "      <td>2.629013</td>\n",
       "      <td>-0.120410</td>\n",
       "      <td>-1.085401</td>\n",
       "      <td>6</td>\n",
       "    </tr>\n",
       "  </tbody>\n",
       "</table>\n",
       "</div>"
      ],
      "text/plain": [
       "                   A         B         C         D  F\n",
       "2018-04-01  0.000000  0.000000  0.707946 -0.548410  1\n",
       "2018-04-02 -0.157229  0.823872 -0.113366 -0.576175  2\n",
       "2018-04-03  0.995803 -0.285840  1.430982  1.893572  3\n",
       "2018-04-04  2.283707  1.207510  0.140492 -1.144507  4\n",
       "2018-04-05 -0.830126  0.393925 -0.240371  0.094279  5\n",
       "2018-04-06  0.485792  2.629013 -0.120410 -1.085401  6"
      ]
     },
     "execution_count": 39,
     "metadata": {},
     "output_type": "execute_result"
    }
   ],
   "source": [
    "df.at[dates[0], 'A'] = 0\n",
    "df.iat[0, 1] = 0\n",
    "df"
   ]
  },
  {
   "cell_type": "code",
   "execution_count": 40,
   "metadata": {},
   "outputs": [
    {
     "data": {
      "text/html": [
       "<div>\n",
       "<style scoped>\n",
       "    .dataframe tbody tr th:only-of-type {\n",
       "        vertical-align: middle;\n",
       "    }\n",
       "\n",
       "    .dataframe tbody tr th {\n",
       "        vertical-align: top;\n",
       "    }\n",
       "\n",
       "    .dataframe thead th {\n",
       "        text-align: right;\n",
       "    }\n",
       "</style>\n",
       "<table border=\"1\" class=\"dataframe\">\n",
       "  <thead>\n",
       "    <tr style=\"text-align: right;\">\n",
       "      <th></th>\n",
       "      <th>A</th>\n",
       "      <th>B</th>\n",
       "      <th>C</th>\n",
       "      <th>D</th>\n",
       "      <th>F</th>\n",
       "    </tr>\n",
       "  </thead>\n",
       "  <tbody>\n",
       "    <tr>\n",
       "      <th>2018-04-01</th>\n",
       "      <td>0.000000</td>\n",
       "      <td>0.000000</td>\n",
       "      <td>0.707946</td>\n",
       "      <td>0.548410</td>\n",
       "      <td>1</td>\n",
       "    </tr>\n",
       "    <tr>\n",
       "      <th>2018-04-02</th>\n",
       "      <td>0.157229</td>\n",
       "      <td>0.823872</td>\n",
       "      <td>0.113366</td>\n",
       "      <td>0.576175</td>\n",
       "      <td>2</td>\n",
       "    </tr>\n",
       "    <tr>\n",
       "      <th>2018-04-03</th>\n",
       "      <td>0.995803</td>\n",
       "      <td>0.285840</td>\n",
       "      <td>1.430982</td>\n",
       "      <td>1.893572</td>\n",
       "      <td>3</td>\n",
       "    </tr>\n",
       "    <tr>\n",
       "      <th>2018-04-04</th>\n",
       "      <td>2.283707</td>\n",
       "      <td>1.207510</td>\n",
       "      <td>0.140492</td>\n",
       "      <td>1.144507</td>\n",
       "      <td>4</td>\n",
       "    </tr>\n",
       "    <tr>\n",
       "      <th>2018-04-05</th>\n",
       "      <td>0.830126</td>\n",
       "      <td>0.393925</td>\n",
       "      <td>0.240371</td>\n",
       "      <td>0.094279</td>\n",
       "      <td>5</td>\n",
       "    </tr>\n",
       "    <tr>\n",
       "      <th>2018-04-06</th>\n",
       "      <td>0.485792</td>\n",
       "      <td>2.629013</td>\n",
       "      <td>0.120410</td>\n",
       "      <td>1.085401</td>\n",
       "      <td>6</td>\n",
       "    </tr>\n",
       "  </tbody>\n",
       "</table>\n",
       "</div>"
      ],
      "text/plain": [
       "                   A         B         C         D  F\n",
       "2018-04-01  0.000000  0.000000  0.707946  0.548410  1\n",
       "2018-04-02  0.157229  0.823872  0.113366  0.576175  2\n",
       "2018-04-03  0.995803  0.285840  1.430982  1.893572  3\n",
       "2018-04-04  2.283707  1.207510  0.140492  1.144507  4\n",
       "2018-04-05  0.830126  0.393925  0.240371  0.094279  5\n",
       "2018-04-06  0.485792  2.629013  0.120410  1.085401  6"
      ]
     },
     "execution_count": 40,
     "metadata": {},
     "output_type": "execute_result"
    }
   ],
   "source": [
    "df2 = df.copy()\n",
    "df2[df<0] = -df\n",
    "df2"
   ]
  },
  {
   "cell_type": "code",
   "execution_count": 41,
   "metadata": {},
   "outputs": [
    {
     "data": {
      "text/html": [
       "<div>\n",
       "<style scoped>\n",
       "    .dataframe tbody tr th:only-of-type {\n",
       "        vertical-align: middle;\n",
       "    }\n",
       "\n",
       "    .dataframe tbody tr th {\n",
       "        vertical-align: top;\n",
       "    }\n",
       "\n",
       "    .dataframe thead th {\n",
       "        text-align: right;\n",
       "    }\n",
       "</style>\n",
       "<table border=\"1\" class=\"dataframe\">\n",
       "  <thead>\n",
       "    <tr style=\"text-align: right;\">\n",
       "      <th></th>\n",
       "      <th>A</th>\n",
       "      <th>C</th>\n",
       "      <th>E</th>\n",
       "    </tr>\n",
       "  </thead>\n",
       "  <tbody>\n",
       "    <tr>\n",
       "      <th>2018-04-01</th>\n",
       "      <td>0.000000</td>\n",
       "      <td>0.707946</td>\n",
       "      <td>NaN</td>\n",
       "    </tr>\n",
       "    <tr>\n",
       "      <th>2018-04-02</th>\n",
       "      <td>-0.157229</td>\n",
       "      <td>-0.113366</td>\n",
       "      <td>NaN</td>\n",
       "    </tr>\n",
       "    <tr>\n",
       "      <th>2018-04-03</th>\n",
       "      <td>0.995803</td>\n",
       "      <td>1.430982</td>\n",
       "      <td>NaN</td>\n",
       "    </tr>\n",
       "  </tbody>\n",
       "</table>\n",
       "</div>"
      ],
      "text/plain": [
       "                   A         C   E\n",
       "2018-04-01  0.000000  0.707946 NaN\n",
       "2018-04-02 -0.157229 -0.113366 NaN\n",
       "2018-04-03  0.995803  1.430982 NaN"
      ]
     },
     "execution_count": 41,
     "metadata": {},
     "output_type": "execute_result"
    }
   ],
   "source": [
    "df1 = df.reindex(index=dates[0:3], columns=list('AC')+['E'])\n",
    "df1"
   ]
  },
  {
   "cell_type": "code",
   "execution_count": 42,
   "metadata": {},
   "outputs": [
    {
     "data": {
      "text/html": [
       "<div>\n",
       "<style scoped>\n",
       "    .dataframe tbody tr th:only-of-type {\n",
       "        vertical-align: middle;\n",
       "    }\n",
       "\n",
       "    .dataframe tbody tr th {\n",
       "        vertical-align: top;\n",
       "    }\n",
       "\n",
       "    .dataframe thead th {\n",
       "        text-align: right;\n",
       "    }\n",
       "</style>\n",
       "<table border=\"1\" class=\"dataframe\">\n",
       "  <thead>\n",
       "    <tr style=\"text-align: right;\">\n",
       "      <th></th>\n",
       "      <th>A</th>\n",
       "      <th>C</th>\n",
       "      <th>E</th>\n",
       "    </tr>\n",
       "  </thead>\n",
       "  <tbody>\n",
       "    <tr>\n",
       "      <th>2018-04-01</th>\n",
       "      <td>0.000000</td>\n",
       "      <td>0.707946</td>\n",
       "      <td>1.0</td>\n",
       "    </tr>\n",
       "    <tr>\n",
       "      <th>2018-04-02</th>\n",
       "      <td>-0.157229</td>\n",
       "      <td>-0.113366</td>\n",
       "      <td>1.0</td>\n",
       "    </tr>\n",
       "    <tr>\n",
       "      <th>2018-04-03</th>\n",
       "      <td>0.995803</td>\n",
       "      <td>1.430982</td>\n",
       "      <td>NaN</td>\n",
       "    </tr>\n",
       "  </tbody>\n",
       "</table>\n",
       "</div>"
      ],
      "text/plain": [
       "                   A         C    E\n",
       "2018-04-01  0.000000  0.707946  1.0\n",
       "2018-04-02 -0.157229 -0.113366  1.0\n",
       "2018-04-03  0.995803  1.430982  NaN"
      ]
     },
     "execution_count": 42,
     "metadata": {},
     "output_type": "execute_result"
    }
   ],
   "source": [
    "df1.loc[dates[0:2], 'E'] = 1\n",
    "df1"
   ]
  },
  {
   "cell_type": "code",
   "execution_count": 43,
   "metadata": {},
   "outputs": [
    {
     "data": {
      "text/html": [
       "<div>\n",
       "<style scoped>\n",
       "    .dataframe tbody tr th:only-of-type {\n",
       "        vertical-align: middle;\n",
       "    }\n",
       "\n",
       "    .dataframe tbody tr th {\n",
       "        vertical-align: top;\n",
       "    }\n",
       "\n",
       "    .dataframe thead th {\n",
       "        text-align: right;\n",
       "    }\n",
       "</style>\n",
       "<table border=\"1\" class=\"dataframe\">\n",
       "  <thead>\n",
       "    <tr style=\"text-align: right;\">\n",
       "      <th></th>\n",
       "      <th>A</th>\n",
       "      <th>C</th>\n",
       "      <th>E</th>\n",
       "    </tr>\n",
       "  </thead>\n",
       "  <tbody>\n",
       "    <tr>\n",
       "      <th>2018-04-01</th>\n",
       "      <td>0.000000</td>\n",
       "      <td>0.707946</td>\n",
       "      <td>1.0</td>\n",
       "    </tr>\n",
       "    <tr>\n",
       "      <th>2018-04-02</th>\n",
       "      <td>-0.157229</td>\n",
       "      <td>-0.113366</td>\n",
       "      <td>1.0</td>\n",
       "    </tr>\n",
       "  </tbody>\n",
       "</table>\n",
       "</div>"
      ],
      "text/plain": [
       "                   A         C    E\n",
       "2018-04-01  0.000000  0.707946  1.0\n",
       "2018-04-02 -0.157229 -0.113366  1.0"
      ]
     },
     "execution_count": 43,
     "metadata": {},
     "output_type": "execute_result"
    }
   ],
   "source": [
    "df1.dropna(how='any')"
   ]
  },
  {
   "cell_type": "code",
   "execution_count": 44,
   "metadata": {},
   "outputs": [
    {
     "data": {
      "text/html": [
       "<div>\n",
       "<style scoped>\n",
       "    .dataframe tbody tr th:only-of-type {\n",
       "        vertical-align: middle;\n",
       "    }\n",
       "\n",
       "    .dataframe tbody tr th {\n",
       "        vertical-align: top;\n",
       "    }\n",
       "\n",
       "    .dataframe thead th {\n",
       "        text-align: right;\n",
       "    }\n",
       "</style>\n",
       "<table border=\"1\" class=\"dataframe\">\n",
       "  <thead>\n",
       "    <tr style=\"text-align: right;\">\n",
       "      <th></th>\n",
       "      <th>A</th>\n",
       "      <th>C</th>\n",
       "      <th>E</th>\n",
       "    </tr>\n",
       "  </thead>\n",
       "  <tbody>\n",
       "    <tr>\n",
       "      <th>2018-04-01</th>\n",
       "      <td>0.000000</td>\n",
       "      <td>0.707946</td>\n",
       "      <td>1.000000</td>\n",
       "    </tr>\n",
       "    <tr>\n",
       "      <th>2018-04-02</th>\n",
       "      <td>-0.157229</td>\n",
       "      <td>-0.113366</td>\n",
       "      <td>1.000000</td>\n",
       "    </tr>\n",
       "    <tr>\n",
       "      <th>2018-04-03</th>\n",
       "      <td>0.995803</td>\n",
       "      <td>1.430982</td>\n",
       "      <td>3.141593</td>\n",
       "    </tr>\n",
       "  </tbody>\n",
       "</table>\n",
       "</div>"
      ],
      "text/plain": [
       "                   A         C         E\n",
       "2018-04-01  0.000000  0.707946  1.000000\n",
       "2018-04-02 -0.157229 -0.113366  1.000000\n",
       "2018-04-03  0.995803  1.430982  3.141593"
      ]
     },
     "execution_count": 44,
     "metadata": {},
     "output_type": "execute_result"
    }
   ],
   "source": [
    "df1.fillna(value=np.pi)"
   ]
  },
  {
   "cell_type": "code",
   "execution_count": 45,
   "metadata": {},
   "outputs": [
    {
     "data": {
      "text/plain": [
       "Timestamp('2018-04-01 02:46:39', freq='S')"
      ]
     },
     "execution_count": 45,
     "metadata": {},
     "output_type": "execute_result"
    }
   ],
   "source": [
    "rng = pd.date_range('20180401', periods=10000, freq='S')\n",
    "rng[-1]"
   ]
  },
  {
   "cell_type": "code",
   "execution_count": 46,
   "metadata": {},
   "outputs": [],
   "source": [
    "ts = pd.Series(np.random.randn(len(rng)), index=rng)"
   ]
  },
  {
   "cell_type": "code",
   "execution_count": 47,
   "metadata": {},
   "outputs": [
    {
     "data": {
      "text/plain": [
       "2018-04-01 00:00:00    0.969999\n",
       "2018-04-01 00:01:00    0.755545\n",
       "2018-04-01 00:02:00    1.029581\n",
       "2018-04-01 00:03:00    1.040126\n",
       "2018-04-01 00:04:00    0.981799\n",
       "2018-04-01 00:05:00    0.938418\n",
       "2018-04-01 00:06:00    0.968682\n",
       "2018-04-01 00:07:00    0.823235\n",
       "2018-04-01 00:08:00    0.953679\n",
       "2018-04-01 00:09:00    1.039354\n",
       "2018-04-01 00:10:00    0.893105\n",
       "2018-04-01 00:11:00    0.893763\n",
       "2018-04-01 00:12:00    0.990411\n",
       "2018-04-01 00:13:00    1.012412\n",
       "2018-04-01 00:14:00    0.991357\n",
       "2018-04-01 00:15:00    0.756460\n",
       "2018-04-01 00:16:00    1.099183\n",
       "2018-04-01 00:17:00    1.045813\n",
       "2018-04-01 00:18:00    1.025165\n",
       "2018-04-01 00:19:00    1.146797\n",
       "2018-04-01 00:20:00    1.153176\n",
       "2018-04-01 00:21:00    0.985608\n",
       "2018-04-01 00:22:00    1.053720\n",
       "2018-04-01 00:23:00    0.952993\n",
       "2018-04-01 00:24:00    0.837462\n",
       "2018-04-01 00:25:00    1.060651\n",
       "2018-04-01 00:26:00    0.980772\n",
       "2018-04-01 00:27:00    1.067354\n",
       "2018-04-01 00:28:00    1.062029\n",
       "2018-04-01 00:29:00    0.903244\n",
       "                         ...   \n",
       "2018-04-01 02:17:00    1.012161\n",
       "2018-04-01 02:18:00    0.961396\n",
       "2018-04-01 02:19:00    1.059131\n",
       "2018-04-01 02:20:00    0.998227\n",
       "2018-04-01 02:21:00    1.101237\n",
       "2018-04-01 02:22:00    0.923044\n",
       "2018-04-01 02:23:00    1.098617\n",
       "2018-04-01 02:24:00    1.128303\n",
       "2018-04-01 02:25:00    1.059803\n",
       "2018-04-01 02:26:00    0.955791\n",
       "2018-04-01 02:27:00    1.150591\n",
       "2018-04-01 02:28:00    0.845856\n",
       "2018-04-01 02:29:00    1.000615\n",
       "2018-04-01 02:30:00    1.004949\n",
       "2018-04-01 02:31:00    1.016394\n",
       "2018-04-01 02:32:00    1.094618\n",
       "2018-04-01 02:33:00    0.963262\n",
       "2018-04-01 02:34:00    1.104047\n",
       "2018-04-01 02:35:00    0.871221\n",
       "2018-04-01 02:36:00    0.860512\n",
       "2018-04-01 02:37:00    0.968746\n",
       "2018-04-01 02:38:00    1.082310\n",
       "2018-04-01 02:39:00    1.179052\n",
       "2018-04-01 02:40:00    0.987554\n",
       "2018-04-01 02:41:00    0.917417\n",
       "2018-04-01 02:42:00    0.953485\n",
       "2018-04-01 02:43:00    1.072430\n",
       "2018-04-01 02:44:00    1.040449\n",
       "2018-04-01 02:45:00    1.057319\n",
       "2018-04-01 02:46:00    0.991803\n",
       "Freq: T, Length: 167, dtype: float64"
      ]
     },
     "execution_count": 47,
     "metadata": {},
     "output_type": "execute_result"
    }
   ],
   "source": [
    "ts.resample('min').apply(np.std)"
   ]
  },
  {
   "cell_type": "code",
   "execution_count": 48,
   "metadata": {},
   "outputs": [
    {
     "data": {
      "text/plain": [
       "2018-01-31    1.070091\n",
       "2018-02-28   -0.862953\n",
       "2018-03-31   -0.470604\n",
       "2018-04-30   -0.066626\n",
       "2018-05-31    0.251428\n",
       "2018-06-30   -0.257791\n",
       "2018-07-31    0.195377\n",
       "2018-08-31    0.922431\n",
       "2018-09-30    0.304069\n",
       "2018-10-31    2.000769\n",
       "Freq: M, dtype: float64"
      ]
     },
     "execution_count": 48,
     "metadata": {},
     "output_type": "execute_result"
    }
   ],
   "source": [
    "rng = pd.date_range('20180101', periods=10, freq='M')\n",
    "tm = pd.Series(np.random.randn(len(rng)), index=rng)\n",
    "tm"
   ]
  },
  {
   "cell_type": "code",
   "execution_count": 49,
   "metadata": {},
   "outputs": [
    {
     "data": {
      "text/plain": [
       "2018-01    1.070091\n",
       "2018-02   -0.862953\n",
       "2018-03   -0.470604\n",
       "2018-04   -0.066626\n",
       "2018-05    0.251428\n",
       "2018-06   -0.257791\n",
       "2018-07    0.195377\n",
       "2018-08    0.922431\n",
       "2018-09    0.304069\n",
       "2018-10    2.000769\n",
       "Freq: M, dtype: float64"
      ]
     },
     "execution_count": 49,
     "metadata": {},
     "output_type": "execute_result"
    }
   ],
   "source": [
    "ps = tm.to_period()\n",
    "ps"
   ]
  },
  {
   "cell_type": "code",
   "execution_count": 50,
   "metadata": {},
   "outputs": [
    {
     "data": {
      "text/plain": [
       "<bound method Series.to_timestamp of 2018-01-31    1.070091\n",
       "2018-02-28   -0.862953\n",
       "2018-03-31   -0.470604\n",
       "2018-04-30   -0.066626\n",
       "2018-05-31    0.251428\n",
       "2018-06-30   -0.257791\n",
       "2018-07-31    0.195377\n",
       "2018-08-31    0.922431\n",
       "2018-09-30    0.304069\n",
       "2018-10-31    2.000769\n",
       "Freq: M, dtype: float64>"
      ]
     },
     "execution_count": 50,
     "metadata": {},
     "output_type": "execute_result"
    }
   ],
   "source": [
    "tm.to_timestamp"
   ]
  },
  {
   "cell_type": "code",
   "execution_count": 51,
   "metadata": {},
   "outputs": [
    {
     "data": {
      "text/plain": [
       "1990Q1    0.956273\n",
       "1990Q2   -0.486786\n",
       "1990Q3    0.164034\n",
       "1990Q4    0.551752\n",
       "1991Q1    0.134104\n",
       "1991Q2    0.359670\n",
       "1991Q3   -0.975291\n",
       "1991Q4   -1.278245\n",
       "1992Q1    0.236342\n",
       "1992Q2   -1.467345\n",
       "1992Q3   -1.719167\n",
       "1992Q4    0.753455\n",
       "1993Q1   -0.866702\n",
       "1993Q2   -0.448371\n",
       "1993Q3    0.460597\n",
       "1993Q4    0.167116\n",
       "1994Q1    1.537225\n",
       "1994Q2   -0.880608\n",
       "1994Q3   -0.775597\n",
       "1994Q4   -0.348144\n",
       "1995Q1    1.290931\n",
       "1995Q2   -0.284009\n",
       "1995Q3   -0.044284\n",
       "1995Q4   -1.469292\n",
       "1996Q1   -0.744488\n",
       "1996Q2   -1.198450\n",
       "1996Q3   -1.013302\n",
       "1996Q4   -1.095229\n",
       "1997Q1   -0.066550\n",
       "1997Q2    0.616268\n",
       "1997Q3    0.014159\n",
       "1997Q4    1.086320\n",
       "1998Q1   -0.373493\n",
       "1998Q2    0.632043\n",
       "1998Q3   -0.304255\n",
       "1998Q4   -0.864217\n",
       "1999Q1    1.155797\n",
       "1999Q2    1.503148\n",
       "1999Q3   -0.914327\n",
       "1999Q4    0.416074\n",
       "2000Q1    0.794596\n",
       "2000Q2    0.824588\n",
       "2000Q3    1.302110\n",
       "2000Q4   -0.517123\n",
       "Freq: Q-NOV, dtype: float64"
      ]
     },
     "execution_count": 51,
     "metadata": {},
     "output_type": "execute_result"
    }
   ],
   "source": [
    "prng = pd.period_range('1990Q1', '2000Q4', freq='Q-NOV')\n",
    "ts = pd.Series(np.random.randn(len(prng)), prng)\n",
    "ts"
   ]
  },
  {
   "cell_type": "code",
   "execution_count": 52,
   "metadata": {},
   "outputs": [
    {
     "data": {
      "text/plain": [
       "PeriodIndex(['1990-02', '1990-05', '1990-08', '1990-11', '1991-02', '1991-05',\n",
       "             '1991-08', '1991-11', '1992-02', '1992-05', '1992-08', '1992-11',\n",
       "             '1993-02', '1993-05', '1993-08', '1993-11', '1994-02', '1994-05',\n",
       "             '1994-08', '1994-11', '1995-02', '1995-05', '1995-08', '1995-11',\n",
       "             '1996-02', '1996-05', '1996-08', '1996-11', '1997-02', '1997-05',\n",
       "             '1997-08', '1997-11', '1998-02', '1998-05', '1998-08', '1998-11',\n",
       "             '1999-02', '1999-05', '1999-08', '1999-11', '2000-02', '2000-05',\n",
       "             '2000-08', '2000-11'],\n",
       "            dtype='period[M]', freq='M')"
      ]
     },
     "execution_count": 52,
     "metadata": {},
     "output_type": "execute_result"
    }
   ],
   "source": [
    "prng.asfreq('M', 'e')"
   ]
  },
  {
   "cell_type": "code",
   "execution_count": 53,
   "metadata": {},
   "outputs": [
    {
     "data": {
      "text/html": [
       "<div>\n",
       "<style scoped>\n",
       "    .dataframe tbody tr th:only-of-type {\n",
       "        vertical-align: middle;\n",
       "    }\n",
       "\n",
       "    .dataframe tbody tr th {\n",
       "        vertical-align: top;\n",
       "    }\n",
       "\n",
       "    .dataframe thead th {\n",
       "        text-align: right;\n",
       "    }\n",
       "</style>\n",
       "<table border=\"1\" class=\"dataframe\">\n",
       "  <thead>\n",
       "    <tr style=\"text-align: right;\">\n",
       "      <th></th>\n",
       "      <th>id</th>\n",
       "      <th>raw_grade</th>\n",
       "    </tr>\n",
       "  </thead>\n",
       "  <tbody>\n",
       "    <tr>\n",
       "      <th>0</th>\n",
       "      <td>1</td>\n",
       "      <td>a</td>\n",
       "    </tr>\n",
       "    <tr>\n",
       "      <th>1</th>\n",
       "      <td>2</td>\n",
       "      <td>b</td>\n",
       "    </tr>\n",
       "    <tr>\n",
       "      <th>2</th>\n",
       "      <td>3</td>\n",
       "      <td>b</td>\n",
       "    </tr>\n",
       "    <tr>\n",
       "      <th>3</th>\n",
       "      <td>4</td>\n",
       "      <td>a</td>\n",
       "    </tr>\n",
       "    <tr>\n",
       "      <th>4</th>\n",
       "      <td>5</td>\n",
       "      <td>a</td>\n",
       "    </tr>\n",
       "    <tr>\n",
       "      <th>5</th>\n",
       "      <td>6</td>\n",
       "      <td>e</td>\n",
       "    </tr>\n",
       "  </tbody>\n",
       "</table>\n",
       "</div>"
      ],
      "text/plain": [
       "   id raw_grade\n",
       "0   1         a\n",
       "1   2         b\n",
       "2   3         b\n",
       "3   4         a\n",
       "4   5         a\n",
       "5   6         e"
      ]
     },
     "execution_count": 53,
     "metadata": {},
     "output_type": "execute_result"
    }
   ],
   "source": [
    "df = pd.DataFrame({\"id\":[1,2,3,4,5,6], \"raw_grade\":['a', 'b', 'b', 'a', 'a', 'e']})\n",
    "df"
   ]
  },
  {
   "cell_type": "code",
   "execution_count": 54,
   "metadata": {},
   "outputs": [
    {
     "data": {
      "text/plain": [
       "id              int64\n",
       "raw_grade      object\n",
       "grade        category\n",
       "dtype: object"
      ]
     },
     "execution_count": 54,
     "metadata": {},
     "output_type": "execute_result"
    }
   ],
   "source": [
    "df['grade'] = df.raw_grade.astype('category')\n",
    "df.dtypes"
   ]
  },
  {
   "cell_type": "code",
   "execution_count": 55,
   "metadata": {},
   "outputs": [
    {
     "data": {
      "text/html": [
       "<div>\n",
       "<style scoped>\n",
       "    .dataframe tbody tr th:only-of-type {\n",
       "        vertical-align: middle;\n",
       "    }\n",
       "\n",
       "    .dataframe tbody tr th {\n",
       "        vertical-align: top;\n",
       "    }\n",
       "\n",
       "    .dataframe thead th {\n",
       "        text-align: right;\n",
       "    }\n",
       "</style>\n",
       "<table border=\"1\" class=\"dataframe\">\n",
       "  <thead>\n",
       "    <tr style=\"text-align: right;\">\n",
       "      <th></th>\n",
       "      <th>id</th>\n",
       "      <th>raw_grade</th>\n",
       "      <th>grade</th>\n",
       "    </tr>\n",
       "  </thead>\n",
       "  <tbody>\n",
       "    <tr>\n",
       "      <th>0</th>\n",
       "      <td>1</td>\n",
       "      <td>a</td>\n",
       "      <td>ha</td>\n",
       "    </tr>\n",
       "    <tr>\n",
       "      <th>3</th>\n",
       "      <td>4</td>\n",
       "      <td>a</td>\n",
       "      <td>ha</td>\n",
       "    </tr>\n",
       "    <tr>\n",
       "      <th>4</th>\n",
       "      <td>5</td>\n",
       "      <td>a</td>\n",
       "      <td>ha</td>\n",
       "    </tr>\n",
       "    <tr>\n",
       "      <th>1</th>\n",
       "      <td>2</td>\n",
       "      <td>b</td>\n",
       "      <td>hahaha</td>\n",
       "    </tr>\n",
       "    <tr>\n",
       "      <th>2</th>\n",
       "      <td>3</td>\n",
       "      <td>b</td>\n",
       "      <td>hahaha</td>\n",
       "    </tr>\n",
       "    <tr>\n",
       "      <th>5</th>\n",
       "      <td>6</td>\n",
       "      <td>e</td>\n",
       "      <td>haha</td>\n",
       "    </tr>\n",
       "  </tbody>\n",
       "</table>\n",
       "</div>"
      ],
      "text/plain": [
       "   id raw_grade   grade\n",
       "0   1         a      ha\n",
       "3   4         a      ha\n",
       "4   5         a      ha\n",
       "1   2         b  hahaha\n",
       "2   3         b  hahaha\n",
       "5   6         e    haha"
      ]
     },
     "execution_count": 55,
     "metadata": {},
     "output_type": "execute_result"
    }
   ],
   "source": [
    "df['grade'].cat.categories = [\"ha\", \"hahaha\", \"haha\"]\n",
    "df.sort_values(by='grade', ascending=True)"
   ]
  },
  {
   "cell_type": "code",
   "execution_count": 56,
   "metadata": {},
   "outputs": [
    {
     "data": {
      "text/plain": [
       "<matplotlib.axes._subplots.AxesSubplot at 0x293d40d9e80>"
      ]
     },
     "execution_count": 56,
     "metadata": {},
     "output_type": "execute_result"
    },
    {
     "data": {
      "image/png": "[encoded data removed]",
      "text/plain": [
       "<Figure size 432x288 with 1 Axes>"
      ]
     },
     "metadata": {},
     "output_type": "display_data"
    }
   ],
   "source": [
    "%matplotlib inline\n",
    "ts = pd.Series(np.random.randn(1000), index=pd.date_range('20180401', periods=1000))\n",
    "ts.plot()"
   ]
  },
  {
   "cell_type": "code",
   "execution_count": 57,
   "metadata": {},
   "outputs": [
    {
     "data": {
      "text/plain": [
       "<matplotlib.axes._subplots.AxesSubplot at 0x293d4460438>"
      ]
     },
     "execution_count": 57,
     "metadata": {},
     "output_type": "execute_result"
    },
    {
     "data": {
      "image/png": "[encoded data removed]",
      "text/plain": [
       "<Figure size 432x288 with 1 Axes>"
      ]
     },
     "metadata": {},
     "output_type": "display_data"
    }
   ],
   "source": [
    "ts = ts.cumsum()\n",
    "ts.plot()"
   ]
  },
  {
   "cell_type": "code",
   "execution_count": 58,
   "metadata": {},
   "outputs": [
    {
     "data": {
      "text/plain": [
       "<matplotlib.axes._subplots.AxesSubplot at 0x293d457a978>"
      ]
     },
     "execution_count": 58,
     "metadata": {},
     "output_type": "execute_result"
    },
    {
     "data": {
      "image/png": "[encoded data removed]",
      "text/plain": [
       "<Figure size 432x288 with 1 Axes>"
      ]
     },
     "metadata": {},
     "output_type": "display_data"
    }
   ],
   "source": [
    "df = pd.DataFrame(np.random.randn(1000, 4), index=ts.index,\n",
    "   .....:                   columns=['A', 'B', 'C', 'D'])\n",
    "df = df.cumsum()\n",
    "df.plot()"
   ]
  },
  {
   "cell_type": "code",
   "execution_count": 59,
   "metadata": {},
   "outputs": [],
   "source": [
    "store = pd.HDFStore('store.h5')"
   ]
  },
  {
   "cell_type": "code",
   "execution_count": 64,
   "metadata": {},
   "outputs": [
    {
     "data": {
      "text/plain": [
       "<class 'pandas.io.pytables.HDFStore'>\n",
       "File path: store.h5"
      ]
     },
     "execution_count": 64,
     "metadata": {},
     "output_type": "execute_result"
    }
   ],
   "source": [
    "store['df'] = df\n",
    "store['df1'] = df1\n",
    "store['df2'] = df2\n",
    "store"
   ]
  },
  {
   "cell_type": "code",
   "execution_count": 68,
   "metadata": {},
   "outputs": [],
   "source": [
    "df.to_hdf('test.h5', 'table', append=True)"
   ]
  },
  {
   "cell_type": "code",
   "execution_count": null,
   "metadata": {},
   "outputs": [],
   "source": []
  }
 ],
 "metadata": {
  "kernelspec": {
   "display_name": "Python 3",
   "language": "python",
   "name": "python3"
  },
  "language_info": {
   "codemirror_mode": {
    "name": "ipython",
    "version": 3
   },
   "file_extension": ".py",
   "mimetype": "text/x-python",
   "name": "python",
   "nbconvert_exporter": "python",
   "pygments_lexer": "ipython3",
   "version": "3.6.4"
  }
 },
 "nbformat": 4,
 "nbformat_minor": 2
}
